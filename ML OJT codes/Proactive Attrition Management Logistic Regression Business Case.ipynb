{
 "cells": [
  {
   "cell_type": "code",
   "execution_count": 37,
   "metadata": {},
   "outputs": [],
   "source": [
    "import os\n",
    "import pandas as pd \n",
    "import numpy as np\n",
    "import csv\n",
    "import seaborn as sns\n",
    "import matplotlib.pyplot as plt\n",
    "from sklearn.model_selection import train_test_split\n",
    "from sklearn.metrics import classification_report\n",
    "from sklearn.linear_model import LogisticRegression"
   ]
  },
  {
   "cell_type": "code",
   "execution_count": 2,
   "metadata": {},
   "outputs": [],
   "source": [
    "c2c=pd.read_csv(\"Proactive Attrition Management-Logistic Regression Case Study.csv\")"
   ]
  },
  {
   "cell_type": "code",
   "execution_count": 3,
   "metadata": {},
   "outputs": [],
   "source": [
    "pd.set_option('display.max_columns', None)"
   ]
  },
  {
   "cell_type": "code",
   "execution_count": 4,
   "metadata": {
    "scrolled": true
   },
   "outputs": [
    {
     "data": {
      "text/html": [
       "<div>\n",
       "<style scoped>\n",
       "    .dataframe tbody tr th:only-of-type {\n",
       "        vertical-align: middle;\n",
       "    }\n",
       "\n",
       "    .dataframe tbody tr th {\n",
       "        vertical-align: top;\n",
       "    }\n",
       "\n",
       "    .dataframe thead th {\n",
       "        text-align: right;\n",
       "    }\n",
       "</style>\n",
       "<table border=\"1\" class=\"dataframe\">\n",
       "  <thead>\n",
       "    <tr style=\"text-align: right;\">\n",
       "      <th></th>\n",
       "      <th>REVENUE</th>\n",
       "      <th>MOU</th>\n",
       "      <th>RECCHRGE</th>\n",
       "      <th>DIRECTAS</th>\n",
       "      <th>OVERAGE</th>\n",
       "      <th>ROAM</th>\n",
       "      <th>CHANGEM</th>\n",
       "      <th>CHANGER</th>\n",
       "      <th>DROPVCE</th>\n",
       "      <th>BLCKVCE</th>\n",
       "      <th>UNANSVCE</th>\n",
       "      <th>CUSTCARE</th>\n",
       "      <th>THREEWAY</th>\n",
       "      <th>MOUREC</th>\n",
       "      <th>OUTCALLS</th>\n",
       "      <th>INCALLS</th>\n",
       "      <th>PEAKVCE</th>\n",
       "      <th>OPEAKVCE</th>\n",
       "      <th>DROPBLK</th>\n",
       "      <th>CALLFWDV</th>\n",
       "      <th>CALLWAIT</th>\n",
       "      <th>CHURN</th>\n",
       "      <th>MONTHS</th>\n",
       "      <th>UNIQSUBS</th>\n",
       "      <th>ACTVSUBS</th>\n",
       "      <th>CSA</th>\n",
       "      <th>PHONES</th>\n",
       "      <th>MODELS</th>\n",
       "      <th>EQPDAYS</th>\n",
       "      <th>CUSTOMER</th>\n",
       "      <th>AGE1</th>\n",
       "      <th>AGE2</th>\n",
       "      <th>CHILDREN</th>\n",
       "      <th>CREDITA</th>\n",
       "      <th>CREDITAA</th>\n",
       "      <th>CREDITB</th>\n",
       "      <th>CREDITC</th>\n",
       "      <th>CREDITDE</th>\n",
       "      <th>CREDITGY</th>\n",
       "      <th>CREDITZ</th>\n",
       "      <th>PRIZMRUR</th>\n",
       "      <th>PRIZMUB</th>\n",
       "      <th>PRIZMTWN</th>\n",
       "      <th>REFURB</th>\n",
       "      <th>WEBCAP</th>\n",
       "      <th>TRUCK</th>\n",
       "      <th>RV</th>\n",
       "      <th>OCCPROF</th>\n",
       "      <th>OCCCLER</th>\n",
       "      <th>OCCCRFT</th>\n",
       "      <th>OCCSTUD</th>\n",
       "      <th>OCCHMKR</th>\n",
       "      <th>OCCRET</th>\n",
       "      <th>OCCSELF</th>\n",
       "      <th>OWNRENT</th>\n",
       "      <th>MARRYUN</th>\n",
       "      <th>MARRYYES</th>\n",
       "      <th>MARRYNO</th>\n",
       "      <th>MAILORD</th>\n",
       "      <th>MAILRES</th>\n",
       "      <th>MAILFLAG</th>\n",
       "      <th>TRAVEL</th>\n",
       "      <th>PCOWN</th>\n",
       "      <th>CREDITCD</th>\n",
       "      <th>RETCALLS</th>\n",
       "      <th>RETACCPT</th>\n",
       "      <th>NEWCELLY</th>\n",
       "      <th>NEWCELLN</th>\n",
       "      <th>REFER</th>\n",
       "      <th>INCMISS</th>\n",
       "      <th>INCOME</th>\n",
       "      <th>MCYCLE</th>\n",
       "      <th>CREDITAD</th>\n",
       "      <th>SETPRCM</th>\n",
       "      <th>SETPRC</th>\n",
       "      <th>RETCALL</th>\n",
       "      <th>CALIBRAT</th>\n",
       "      <th>CHURNDEP</th>\n",
       "    </tr>\n",
       "  </thead>\n",
       "  <tbody>\n",
       "    <tr>\n",
       "      <th>0</th>\n",
       "      <td>57.49</td>\n",
       "      <td>482.75</td>\n",
       "      <td>37.43</td>\n",
       "      <td>0.25</td>\n",
       "      <td>22.75</td>\n",
       "      <td>0.00</td>\n",
       "      <td>532.25</td>\n",
       "      <td>50.99</td>\n",
       "      <td>8.33</td>\n",
       "      <td>1.00</td>\n",
       "      <td>61.33</td>\n",
       "      <td>1.67</td>\n",
       "      <td>0.33</td>\n",
       "      <td>55.28</td>\n",
       "      <td>46.33</td>\n",
       "      <td>6.33</td>\n",
       "      <td>83.67</td>\n",
       "      <td>157.00</td>\n",
       "      <td>9.33</td>\n",
       "      <td>0.0</td>\n",
       "      <td>5.67</td>\n",
       "      <td>0</td>\n",
       "      <td>56</td>\n",
       "      <td>1</td>\n",
       "      <td>1</td>\n",
       "      <td>MILMIL414</td>\n",
       "      <td>7.0</td>\n",
       "      <td>6.0</td>\n",
       "      <td>240.0</td>\n",
       "      <td>1000002</td>\n",
       "      <td>30.0</td>\n",
       "      <td>0.0</td>\n",
       "      <td>0</td>\n",
       "      <td>0</td>\n",
       "      <td>0</td>\n",
       "      <td>0</td>\n",
       "      <td>0</td>\n",
       "      <td>1</td>\n",
       "      <td>0</td>\n",
       "      <td>0</td>\n",
       "      <td>0</td>\n",
       "      <td>0</td>\n",
       "      <td>0</td>\n",
       "      <td>0</td>\n",
       "      <td>1</td>\n",
       "      <td>1</td>\n",
       "      <td>1</td>\n",
       "      <td>0</td>\n",
       "      <td>0</td>\n",
       "      <td>0</td>\n",
       "      <td>0</td>\n",
       "      <td>0</td>\n",
       "      <td>0</td>\n",
       "      <td>0</td>\n",
       "      <td>1</td>\n",
       "      <td>0</td>\n",
       "      <td>0</td>\n",
       "      <td>1</td>\n",
       "      <td>1</td>\n",
       "      <td>1</td>\n",
       "      <td>0</td>\n",
       "      <td>0</td>\n",
       "      <td>0</td>\n",
       "      <td>1</td>\n",
       "      <td>0</td>\n",
       "      <td>0</td>\n",
       "      <td>0</td>\n",
       "      <td>1</td>\n",
       "      <td>0</td>\n",
       "      <td>0</td>\n",
       "      <td>5</td>\n",
       "      <td>0</td>\n",
       "      <td>1</td>\n",
       "      <td>0</td>\n",
       "      <td>149.99</td>\n",
       "      <td>0</td>\n",
       "      <td>0</td>\n",
       "      <td>NaN</td>\n",
       "    </tr>\n",
       "    <tr>\n",
       "      <th>1</th>\n",
       "      <td>82.28</td>\n",
       "      <td>1312.25</td>\n",
       "      <td>75.00</td>\n",
       "      <td>1.24</td>\n",
       "      <td>0.00</td>\n",
       "      <td>0.00</td>\n",
       "      <td>156.75</td>\n",
       "      <td>8.14</td>\n",
       "      <td>52.00</td>\n",
       "      <td>7.67</td>\n",
       "      <td>76.00</td>\n",
       "      <td>4.33</td>\n",
       "      <td>1.33</td>\n",
       "      <td>200.32</td>\n",
       "      <td>370.33</td>\n",
       "      <td>147.00</td>\n",
       "      <td>555.67</td>\n",
       "      <td>303.67</td>\n",
       "      <td>59.67</td>\n",
       "      <td>0.0</td>\n",
       "      <td>22.67</td>\n",
       "      <td>0</td>\n",
       "      <td>59</td>\n",
       "      <td>2</td>\n",
       "      <td>2</td>\n",
       "      <td>PITHOM412</td>\n",
       "      <td>9.0</td>\n",
       "      <td>4.0</td>\n",
       "      <td>458.0</td>\n",
       "      <td>1000006</td>\n",
       "      <td>30.0</td>\n",
       "      <td>0.0</td>\n",
       "      <td>0</td>\n",
       "      <td>0</td>\n",
       "      <td>0</td>\n",
       "      <td>0</td>\n",
       "      <td>1</td>\n",
       "      <td>0</td>\n",
       "      <td>0</td>\n",
       "      <td>0</td>\n",
       "      <td>0</td>\n",
       "      <td>0</td>\n",
       "      <td>0</td>\n",
       "      <td>0</td>\n",
       "      <td>1</td>\n",
       "      <td>0</td>\n",
       "      <td>0</td>\n",
       "      <td>0</td>\n",
       "      <td>0</td>\n",
       "      <td>0</td>\n",
       "      <td>0</td>\n",
       "      <td>0</td>\n",
       "      <td>0</td>\n",
       "      <td>0</td>\n",
       "      <td>0</td>\n",
       "      <td>0</td>\n",
       "      <td>0</td>\n",
       "      <td>1</td>\n",
       "      <td>1</td>\n",
       "      <td>1</td>\n",
       "      <td>0</td>\n",
       "      <td>0</td>\n",
       "      <td>0</td>\n",
       "      <td>1</td>\n",
       "      <td>0</td>\n",
       "      <td>0</td>\n",
       "      <td>1</td>\n",
       "      <td>0</td>\n",
       "      <td>0</td>\n",
       "      <td>0</td>\n",
       "      <td>6</td>\n",
       "      <td>0</td>\n",
       "      <td>0</td>\n",
       "      <td>0</td>\n",
       "      <td>9.99</td>\n",
       "      <td>0</td>\n",
       "      <td>0</td>\n",
       "      <td>NaN</td>\n",
       "    </tr>\n",
       "    <tr>\n",
       "      <th>2</th>\n",
       "      <td>31.66</td>\n",
       "      <td>25.50</td>\n",
       "      <td>29.99</td>\n",
       "      <td>0.25</td>\n",
       "      <td>0.00</td>\n",
       "      <td>0.00</td>\n",
       "      <td>59.50</td>\n",
       "      <td>4.03</td>\n",
       "      <td>0.00</td>\n",
       "      <td>1.00</td>\n",
       "      <td>2.33</td>\n",
       "      <td>0.00</td>\n",
       "      <td>0.00</td>\n",
       "      <td>0.00</td>\n",
       "      <td>0.00</td>\n",
       "      <td>0.00</td>\n",
       "      <td>1.67</td>\n",
       "      <td>1.67</td>\n",
       "      <td>1.00</td>\n",
       "      <td>0.0</td>\n",
       "      <td>0.00</td>\n",
       "      <td>0</td>\n",
       "      <td>57</td>\n",
       "      <td>2</td>\n",
       "      <td>2</td>\n",
       "      <td>OKCTUL918</td>\n",
       "      <td>2.0</td>\n",
       "      <td>2.0</td>\n",
       "      <td>601.0</td>\n",
       "      <td>1000010</td>\n",
       "      <td>52.0</td>\n",
       "      <td>58.0</td>\n",
       "      <td>0</td>\n",
       "      <td>1</td>\n",
       "      <td>0</td>\n",
       "      <td>0</td>\n",
       "      <td>0</td>\n",
       "      <td>0</td>\n",
       "      <td>0</td>\n",
       "      <td>0</td>\n",
       "      <td>0</td>\n",
       "      <td>0</td>\n",
       "      <td>0</td>\n",
       "      <td>0</td>\n",
       "      <td>1</td>\n",
       "      <td>0</td>\n",
       "      <td>0</td>\n",
       "      <td>0</td>\n",
       "      <td>0</td>\n",
       "      <td>0</td>\n",
       "      <td>0</td>\n",
       "      <td>0</td>\n",
       "      <td>0</td>\n",
       "      <td>1</td>\n",
       "      <td>0</td>\n",
       "      <td>0</td>\n",
       "      <td>1</td>\n",
       "      <td>0</td>\n",
       "      <td>1</td>\n",
       "      <td>1</td>\n",
       "      <td>0</td>\n",
       "      <td>1</td>\n",
       "      <td>0</td>\n",
       "      <td>1</td>\n",
       "      <td>0</td>\n",
       "      <td>0</td>\n",
       "      <td>0</td>\n",
       "      <td>1</td>\n",
       "      <td>0</td>\n",
       "      <td>0</td>\n",
       "      <td>9</td>\n",
       "      <td>0</td>\n",
       "      <td>1</td>\n",
       "      <td>0</td>\n",
       "      <td>29.99</td>\n",
       "      <td>0</td>\n",
       "      <td>0</td>\n",
       "      <td>NaN</td>\n",
       "    </tr>\n",
       "    <tr>\n",
       "      <th>3</th>\n",
       "      <td>62.13</td>\n",
       "      <td>97.50</td>\n",
       "      <td>65.99</td>\n",
       "      <td>2.48</td>\n",
       "      <td>0.00</td>\n",
       "      <td>0.00</td>\n",
       "      <td>23.50</td>\n",
       "      <td>6.82</td>\n",
       "      <td>0.00</td>\n",
       "      <td>0.33</td>\n",
       "      <td>4.00</td>\n",
       "      <td>4.00</td>\n",
       "      <td>0.00</td>\n",
       "      <td>0.00</td>\n",
       "      <td>3.67</td>\n",
       "      <td>0.00</td>\n",
       "      <td>7.67</td>\n",
       "      <td>7.33</td>\n",
       "      <td>0.33</td>\n",
       "      <td>0.0</td>\n",
       "      <td>0.00</td>\n",
       "      <td>0</td>\n",
       "      <td>59</td>\n",
       "      <td>2</td>\n",
       "      <td>2</td>\n",
       "      <td>OKCOKC405</td>\n",
       "      <td>3.0</td>\n",
       "      <td>3.0</td>\n",
       "      <td>464.0</td>\n",
       "      <td>1000011</td>\n",
       "      <td>46.0</td>\n",
       "      <td>46.0</td>\n",
       "      <td>1</td>\n",
       "      <td>1</td>\n",
       "      <td>0</td>\n",
       "      <td>0</td>\n",
       "      <td>0</td>\n",
       "      <td>0</td>\n",
       "      <td>0</td>\n",
       "      <td>0</td>\n",
       "      <td>0</td>\n",
       "      <td>0</td>\n",
       "      <td>0</td>\n",
       "      <td>0</td>\n",
       "      <td>1</td>\n",
       "      <td>0</td>\n",
       "      <td>0</td>\n",
       "      <td>1</td>\n",
       "      <td>0</td>\n",
       "      <td>0</td>\n",
       "      <td>0</td>\n",
       "      <td>0</td>\n",
       "      <td>0</td>\n",
       "      <td>0</td>\n",
       "      <td>0</td>\n",
       "      <td>0</td>\n",
       "      <td>0</td>\n",
       "      <td>1</td>\n",
       "      <td>1</td>\n",
       "      <td>1</td>\n",
       "      <td>0</td>\n",
       "      <td>0</td>\n",
       "      <td>0</td>\n",
       "      <td>1</td>\n",
       "      <td>0</td>\n",
       "      <td>0</td>\n",
       "      <td>1</td>\n",
       "      <td>0</td>\n",
       "      <td>0</td>\n",
       "      <td>0</td>\n",
       "      <td>6</td>\n",
       "      <td>0</td>\n",
       "      <td>0</td>\n",
       "      <td>0</td>\n",
       "      <td>29.99</td>\n",
       "      <td>0</td>\n",
       "      <td>0</td>\n",
       "      <td>NaN</td>\n",
       "    </tr>\n",
       "    <tr>\n",
       "      <th>4</th>\n",
       "      <td>25.23</td>\n",
       "      <td>2.50</td>\n",
       "      <td>25.00</td>\n",
       "      <td>0.00</td>\n",
       "      <td>0.00</td>\n",
       "      <td>0.00</td>\n",
       "      <td>-2.50</td>\n",
       "      <td>-0.23</td>\n",
       "      <td>0.00</td>\n",
       "      <td>0.00</td>\n",
       "      <td>0.33</td>\n",
       "      <td>0.00</td>\n",
       "      <td>0.00</td>\n",
       "      <td>1.13</td>\n",
       "      <td>0.33</td>\n",
       "      <td>0.00</td>\n",
       "      <td>0.67</td>\n",
       "      <td>0.67</td>\n",
       "      <td>0.00</td>\n",
       "      <td>0.0</td>\n",
       "      <td>0.00</td>\n",
       "      <td>0</td>\n",
       "      <td>53</td>\n",
       "      <td>2</td>\n",
       "      <td>2</td>\n",
       "      <td>SANMCA210</td>\n",
       "      <td>2.0</td>\n",
       "      <td>2.0</td>\n",
       "      <td>354.0</td>\n",
       "      <td>1000014</td>\n",
       "      <td>0.0</td>\n",
       "      <td>0.0</td>\n",
       "      <td>0</td>\n",
       "      <td>1</td>\n",
       "      <td>0</td>\n",
       "      <td>0</td>\n",
       "      <td>0</td>\n",
       "      <td>0</td>\n",
       "      <td>0</td>\n",
       "      <td>0</td>\n",
       "      <td>0</td>\n",
       "      <td>0</td>\n",
       "      <td>0</td>\n",
       "      <td>0</td>\n",
       "      <td>1</td>\n",
       "      <td>1</td>\n",
       "      <td>0</td>\n",
       "      <td>0</td>\n",
       "      <td>0</td>\n",
       "      <td>0</td>\n",
       "      <td>0</td>\n",
       "      <td>0</td>\n",
       "      <td>0</td>\n",
       "      <td>0</td>\n",
       "      <td>1</td>\n",
       "      <td>1</td>\n",
       "      <td>0</td>\n",
       "      <td>0</td>\n",
       "      <td>0</td>\n",
       "      <td>0</td>\n",
       "      <td>0</td>\n",
       "      <td>0</td>\n",
       "      <td>0</td>\n",
       "      <td>0</td>\n",
       "      <td>0</td>\n",
       "      <td>0</td>\n",
       "      <td>1</td>\n",
       "      <td>0</td>\n",
       "      <td>0</td>\n",
       "      <td>0</td>\n",
       "      <td>7</td>\n",
       "      <td>0</td>\n",
       "      <td>0</td>\n",
       "      <td>0</td>\n",
       "      <td>29.99</td>\n",
       "      <td>0</td>\n",
       "      <td>0</td>\n",
       "      <td>NaN</td>\n",
       "    </tr>\n",
       "    <tr>\n",
       "      <th>5</th>\n",
       "      <td>212.52</td>\n",
       "      <td>1971.50</td>\n",
       "      <td>84.99</td>\n",
       "      <td>2.23</td>\n",
       "      <td>249.50</td>\n",
       "      <td>35.50</td>\n",
       "      <td>-200.50</td>\n",
       "      <td>-106.77</td>\n",
       "      <td>9.00</td>\n",
       "      <td>0.00</td>\n",
       "      <td>43.67</td>\n",
       "      <td>0.33</td>\n",
       "      <td>0.00</td>\n",
       "      <td>718.07</td>\n",
       "      <td>49.33</td>\n",
       "      <td>4.67</td>\n",
       "      <td>351.67</td>\n",
       "      <td>128.67</td>\n",
       "      <td>9.00</td>\n",
       "      <td>0.0</td>\n",
       "      <td>1.00</td>\n",
       "      <td>0</td>\n",
       "      <td>59</td>\n",
       "      <td>5</td>\n",
       "      <td>1</td>\n",
       "      <td>SLCSLC801</td>\n",
       "      <td>10.0</td>\n",
       "      <td>6.0</td>\n",
       "      <td>199.0</td>\n",
       "      <td>1000015</td>\n",
       "      <td>30.0</td>\n",
       "      <td>22.0</td>\n",
       "      <td>1</td>\n",
       "      <td>0</td>\n",
       "      <td>0</td>\n",
       "      <td>0</td>\n",
       "      <td>1</td>\n",
       "      <td>0</td>\n",
       "      <td>0</td>\n",
       "      <td>0</td>\n",
       "      <td>0</td>\n",
       "      <td>1</td>\n",
       "      <td>0</td>\n",
       "      <td>0</td>\n",
       "      <td>1</td>\n",
       "      <td>0</td>\n",
       "      <td>0</td>\n",
       "      <td>0</td>\n",
       "      <td>0</td>\n",
       "      <td>0</td>\n",
       "      <td>0</td>\n",
       "      <td>0</td>\n",
       "      <td>0</td>\n",
       "      <td>0</td>\n",
       "      <td>0</td>\n",
       "      <td>0</td>\n",
       "      <td>0</td>\n",
       "      <td>1</td>\n",
       "      <td>0</td>\n",
       "      <td>1</td>\n",
       "      <td>0</td>\n",
       "      <td>0</td>\n",
       "      <td>1</td>\n",
       "      <td>1</td>\n",
       "      <td>0</td>\n",
       "      <td>0</td>\n",
       "      <td>1</td>\n",
       "      <td>0</td>\n",
       "      <td>0</td>\n",
       "      <td>0</td>\n",
       "      <td>3</td>\n",
       "      <td>0</td>\n",
       "      <td>1</td>\n",
       "      <td>0</td>\n",
       "      <td>79.99</td>\n",
       "      <td>0</td>\n",
       "      <td>0</td>\n",
       "      <td>NaN</td>\n",
       "    </tr>\n",
       "    <tr>\n",
       "      <th>6</th>\n",
       "      <td>42.57</td>\n",
       "      <td>270.50</td>\n",
       "      <td>37.48</td>\n",
       "      <td>0.25</td>\n",
       "      <td>6.00</td>\n",
       "      <td>0.00</td>\n",
       "      <td>201.50</td>\n",
       "      <td>-1.79</td>\n",
       "      <td>3.33</td>\n",
       "      <td>1.67</td>\n",
       "      <td>7.67</td>\n",
       "      <td>1.00</td>\n",
       "      <td>0.00</td>\n",
       "      <td>57.09</td>\n",
       "      <td>11.00</td>\n",
       "      <td>3.67</td>\n",
       "      <td>62.33</td>\n",
       "      <td>18.00</td>\n",
       "      <td>5.00</td>\n",
       "      <td>0.0</td>\n",
       "      <td>0.33</td>\n",
       "      <td>0</td>\n",
       "      <td>55</td>\n",
       "      <td>2</td>\n",
       "      <td>2</td>\n",
       "      <td>OKCOKC405</td>\n",
       "      <td>5.0</td>\n",
       "      <td>4.0</td>\n",
       "      <td>697.0</td>\n",
       "      <td>1000016</td>\n",
       "      <td>58.0</td>\n",
       "      <td>58.0</td>\n",
       "      <td>1</td>\n",
       "      <td>0</td>\n",
       "      <td>0</td>\n",
       "      <td>1</td>\n",
       "      <td>0</td>\n",
       "      <td>0</td>\n",
       "      <td>0</td>\n",
       "      <td>0</td>\n",
       "      <td>0</td>\n",
       "      <td>1</td>\n",
       "      <td>0</td>\n",
       "      <td>0</td>\n",
       "      <td>1</td>\n",
       "      <td>0</td>\n",
       "      <td>0</td>\n",
       "      <td>0</td>\n",
       "      <td>0</td>\n",
       "      <td>0</td>\n",
       "      <td>0</td>\n",
       "      <td>0</td>\n",
       "      <td>0</td>\n",
       "      <td>0</td>\n",
       "      <td>0</td>\n",
       "      <td>1</td>\n",
       "      <td>0</td>\n",
       "      <td>0</td>\n",
       "      <td>0</td>\n",
       "      <td>0</td>\n",
       "      <td>0</td>\n",
       "      <td>0</td>\n",
       "      <td>0</td>\n",
       "      <td>1</td>\n",
       "      <td>0</td>\n",
       "      <td>0</td>\n",
       "      <td>0</td>\n",
       "      <td>1</td>\n",
       "      <td>0</td>\n",
       "      <td>0</td>\n",
       "      <td>1</td>\n",
       "      <td>0</td>\n",
       "      <td>1</td>\n",
       "      <td>0</td>\n",
       "      <td>29.99</td>\n",
       "      <td>0</td>\n",
       "      <td>0</td>\n",
       "      <td>NaN</td>\n",
       "    </tr>\n",
       "    <tr>\n",
       "      <th>7</th>\n",
       "      <td>35.59</td>\n",
       "      <td>153.00</td>\n",
       "      <td>29.99</td>\n",
       "      <td>0.00</td>\n",
       "      <td>16.00</td>\n",
       "      <td>0.00</td>\n",
       "      <td>30.00</td>\n",
       "      <td>7.35</td>\n",
       "      <td>2.00</td>\n",
       "      <td>0.67</td>\n",
       "      <td>17.33</td>\n",
       "      <td>0.00</td>\n",
       "      <td>0.00</td>\n",
       "      <td>33.11</td>\n",
       "      <td>8.00</td>\n",
       "      <td>4.67</td>\n",
       "      <td>48.33</td>\n",
       "      <td>7.00</td>\n",
       "      <td>2.67</td>\n",
       "      <td>0.0</td>\n",
       "      <td>0.33</td>\n",
       "      <td>0</td>\n",
       "      <td>59</td>\n",
       "      <td>3</td>\n",
       "      <td>2</td>\n",
       "      <td>SLCSLC801</td>\n",
       "      <td>6.0</td>\n",
       "      <td>5.0</td>\n",
       "      <td>48.0</td>\n",
       "      <td>1000018</td>\n",
       "      <td>46.0</td>\n",
       "      <td>0.0</td>\n",
       "      <td>1</td>\n",
       "      <td>1</td>\n",
       "      <td>0</td>\n",
       "      <td>0</td>\n",
       "      <td>0</td>\n",
       "      <td>0</td>\n",
       "      <td>0</td>\n",
       "      <td>0</td>\n",
       "      <td>0</td>\n",
       "      <td>0</td>\n",
       "      <td>0</td>\n",
       "      <td>0</td>\n",
       "      <td>1</td>\n",
       "      <td>1</td>\n",
       "      <td>1</td>\n",
       "      <td>0</td>\n",
       "      <td>0</td>\n",
       "      <td>0</td>\n",
       "      <td>0</td>\n",
       "      <td>0</td>\n",
       "      <td>0</td>\n",
       "      <td>0</td>\n",
       "      <td>0</td>\n",
       "      <td>0</td>\n",
       "      <td>0</td>\n",
       "      <td>1</td>\n",
       "      <td>1</td>\n",
       "      <td>1</td>\n",
       "      <td>1</td>\n",
       "      <td>0</td>\n",
       "      <td>0</td>\n",
       "      <td>1</td>\n",
       "      <td>0</td>\n",
       "      <td>0</td>\n",
       "      <td>0</td>\n",
       "      <td>1</td>\n",
       "      <td>0</td>\n",
       "      <td>0</td>\n",
       "      <td>4</td>\n",
       "      <td>0</td>\n",
       "      <td>1</td>\n",
       "      <td>0</td>\n",
       "      <td>199.99</td>\n",
       "      <td>0</td>\n",
       "      <td>0</td>\n",
       "      <td>NaN</td>\n",
       "    </tr>\n",
       "    <tr>\n",
       "      <th>8</th>\n",
       "      <td>55.27</td>\n",
       "      <td>1212.75</td>\n",
       "      <td>49.99</td>\n",
       "      <td>0.74</td>\n",
       "      <td>0.00</td>\n",
       "      <td>1.29</td>\n",
       "      <td>169.25</td>\n",
       "      <td>0.99</td>\n",
       "      <td>2.67</td>\n",
       "      <td>6.00</td>\n",
       "      <td>43.67</td>\n",
       "      <td>4.33</td>\n",
       "      <td>0.00</td>\n",
       "      <td>490.13</td>\n",
       "      <td>50.67</td>\n",
       "      <td>8.33</td>\n",
       "      <td>189.33</td>\n",
       "      <td>105.00</td>\n",
       "      <td>8.67</td>\n",
       "      <td>0.0</td>\n",
       "      <td>4.33</td>\n",
       "      <td>0</td>\n",
       "      <td>52</td>\n",
       "      <td>1</td>\n",
       "      <td>1</td>\n",
       "      <td>OKCTUL918</td>\n",
       "      <td>4.0</td>\n",
       "      <td>4.0</td>\n",
       "      <td>408.0</td>\n",
       "      <td>1000019</td>\n",
       "      <td>58.0</td>\n",
       "      <td>0.0</td>\n",
       "      <td>0</td>\n",
       "      <td>1</td>\n",
       "      <td>0</td>\n",
       "      <td>0</td>\n",
       "      <td>0</td>\n",
       "      <td>0</td>\n",
       "      <td>0</td>\n",
       "      <td>0</td>\n",
       "      <td>0</td>\n",
       "      <td>1</td>\n",
       "      <td>0</td>\n",
       "      <td>0</td>\n",
       "      <td>1</td>\n",
       "      <td>0</td>\n",
       "      <td>0</td>\n",
       "      <td>0</td>\n",
       "      <td>0</td>\n",
       "      <td>0</td>\n",
       "      <td>0</td>\n",
       "      <td>0</td>\n",
       "      <td>0</td>\n",
       "      <td>0</td>\n",
       "      <td>0</td>\n",
       "      <td>0</td>\n",
       "      <td>0</td>\n",
       "      <td>1</td>\n",
       "      <td>1</td>\n",
       "      <td>1</td>\n",
       "      <td>0</td>\n",
       "      <td>0</td>\n",
       "      <td>0</td>\n",
       "      <td>1</td>\n",
       "      <td>0</td>\n",
       "      <td>0</td>\n",
       "      <td>0</td>\n",
       "      <td>1</td>\n",
       "      <td>0</td>\n",
       "      <td>0</td>\n",
       "      <td>3</td>\n",
       "      <td>0</td>\n",
       "      <td>0</td>\n",
       "      <td>0</td>\n",
       "      <td>9.99</td>\n",
       "      <td>0</td>\n",
       "      <td>0</td>\n",
       "      <td>NaN</td>\n",
       "    </tr>\n",
       "    <tr>\n",
       "      <th>9</th>\n",
       "      <td>50.97</td>\n",
       "      <td>162.00</td>\n",
       "      <td>69.99</td>\n",
       "      <td>0.00</td>\n",
       "      <td>2.50</td>\n",
       "      <td>0.00</td>\n",
       "      <td>-58.00</td>\n",
       "      <td>-0.98</td>\n",
       "      <td>1.67</td>\n",
       "      <td>0.33</td>\n",
       "      <td>9.00</td>\n",
       "      <td>0.33</td>\n",
       "      <td>0.00</td>\n",
       "      <td>38.37</td>\n",
       "      <td>34.33</td>\n",
       "      <td>5.67</td>\n",
       "      <td>19.33</td>\n",
       "      <td>42.33</td>\n",
       "      <td>2.00</td>\n",
       "      <td>0.0</td>\n",
       "      <td>0.00</td>\n",
       "      <td>0</td>\n",
       "      <td>56</td>\n",
       "      <td>1</td>\n",
       "      <td>1</td>\n",
       "      <td>MILMIL414</td>\n",
       "      <td>4.0</td>\n",
       "      <td>3.0</td>\n",
       "      <td>253.0</td>\n",
       "      <td>1000020</td>\n",
       "      <td>30.0</td>\n",
       "      <td>30.0</td>\n",
       "      <td>1</td>\n",
       "      <td>0</td>\n",
       "      <td>0</td>\n",
       "      <td>1</td>\n",
       "      <td>0</td>\n",
       "      <td>0</td>\n",
       "      <td>0</td>\n",
       "      <td>0</td>\n",
       "      <td>0</td>\n",
       "      <td>0</td>\n",
       "      <td>0</td>\n",
       "      <td>0</td>\n",
       "      <td>1</td>\n",
       "      <td>0</td>\n",
       "      <td>0</td>\n",
       "      <td>0</td>\n",
       "      <td>0</td>\n",
       "      <td>0</td>\n",
       "      <td>0</td>\n",
       "      <td>0</td>\n",
       "      <td>0</td>\n",
       "      <td>0</td>\n",
       "      <td>0</td>\n",
       "      <td>0</td>\n",
       "      <td>0</td>\n",
       "      <td>1</td>\n",
       "      <td>1</td>\n",
       "      <td>1</td>\n",
       "      <td>0</td>\n",
       "      <td>0</td>\n",
       "      <td>1</td>\n",
       "      <td>0</td>\n",
       "      <td>0</td>\n",
       "      <td>0</td>\n",
       "      <td>1</td>\n",
       "      <td>0</td>\n",
       "      <td>0</td>\n",
       "      <td>0</td>\n",
       "      <td>1</td>\n",
       "      <td>0</td>\n",
       "      <td>0</td>\n",
       "      <td>0</td>\n",
       "      <td>9.99</td>\n",
       "      <td>0</td>\n",
       "      <td>0</td>\n",
       "      <td>NaN</td>\n",
       "    </tr>\n",
       "  </tbody>\n",
       "</table>\n",
       "</div>"
      ],
      "text/plain": [
       "   REVENUE      MOU  RECCHRGE  DIRECTAS  OVERAGE   ROAM  CHANGEM  CHANGER  \\\n",
       "0    57.49   482.75     37.43      0.25    22.75   0.00   532.25    50.99   \n",
       "1    82.28  1312.25     75.00      1.24     0.00   0.00   156.75     8.14   \n",
       "2    31.66    25.50     29.99      0.25     0.00   0.00    59.50     4.03   \n",
       "3    62.13    97.50     65.99      2.48     0.00   0.00    23.50     6.82   \n",
       "4    25.23     2.50     25.00      0.00     0.00   0.00    -2.50    -0.23   \n",
       "5   212.52  1971.50     84.99      2.23   249.50  35.50  -200.50  -106.77   \n",
       "6    42.57   270.50     37.48      0.25     6.00   0.00   201.50    -1.79   \n",
       "7    35.59   153.00     29.99      0.00    16.00   0.00    30.00     7.35   \n",
       "8    55.27  1212.75     49.99      0.74     0.00   1.29   169.25     0.99   \n",
       "9    50.97   162.00     69.99      0.00     2.50   0.00   -58.00    -0.98   \n",
       "\n",
       "   DROPVCE  BLCKVCE  UNANSVCE  CUSTCARE  THREEWAY  MOUREC  OUTCALLS  INCALLS  \\\n",
       "0     8.33     1.00     61.33      1.67      0.33   55.28     46.33     6.33   \n",
       "1    52.00     7.67     76.00      4.33      1.33  200.32    370.33   147.00   \n",
       "2     0.00     1.00      2.33      0.00      0.00    0.00      0.00     0.00   \n",
       "3     0.00     0.33      4.00      4.00      0.00    0.00      3.67     0.00   \n",
       "4     0.00     0.00      0.33      0.00      0.00    1.13      0.33     0.00   \n",
       "5     9.00     0.00     43.67      0.33      0.00  718.07     49.33     4.67   \n",
       "6     3.33     1.67      7.67      1.00      0.00   57.09     11.00     3.67   \n",
       "7     2.00     0.67     17.33      0.00      0.00   33.11      8.00     4.67   \n",
       "8     2.67     6.00     43.67      4.33      0.00  490.13     50.67     8.33   \n",
       "9     1.67     0.33      9.00      0.33      0.00   38.37     34.33     5.67   \n",
       "\n",
       "   PEAKVCE  OPEAKVCE  DROPBLK  CALLFWDV  CALLWAIT  CHURN  MONTHS  UNIQSUBS  \\\n",
       "0    83.67    157.00     9.33       0.0      5.67      0      56         1   \n",
       "1   555.67    303.67    59.67       0.0     22.67      0      59         2   \n",
       "2     1.67      1.67     1.00       0.0      0.00      0      57         2   \n",
       "3     7.67      7.33     0.33       0.0      0.00      0      59         2   \n",
       "4     0.67      0.67     0.00       0.0      0.00      0      53         2   \n",
       "5   351.67    128.67     9.00       0.0      1.00      0      59         5   \n",
       "6    62.33     18.00     5.00       0.0      0.33      0      55         2   \n",
       "7    48.33      7.00     2.67       0.0      0.33      0      59         3   \n",
       "8   189.33    105.00     8.67       0.0      4.33      0      52         1   \n",
       "9    19.33     42.33     2.00       0.0      0.00      0      56         1   \n",
       "\n",
       "   ACTVSUBS        CSA  PHONES  MODELS  EQPDAYS  CUSTOMER  AGE1  AGE2  \\\n",
       "0         1  MILMIL414     7.0     6.0    240.0   1000002  30.0   0.0   \n",
       "1         2  PITHOM412     9.0     4.0    458.0   1000006  30.0   0.0   \n",
       "2         2  OKCTUL918     2.0     2.0    601.0   1000010  52.0  58.0   \n",
       "3         2  OKCOKC405     3.0     3.0    464.0   1000011  46.0  46.0   \n",
       "4         2  SANMCA210     2.0     2.0    354.0   1000014   0.0   0.0   \n",
       "5         1  SLCSLC801    10.0     6.0    199.0   1000015  30.0  22.0   \n",
       "6         2  OKCOKC405     5.0     4.0    697.0   1000016  58.0  58.0   \n",
       "7         2  SLCSLC801     6.0     5.0     48.0   1000018  46.0   0.0   \n",
       "8         1  OKCTUL918     4.0     4.0    408.0   1000019  58.0   0.0   \n",
       "9         1  MILMIL414     4.0     3.0    253.0   1000020  30.0  30.0   \n",
       "\n",
       "   CHILDREN  CREDITA  CREDITAA  CREDITB  CREDITC  CREDITDE  CREDITGY  CREDITZ  \\\n",
       "0         0        0         0        0        0         1         0        0   \n",
       "1         0        0         0        0        1         0         0        0   \n",
       "2         0        1         0        0        0         0         0        0   \n",
       "3         1        1         0        0        0         0         0        0   \n",
       "4         0        1         0        0        0         0         0        0   \n",
       "5         1        0         0        0        1         0         0        0   \n",
       "6         1        0         0        1        0         0         0        0   \n",
       "7         1        1         0        0        0         0         0        0   \n",
       "8         0        1         0        0        0         0         0        0   \n",
       "9         1        0         0        1        0         0         0        0   \n",
       "\n",
       "   PRIZMRUR  PRIZMUB  PRIZMTWN  REFURB  WEBCAP  TRUCK  RV  OCCPROF  OCCCLER  \\\n",
       "0         0        0         0       0       1      1   1        0        0   \n",
       "1         0        0         0       0       1      0   0        0        0   \n",
       "2         0        0         0       0       1      0   0        0        0   \n",
       "3         0        0         0       0       1      0   0        1        0   \n",
       "4         0        0         0       0       1      1   0        0        0   \n",
       "5         0        1         0       0       1      0   0        0        0   \n",
       "6         0        1         0       0       1      0   0        0        0   \n",
       "7         0        0         0       0       1      1   1        0        0   \n",
       "8         0        1         0       0       1      0   0        0        0   \n",
       "9         0        0         0       0       1      0   0        0        0   \n",
       "\n",
       "   OCCCRFT  OCCSTUD  OCCHMKR  OCCRET  OCCSELF  OWNRENT  MARRYUN  MARRYYES  \\\n",
       "0        0        0        0       0        0        1        0         0   \n",
       "1        0        0        0       0        0        0        0         0   \n",
       "2        0        0        0       0        1        0        0         1   \n",
       "3        0        0        0       0        0        0        0         0   \n",
       "4        0        0        0       0        0        1        1         0   \n",
       "5        0        0        0       0        0        0        0         0   \n",
       "6        0        0        0       0        0        0        1         0   \n",
       "7        0        0        0       0        0        0        0         0   \n",
       "8        0        0        0       0        0        0        0         0   \n",
       "9        0        0        0       0        0        0        0         0   \n",
       "\n",
       "   MARRYNO  MAILORD  MAILRES  MAILFLAG  TRAVEL  PCOWN  CREDITCD  RETCALLS  \\\n",
       "0        1        1        1         0       0      0         1         0   \n",
       "1        1        1        1         0       0      0         1         0   \n",
       "2        0        1        1         0       1      0         1         0   \n",
       "3        1        1        1         0       0      0         1         0   \n",
       "4        0        0        0         0       0      0         0         0   \n",
       "5        1        0        1         0       0      1         1         0   \n",
       "6        0        0        0         0       0      0         1         0   \n",
       "7        1        1        1         1       0      0         1         0   \n",
       "8        1        1        1         0       0      0         1         0   \n",
       "9        1        1        1         0       0      1         0         0   \n",
       "\n",
       "   RETACCPT  NEWCELLY  NEWCELLN  REFER  INCMISS  INCOME  MCYCLE  CREDITAD  \\\n",
       "0         0         0         1      0        0       5       0         1   \n",
       "1         0         1         0      0        0       6       0         0   \n",
       "2         0         0         1      0        0       9       0         1   \n",
       "3         0         1         0      0        0       6       0         0   \n",
       "4         0         1         0      0        0       7       0         0   \n",
       "5         0         1         0      0        0       3       0         1   \n",
       "6         0         0         1      0        0       1       0         1   \n",
       "7         0         0         1      0        0       4       0         1   \n",
       "8         0         0         1      0        0       3       0         0   \n",
       "9         0         1         0      0        0       1       0         0   \n",
       "\n",
       "   SETPRCM  SETPRC  RETCALL  CALIBRAT  CHURNDEP  \n",
       "0        0  149.99        0         0       NaN  \n",
       "1        0    9.99        0         0       NaN  \n",
       "2        0   29.99        0         0       NaN  \n",
       "3        0   29.99        0         0       NaN  \n",
       "4        0   29.99        0         0       NaN  \n",
       "5        0   79.99        0         0       NaN  \n",
       "6        0   29.99        0         0       NaN  \n",
       "7        0  199.99        0         0       NaN  \n",
       "8        0    9.99        0         0       NaN  \n",
       "9        0    9.99        0         0       NaN  "
      ]
     },
     "execution_count": 4,
     "metadata": {},
     "output_type": "execute_result"
    }
   ],
   "source": [
    "c2c.head(10)"
   ]
  },
  {
   "cell_type": "markdown",
   "metadata": {},
   "source": [
    "**DATA PRE-PROCESSING**"
   ]
  },
  {
   "cell_type": "code",
   "execution_count": 59,
   "metadata": {},
   "outputs": [
    {
     "name": "stdout",
     "output_type": "stream",
     "text": [
      "<class 'pandas.core.frame.DataFrame'>\n",
      "RangeIndex: 71047 entries, 0 to 71046\n",
      "Data columns (total 78 columns):\n",
      " #   Column    Non-Null Count  Dtype  \n",
      "---  ------    --------------  -----  \n",
      " 0   REVENUE   70831 non-null  float64\n",
      " 1   MOU       70831 non-null  float64\n",
      " 2   RECCHRGE  70831 non-null  float64\n",
      " 3   DIRECTAS  70831 non-null  float64\n",
      " 4   OVERAGE   70831 non-null  float64\n",
      " 5   ROAM      70831 non-null  float64\n",
      " 6   CHANGEM   70545 non-null  float64\n",
      " 7   CHANGER   70545 non-null  float64\n",
      " 8   DROPVCE   71047 non-null  float64\n",
      " 9   BLCKVCE   71047 non-null  float64\n",
      " 10  UNANSVCE  71047 non-null  float64\n",
      " 11  CUSTCARE  71047 non-null  float64\n",
      " 12  THREEWAY  71047 non-null  float64\n",
      " 13  MOUREC    71047 non-null  float64\n",
      " 14  OUTCALLS  71047 non-null  float64\n",
      " 15  INCALLS   71047 non-null  float64\n",
      " 16  PEAKVCE   71047 non-null  float64\n",
      " 17  OPEAKVCE  71047 non-null  float64\n",
      " 18  DROPBLK   71047 non-null  float64\n",
      " 19  CALLFWDV  71047 non-null  float64\n",
      " 20  CALLWAIT  71047 non-null  float64\n",
      " 21  CHURN     71047 non-null  int64  \n",
      " 22  MONTHS    71047 non-null  int64  \n",
      " 23  UNIQSUBS  71047 non-null  int64  \n",
      " 24  ACTVSUBS  71047 non-null  int64  \n",
      " 25  CSA       71019 non-null  object \n",
      " 26  PHONES    71046 non-null  float64\n",
      " 27  MODELS    71046 non-null  float64\n",
      " 28  EQPDAYS   71046 non-null  float64\n",
      " 29  CUSTOMER  71047 non-null  int64  \n",
      " 30  AGE1      69803 non-null  float64\n",
      " 31  AGE2      69803 non-null  float64\n",
      " 32  CHILDREN  71047 non-null  int64  \n",
      " 33  CREDITA   71047 non-null  int64  \n",
      " 34  CREDITAA  71047 non-null  int64  \n",
      " 35  CREDITB   71047 non-null  int64  \n",
      " 36  CREDITC   71047 non-null  int64  \n",
      " 37  CREDITDE  71047 non-null  int64  \n",
      " 38  CREDITGY  71047 non-null  int64  \n",
      " 39  CREDITZ   71047 non-null  int64  \n",
      " 40  PRIZMRUR  71047 non-null  int64  \n",
      " 41  PRIZMUB   71047 non-null  int64  \n",
      " 42  PRIZMTWN  71047 non-null  int64  \n",
      " 43  REFURB    71047 non-null  int64  \n",
      " 44  WEBCAP    71047 non-null  int64  \n",
      " 45  TRUCK     71047 non-null  int64  \n",
      " 46  RV        71047 non-null  int64  \n",
      " 47  OCCPROF   71047 non-null  int64  \n",
      " 48  OCCCLER   71047 non-null  int64  \n",
      " 49  OCCCRFT   71047 non-null  int64  \n",
      " 50  OCCSTUD   71047 non-null  int64  \n",
      " 51  OCCHMKR   71047 non-null  int64  \n",
      " 52  OCCRET    71047 non-null  int64  \n",
      " 53  OCCSELF   71047 non-null  int64  \n",
      " 54  OWNRENT   71047 non-null  int64  \n",
      " 55  MARRYUN   71047 non-null  int64  \n",
      " 56  MARRYYES  71047 non-null  int64  \n",
      " 57  MARRYNO   71047 non-null  int64  \n",
      " 58  MAILORD   71047 non-null  int64  \n",
      " 59  MAILRES   71047 non-null  int64  \n",
      " 60  MAILFLAG  71047 non-null  int64  \n",
      " 61  TRAVEL    71047 non-null  int64  \n",
      " 62  PCOWN     71047 non-null  int64  \n",
      " 63  CREDITCD  71047 non-null  int64  \n",
      " 64  RETCALLS  71047 non-null  int64  \n",
      " 65  RETACCPT  71047 non-null  int64  \n",
      " 66  NEWCELLY  71047 non-null  int64  \n",
      " 67  NEWCELLN  71047 non-null  int64  \n",
      " 68  REFER     71047 non-null  int64  \n",
      " 69  INCMISS   71047 non-null  int64  \n",
      " 70  INCOME    71047 non-null  int64  \n",
      " 71  MCYCLE    71047 non-null  int64  \n",
      " 72  CREDITAD  71047 non-null  int64  \n",
      " 73  SETPRCM   71047 non-null  int64  \n",
      " 74  SETPRC    71047 non-null  float64\n",
      " 75  RETCALL   71047 non-null  int64  \n",
      " 76  CALIBRAT  71047 non-null  int64  \n",
      " 77  CHURNDEP  40000 non-null  float64\n",
      "dtypes: float64(28), int64(49), object(1)\n",
      "memory usage: 42.3+ MB\n"
     ]
    }
   ],
   "source": [
    "c2c.info()"
   ]
  },
  {
   "cell_type": "code",
   "execution_count": 22,
   "metadata": {},
   "outputs": [
    {
     "data": {
      "text/html": [
       "<div>\n",
       "<style scoped>\n",
       "    .dataframe tbody tr th:only-of-type {\n",
       "        vertical-align: middle;\n",
       "    }\n",
       "\n",
       "    .dataframe tbody tr th {\n",
       "        vertical-align: top;\n",
       "    }\n",
       "\n",
       "    .dataframe thead th {\n",
       "        text-align: right;\n",
       "    }\n",
       "</style>\n",
       "<table border=\"1\" class=\"dataframe\">\n",
       "  <thead>\n",
       "    <tr style=\"text-align: right;\">\n",
       "      <th></th>\n",
       "      <th>REVENUE</th>\n",
       "      <th>MOU</th>\n",
       "      <th>RECCHRGE</th>\n",
       "      <th>DIRECTAS</th>\n",
       "      <th>OVERAGE</th>\n",
       "      <th>ROAM</th>\n",
       "      <th>CHANGEM</th>\n",
       "      <th>CHANGER</th>\n",
       "      <th>DROPVCE</th>\n",
       "      <th>BLCKVCE</th>\n",
       "      <th>UNANSVCE</th>\n",
       "      <th>CUSTCARE</th>\n",
       "      <th>THREEWAY</th>\n",
       "      <th>MOUREC</th>\n",
       "      <th>OUTCALLS</th>\n",
       "      <th>INCALLS</th>\n",
       "      <th>PEAKVCE</th>\n",
       "      <th>OPEAKVCE</th>\n",
       "      <th>DROPBLK</th>\n",
       "      <th>CALLFWDV</th>\n",
       "      <th>CALLWAIT</th>\n",
       "      <th>CHURN</th>\n",
       "      <th>MONTHS</th>\n",
       "      <th>UNIQSUBS</th>\n",
       "      <th>ACTVSUBS</th>\n",
       "      <th>PHONES</th>\n",
       "      <th>MODELS</th>\n",
       "      <th>EQPDAYS</th>\n",
       "      <th>CUSTOMER</th>\n",
       "      <th>AGE1</th>\n",
       "      <th>AGE2</th>\n",
       "      <th>CHILDREN</th>\n",
       "      <th>CREDITA</th>\n",
       "      <th>CREDITAA</th>\n",
       "      <th>CREDITB</th>\n",
       "      <th>CREDITC</th>\n",
       "      <th>CREDITDE</th>\n",
       "      <th>CREDITGY</th>\n",
       "      <th>CREDITZ</th>\n",
       "      <th>PRIZMRUR</th>\n",
       "      <th>PRIZMUB</th>\n",
       "      <th>PRIZMTWN</th>\n",
       "      <th>REFURB</th>\n",
       "      <th>WEBCAP</th>\n",
       "      <th>TRUCK</th>\n",
       "      <th>RV</th>\n",
       "      <th>OCCPROF</th>\n",
       "      <th>OCCCLER</th>\n",
       "      <th>OCCCRFT</th>\n",
       "      <th>OCCSTUD</th>\n",
       "      <th>OCCHMKR</th>\n",
       "      <th>OCCRET</th>\n",
       "      <th>OCCSELF</th>\n",
       "      <th>OWNRENT</th>\n",
       "      <th>MARRYUN</th>\n",
       "      <th>MARRYYES</th>\n",
       "      <th>MARRYNO</th>\n",
       "      <th>MAILORD</th>\n",
       "      <th>MAILRES</th>\n",
       "      <th>MAILFLAG</th>\n",
       "      <th>TRAVEL</th>\n",
       "      <th>PCOWN</th>\n",
       "      <th>CREDITCD</th>\n",
       "      <th>RETCALLS</th>\n",
       "      <th>RETACCPT</th>\n",
       "      <th>NEWCELLY</th>\n",
       "      <th>NEWCELLN</th>\n",
       "      <th>REFER</th>\n",
       "      <th>INCMISS</th>\n",
       "      <th>INCOME</th>\n",
       "      <th>MCYCLE</th>\n",
       "      <th>CREDITAD</th>\n",
       "      <th>SETPRCM</th>\n",
       "      <th>SETPRC</th>\n",
       "      <th>RETCALL</th>\n",
       "      <th>CALIBRAT</th>\n",
       "      <th>CHURNDEP</th>\n",
       "    </tr>\n",
       "  </thead>\n",
       "  <tbody>\n",
       "    <tr>\n",
       "      <th>count</th>\n",
       "      <td>71047.000000</td>\n",
       "      <td>71047.000000</td>\n",
       "      <td>71047.000000</td>\n",
       "      <td>71047.000000</td>\n",
       "      <td>71047.000000</td>\n",
       "      <td>71047.000000</td>\n",
       "      <td>71047.000000</td>\n",
       "      <td>71047.000000</td>\n",
       "      <td>71047.000000</td>\n",
       "      <td>71047.000000</td>\n",
       "      <td>71047.000000</td>\n",
       "      <td>71047.000000</td>\n",
       "      <td>71047.000000</td>\n",
       "      <td>71047.000000</td>\n",
       "      <td>71047.000000</td>\n",
       "      <td>71047.000000</td>\n",
       "      <td>71047.000000</td>\n",
       "      <td>71047.000000</td>\n",
       "      <td>71047.000000</td>\n",
       "      <td>71047.0</td>\n",
       "      <td>71047.000000</td>\n",
       "      <td>71047.000000</td>\n",
       "      <td>71047.000000</td>\n",
       "      <td>71047.000000</td>\n",
       "      <td>71047.000000</td>\n",
       "      <td>71047.000000</td>\n",
       "      <td>71047.000000</td>\n",
       "      <td>71047.000000</td>\n",
       "      <td>7.104700e+04</td>\n",
       "      <td>71047.000000</td>\n",
       "      <td>71047.00000</td>\n",
       "      <td>71047.000000</td>\n",
       "      <td>71047.000000</td>\n",
       "      <td>71047.000000</td>\n",
       "      <td>71047.000000</td>\n",
       "      <td>71047.000000</td>\n",
       "      <td>71047.000000</td>\n",
       "      <td>71047.000000</td>\n",
       "      <td>71047.000000</td>\n",
       "      <td>71047.000000</td>\n",
       "      <td>71047.000000</td>\n",
       "      <td>71047.000000</td>\n",
       "      <td>71047.000000</td>\n",
       "      <td>71047.000000</td>\n",
       "      <td>71047.000000</td>\n",
       "      <td>71047.000000</td>\n",
       "      <td>71047.000000</td>\n",
       "      <td>71047.000000</td>\n",
       "      <td>71047.000000</td>\n",
       "      <td>71047.000000</td>\n",
       "      <td>71047.000000</td>\n",
       "      <td>71047.000000</td>\n",
       "      <td>71047.000000</td>\n",
       "      <td>71047.000000</td>\n",
       "      <td>71047.000000</td>\n",
       "      <td>71047.000000</td>\n",
       "      <td>71047.000000</td>\n",
       "      <td>71047.000000</td>\n",
       "      <td>71047.000000</td>\n",
       "      <td>71047.000000</td>\n",
       "      <td>71047.000000</td>\n",
       "      <td>71047.000000</td>\n",
       "      <td>71047.000000</td>\n",
       "      <td>71047.000000</td>\n",
       "      <td>71047.000000</td>\n",
       "      <td>71047.000000</td>\n",
       "      <td>71047.000000</td>\n",
       "      <td>71047.000000</td>\n",
       "      <td>71047.000000</td>\n",
       "      <td>71047.000000</td>\n",
       "      <td>71047.000000</td>\n",
       "      <td>71047.000000</td>\n",
       "      <td>71047.000000</td>\n",
       "      <td>71047.000000</td>\n",
       "      <td>71047.000000</td>\n",
       "      <td>71047.000000</td>\n",
       "      <td>71047.000000</td>\n",
       "    </tr>\n",
       "    <tr>\n",
       "      <th>mean</th>\n",
       "      <td>58.005919</td>\n",
       "      <td>519.823658</td>\n",
       "      <td>46.537130</td>\n",
       "      <td>0.838359</td>\n",
       "      <td>37.560007</td>\n",
       "      <td>0.914369</td>\n",
       "      <td>-10.503866</td>\n",
       "      <td>-1.432346</td>\n",
       "      <td>5.829352</td>\n",
       "      <td>3.726457</td>\n",
       "      <td>27.587352</td>\n",
       "      <td>1.736974</td>\n",
       "      <td>0.256028</td>\n",
       "      <td>112.536345</td>\n",
       "      <td>24.787867</td>\n",
       "      <td>7.795471</td>\n",
       "      <td>88.818752</td>\n",
       "      <td>66.218617</td>\n",
       "      <td>9.781674</td>\n",
       "      <td>0.0</td>\n",
       "      <td>1.674562</td>\n",
       "      <td>0.290076</td>\n",
       "      <td>18.712951</td>\n",
       "      <td>1.529551</td>\n",
       "      <td>1.351655</td>\n",
       "      <td>1.808617</td>\n",
       "      <td>1.561791</td>\n",
       "      <td>378.545572</td>\n",
       "      <td>1.050487e+06</td>\n",
       "      <td>31.311620</td>\n",
       "      <td>21.09874</td>\n",
       "      <td>0.242389</td>\n",
       "      <td>0.167664</td>\n",
       "      <td>0.370881</td>\n",
       "      <td>0.164525</td>\n",
       "      <td>0.104438</td>\n",
       "      <td>0.128478</td>\n",
       "      <td>0.022647</td>\n",
       "      <td>0.041367</td>\n",
       "      <td>0.047743</td>\n",
       "      <td>0.321111</td>\n",
       "      <td>0.148423</td>\n",
       "      <td>0.139612</td>\n",
       "      <td>0.902811</td>\n",
       "      <td>0.187214</td>\n",
       "      <td>0.081200</td>\n",
       "      <td>0.173899</td>\n",
       "      <td>0.020057</td>\n",
       "      <td>0.029642</td>\n",
       "      <td>0.007572</td>\n",
       "      <td>0.003153</td>\n",
       "      <td>0.014512</td>\n",
       "      <td>0.017833</td>\n",
       "      <td>0.331921</td>\n",
       "      <td>0.384816</td>\n",
       "      <td>0.365378</td>\n",
       "      <td>0.249806</td>\n",
       "      <td>0.361972</td>\n",
       "      <td>0.377201</td>\n",
       "      <td>0.014413</td>\n",
       "      <td>0.057483</td>\n",
       "      <td>0.185412</td>\n",
       "      <td>0.676425</td>\n",
       "      <td>0.037004</td>\n",
       "      <td>0.017918</td>\n",
       "      <td>0.192943</td>\n",
       "      <td>0.138781</td>\n",
       "      <td>0.050854</td>\n",
       "      <td>0.249835</td>\n",
       "      <td>4.334229</td>\n",
       "      <td>0.013456</td>\n",
       "      <td>0.053162</td>\n",
       "      <td>0.566512</td>\n",
       "      <td>35.798584</td>\n",
       "      <td>0.034034</td>\n",
       "      <td>0.563008</td>\n",
       "      <td>0.500000</td>\n",
       "    </tr>\n",
       "    <tr>\n",
       "      <th>std</th>\n",
       "      <td>38.283623</td>\n",
       "      <td>499.786544</td>\n",
       "      <td>21.903305</td>\n",
       "      <td>1.639527</td>\n",
       "      <td>74.239634</td>\n",
       "      <td>2.999793</td>\n",
       "      <td>219.754520</td>\n",
       "      <td>28.894647</td>\n",
       "      <td>7.740130</td>\n",
       "      <td>7.395741</td>\n",
       "      <td>33.605823</td>\n",
       "      <td>3.683012</td>\n",
       "      <td>0.639431</td>\n",
       "      <td>152.338348</td>\n",
       "      <td>31.382244</td>\n",
       "      <td>13.614217</td>\n",
       "      <td>94.247525</td>\n",
       "      <td>83.357736</td>\n",
       "      <td>12.631718</td>\n",
       "      <td>0.0</td>\n",
       "      <td>3.723234</td>\n",
       "      <td>0.453800</td>\n",
       "      <td>9.658092</td>\n",
       "      <td>1.131774</td>\n",
       "      <td>0.660049</td>\n",
       "      <td>1.336111</td>\n",
       "      <td>0.908274</td>\n",
       "      <td>247.689156</td>\n",
       "      <td>2.919911e+04</td>\n",
       "      <td>21.749594</td>\n",
       "      <td>23.55667</td>\n",
       "      <td>0.428531</td>\n",
       "      <td>0.373570</td>\n",
       "      <td>0.483044</td>\n",
       "      <td>0.370754</td>\n",
       "      <td>0.305830</td>\n",
       "      <td>0.334624</td>\n",
       "      <td>0.148776</td>\n",
       "      <td>0.199139</td>\n",
       "      <td>0.213224</td>\n",
       "      <td>0.466907</td>\n",
       "      <td>0.355521</td>\n",
       "      <td>0.346586</td>\n",
       "      <td>0.296217</td>\n",
       "      <td>0.390086</td>\n",
       "      <td>0.273144</td>\n",
       "      <td>0.379025</td>\n",
       "      <td>0.140197</td>\n",
       "      <td>0.169600</td>\n",
       "      <td>0.086690</td>\n",
       "      <td>0.056062</td>\n",
       "      <td>0.119587</td>\n",
       "      <td>0.132346</td>\n",
       "      <td>0.470906</td>\n",
       "      <td>0.486555</td>\n",
       "      <td>0.481539</td>\n",
       "      <td>0.432904</td>\n",
       "      <td>0.480574</td>\n",
       "      <td>0.484689</td>\n",
       "      <td>0.119187</td>\n",
       "      <td>0.232765</td>\n",
       "      <td>0.388635</td>\n",
       "      <td>0.467843</td>\n",
       "      <td>0.205823</td>\n",
       "      <td>0.141485</td>\n",
       "      <td>0.394611</td>\n",
       "      <td>0.345721</td>\n",
       "      <td>0.290444</td>\n",
       "      <td>0.432920</td>\n",
       "      <td>3.137063</td>\n",
       "      <td>0.115217</td>\n",
       "      <td>0.374988</td>\n",
       "      <td>0.495560</td>\n",
       "      <td>57.040964</td>\n",
       "      <td>0.181317</td>\n",
       "      <td>0.496018</td>\n",
       "      <td>0.375172</td>\n",
       "    </tr>\n",
       "    <tr>\n",
       "      <th>min</th>\n",
       "      <td>10.000000</td>\n",
       "      <td>0.000000</td>\n",
       "      <td>9.190000</td>\n",
       "      <td>0.000000</td>\n",
       "      <td>0.000000</td>\n",
       "      <td>0.000000</td>\n",
       "      <td>-829.655000</td>\n",
       "      <td>-104.136200</td>\n",
       "      <td>0.000000</td>\n",
       "      <td>0.000000</td>\n",
       "      <td>0.000000</td>\n",
       "      <td>0.000000</td>\n",
       "      <td>0.000000</td>\n",
       "      <td>0.000000</td>\n",
       "      <td>0.000000</td>\n",
       "      <td>0.000000</td>\n",
       "      <td>0.000000</td>\n",
       "      <td>0.000000</td>\n",
       "      <td>0.000000</td>\n",
       "      <td>0.0</td>\n",
       "      <td>0.000000</td>\n",
       "      <td>0.000000</td>\n",
       "      <td>6.000000</td>\n",
       "      <td>1.000000</td>\n",
       "      <td>0.000000</td>\n",
       "      <td>1.000000</td>\n",
       "      <td>1.000000</td>\n",
       "      <td>7.000000</td>\n",
       "      <td>1.000001e+06</td>\n",
       "      <td>0.000000</td>\n",
       "      <td>0.00000</td>\n",
       "      <td>0.000000</td>\n",
       "      <td>0.000000</td>\n",
       "      <td>0.000000</td>\n",
       "      <td>0.000000</td>\n",
       "      <td>0.000000</td>\n",
       "      <td>0.000000</td>\n",
       "      <td>0.000000</td>\n",
       "      <td>0.000000</td>\n",
       "      <td>0.000000</td>\n",
       "      <td>0.000000</td>\n",
       "      <td>0.000000</td>\n",
       "      <td>0.000000</td>\n",
       "      <td>0.000000</td>\n",
       "      <td>0.000000</td>\n",
       "      <td>0.000000</td>\n",
       "      <td>0.000000</td>\n",
       "      <td>0.000000</td>\n",
       "      <td>0.000000</td>\n",
       "      <td>0.000000</td>\n",
       "      <td>0.000000</td>\n",
       "      <td>0.000000</td>\n",
       "      <td>0.000000</td>\n",
       "      <td>0.000000</td>\n",
       "      <td>0.000000</td>\n",
       "      <td>0.000000</td>\n",
       "      <td>0.000000</td>\n",
       "      <td>0.000000</td>\n",
       "      <td>0.000000</td>\n",
       "      <td>0.000000</td>\n",
       "      <td>0.000000</td>\n",
       "      <td>0.000000</td>\n",
       "      <td>0.000000</td>\n",
       "      <td>0.000000</td>\n",
       "      <td>0.000000</td>\n",
       "      <td>0.000000</td>\n",
       "      <td>0.000000</td>\n",
       "      <td>0.000000</td>\n",
       "      <td>0.000000</td>\n",
       "      <td>0.000000</td>\n",
       "      <td>0.000000</td>\n",
       "      <td>0.000000</td>\n",
       "      <td>0.000000</td>\n",
       "      <td>0.000000</td>\n",
       "      <td>0.000000</td>\n",
       "      <td>0.000000</td>\n",
       "      <td>0.000000</td>\n",
       "    </tr>\n",
       "    <tr>\n",
       "      <th>25%</th>\n",
       "      <td>33.700000</td>\n",
       "      <td>158.750000</td>\n",
       "      <td>30.000000</td>\n",
       "      <td>0.000000</td>\n",
       "      <td>0.000000</td>\n",
       "      <td>0.000000</td>\n",
       "      <td>-82.250000</td>\n",
       "      <td>-6.980000</td>\n",
       "      <td>0.670000</td>\n",
       "      <td>0.000000</td>\n",
       "      <td>5.330000</td>\n",
       "      <td>0.000000</td>\n",
       "      <td>0.000000</td>\n",
       "      <td>8.430000</td>\n",
       "      <td>3.330000</td>\n",
       "      <td>0.000000</td>\n",
       "      <td>23.000000</td>\n",
       "      <td>11.000000</td>\n",
       "      <td>1.670000</td>\n",
       "      <td>0.0</td>\n",
       "      <td>0.000000</td>\n",
       "      <td>0.000000</td>\n",
       "      <td>11.000000</td>\n",
       "      <td>1.000000</td>\n",
       "      <td>1.000000</td>\n",
       "      <td>1.000000</td>\n",
       "      <td>1.000000</td>\n",
       "      <td>204.000000</td>\n",
       "      <td>1.025144e+06</td>\n",
       "      <td>0.000000</td>\n",
       "      <td>0.00000</td>\n",
       "      <td>0.000000</td>\n",
       "      <td>0.000000</td>\n",
       "      <td>0.000000</td>\n",
       "      <td>0.000000</td>\n",
       "      <td>0.000000</td>\n",
       "      <td>0.000000</td>\n",
       "      <td>0.000000</td>\n",
       "      <td>0.000000</td>\n",
       "      <td>0.000000</td>\n",
       "      <td>0.000000</td>\n",
       "      <td>0.000000</td>\n",
       "      <td>0.000000</td>\n",
       "      <td>1.000000</td>\n",
       "      <td>0.000000</td>\n",
       "      <td>0.000000</td>\n",
       "      <td>0.000000</td>\n",
       "      <td>0.000000</td>\n",
       "      <td>0.000000</td>\n",
       "      <td>0.000000</td>\n",
       "      <td>0.000000</td>\n",
       "      <td>0.000000</td>\n",
       "      <td>0.000000</td>\n",
       "      <td>0.000000</td>\n",
       "      <td>0.000000</td>\n",
       "      <td>0.000000</td>\n",
       "      <td>0.000000</td>\n",
       "      <td>0.000000</td>\n",
       "      <td>0.000000</td>\n",
       "      <td>0.000000</td>\n",
       "      <td>0.000000</td>\n",
       "      <td>0.000000</td>\n",
       "      <td>0.000000</td>\n",
       "      <td>0.000000</td>\n",
       "      <td>0.000000</td>\n",
       "      <td>0.000000</td>\n",
       "      <td>0.000000</td>\n",
       "      <td>0.000000</td>\n",
       "      <td>0.000000</td>\n",
       "      <td>1.000000</td>\n",
       "      <td>0.000000</td>\n",
       "      <td>0.000000</td>\n",
       "      <td>0.000000</td>\n",
       "      <td>0.000000</td>\n",
       "      <td>0.000000</td>\n",
       "      <td>0.000000</td>\n",
       "      <td>0.000000</td>\n",
       "    </tr>\n",
       "    <tr>\n",
       "      <th>50%</th>\n",
       "      <td>48.680000</td>\n",
       "      <td>367.250000</td>\n",
       "      <td>44.990000</td>\n",
       "      <td>0.250000</td>\n",
       "      <td>2.750000</td>\n",
       "      <td>0.000000</td>\n",
       "      <td>-5.500000</td>\n",
       "      <td>-0.320000</td>\n",
       "      <td>3.000000</td>\n",
       "      <td>1.000000</td>\n",
       "      <td>16.330000</td>\n",
       "      <td>0.000000</td>\n",
       "      <td>0.000000</td>\n",
       "      <td>52.500000</td>\n",
       "      <td>13.670000</td>\n",
       "      <td>2.000000</td>\n",
       "      <td>62.000000</td>\n",
       "      <td>35.670000</td>\n",
       "      <td>5.330000</td>\n",
       "      <td>0.0</td>\n",
       "      <td>0.330000</td>\n",
       "      <td>0.000000</td>\n",
       "      <td>16.000000</td>\n",
       "      <td>1.000000</td>\n",
       "      <td>1.000000</td>\n",
       "      <td>1.000000</td>\n",
       "      <td>1.000000</td>\n",
       "      <td>330.000000</td>\n",
       "      <td>1.050370e+06</td>\n",
       "      <td>36.000000</td>\n",
       "      <td>0.00000</td>\n",
       "      <td>0.000000</td>\n",
       "      <td>0.000000</td>\n",
       "      <td>0.000000</td>\n",
       "      <td>0.000000</td>\n",
       "      <td>0.000000</td>\n",
       "      <td>0.000000</td>\n",
       "      <td>0.000000</td>\n",
       "      <td>0.000000</td>\n",
       "      <td>0.000000</td>\n",
       "      <td>0.000000</td>\n",
       "      <td>0.000000</td>\n",
       "      <td>0.000000</td>\n",
       "      <td>1.000000</td>\n",
       "      <td>0.000000</td>\n",
       "      <td>0.000000</td>\n",
       "      <td>0.000000</td>\n",
       "      <td>0.000000</td>\n",
       "      <td>0.000000</td>\n",
       "      <td>0.000000</td>\n",
       "      <td>0.000000</td>\n",
       "      <td>0.000000</td>\n",
       "      <td>0.000000</td>\n",
       "      <td>0.000000</td>\n",
       "      <td>0.000000</td>\n",
       "      <td>0.000000</td>\n",
       "      <td>0.000000</td>\n",
       "      <td>0.000000</td>\n",
       "      <td>0.000000</td>\n",
       "      <td>0.000000</td>\n",
       "      <td>0.000000</td>\n",
       "      <td>0.000000</td>\n",
       "      <td>1.000000</td>\n",
       "      <td>0.000000</td>\n",
       "      <td>0.000000</td>\n",
       "      <td>0.000000</td>\n",
       "      <td>0.000000</td>\n",
       "      <td>0.000000</td>\n",
       "      <td>0.000000</td>\n",
       "      <td>5.000000</td>\n",
       "      <td>0.000000</td>\n",
       "      <td>0.000000</td>\n",
       "      <td>1.000000</td>\n",
       "      <td>0.000000</td>\n",
       "      <td>0.000000</td>\n",
       "      <td>1.000000</td>\n",
       "      <td>0.500000</td>\n",
       "    </tr>\n",
       "    <tr>\n",
       "      <th>75%</th>\n",
       "      <td>70.910000</td>\n",
       "      <td>719.750000</td>\n",
       "      <td>59.990000</td>\n",
       "      <td>0.990000</td>\n",
       "      <td>40.500000</td>\n",
       "      <td>0.260000</td>\n",
       "      <td>64.875000</td>\n",
       "      <td>1.530000</td>\n",
       "      <td>7.670000</td>\n",
       "      <td>3.670000</td>\n",
       "      <td>36.670000</td>\n",
       "      <td>1.670000</td>\n",
       "      <td>0.330000</td>\n",
       "      <td>154.135000</td>\n",
       "      <td>34.000000</td>\n",
       "      <td>9.330000</td>\n",
       "      <td>121.165000</td>\n",
       "      <td>88.670000</td>\n",
       "      <td>12.670000</td>\n",
       "      <td>0.0</td>\n",
       "      <td>1.330000</td>\n",
       "      <td>1.000000</td>\n",
       "      <td>24.000000</td>\n",
       "      <td>2.000000</td>\n",
       "      <td>2.000000</td>\n",
       "      <td>2.000000</td>\n",
       "      <td>2.000000</td>\n",
       "      <td>515.000000</td>\n",
       "      <td>1.076230e+06</td>\n",
       "      <td>48.000000</td>\n",
       "      <td>42.00000</td>\n",
       "      <td>0.000000</td>\n",
       "      <td>0.000000</td>\n",
       "      <td>1.000000</td>\n",
       "      <td>0.000000</td>\n",
       "      <td>0.000000</td>\n",
       "      <td>0.000000</td>\n",
       "      <td>0.000000</td>\n",
       "      <td>0.000000</td>\n",
       "      <td>0.000000</td>\n",
       "      <td>1.000000</td>\n",
       "      <td>0.000000</td>\n",
       "      <td>0.000000</td>\n",
       "      <td>1.000000</td>\n",
       "      <td>0.000000</td>\n",
       "      <td>0.000000</td>\n",
       "      <td>0.000000</td>\n",
       "      <td>0.000000</td>\n",
       "      <td>0.000000</td>\n",
       "      <td>0.000000</td>\n",
       "      <td>0.000000</td>\n",
       "      <td>0.000000</td>\n",
       "      <td>0.000000</td>\n",
       "      <td>1.000000</td>\n",
       "      <td>1.000000</td>\n",
       "      <td>1.000000</td>\n",
       "      <td>0.000000</td>\n",
       "      <td>1.000000</td>\n",
       "      <td>1.000000</td>\n",
       "      <td>0.000000</td>\n",
       "      <td>0.000000</td>\n",
       "      <td>0.000000</td>\n",
       "      <td>1.000000</td>\n",
       "      <td>0.000000</td>\n",
       "      <td>0.000000</td>\n",
       "      <td>0.000000</td>\n",
       "      <td>0.000000</td>\n",
       "      <td>0.000000</td>\n",
       "      <td>0.000000</td>\n",
       "      <td>7.000000</td>\n",
       "      <td>0.000000</td>\n",
       "      <td>0.000000</td>\n",
       "      <td>1.000000</td>\n",
       "      <td>39.990000</td>\n",
       "      <td>0.000000</td>\n",
       "      <td>1.000000</td>\n",
       "      <td>1.000000</td>\n",
       "    </tr>\n",
       "    <tr>\n",
       "      <th>max</th>\n",
       "      <td>225.210800</td>\n",
       "      <td>2447.060000</td>\n",
       "      <td>119.990000</td>\n",
       "      <td>9.650000</td>\n",
       "      <td>426.885000</td>\n",
       "      <td>21.511600</td>\n",
       "      <td>736.885000</td>\n",
       "      <td>117.835400</td>\n",
       "      <td>42.000000</td>\n",
       "      <td>47.000000</td>\n",
       "      <td>179.330000</td>\n",
       "      <td>21.000000</td>\n",
       "      <td>4.000000</td>\n",
       "      <td>772.654800</td>\n",
       "      <td>164.330000</td>\n",
       "      <td>77.000000</td>\n",
       "      <td>500.000000</td>\n",
       "      <td>437.000000</td>\n",
       "      <td>71.330000</td>\n",
       "      <td>0.0</td>\n",
       "      <td>23.330000</td>\n",
       "      <td>1.000000</td>\n",
       "      <td>49.000000</td>\n",
       "      <td>196.000000</td>\n",
       "      <td>53.000000</td>\n",
       "      <td>28.000000</td>\n",
       "      <td>16.000000</td>\n",
       "      <td>1150.000000</td>\n",
       "      <td>1.099999e+06</td>\n",
       "      <td>74.000000</td>\n",
       "      <td>76.00000</td>\n",
       "      <td>1.000000</td>\n",
       "      <td>1.000000</td>\n",
       "      <td>1.000000</td>\n",
       "      <td>1.000000</td>\n",
       "      <td>1.000000</td>\n",
       "      <td>1.000000</td>\n",
       "      <td>1.000000</td>\n",
       "      <td>1.000000</td>\n",
       "      <td>1.000000</td>\n",
       "      <td>1.000000</td>\n",
       "      <td>1.000000</td>\n",
       "      <td>1.000000</td>\n",
       "      <td>1.000000</td>\n",
       "      <td>1.000000</td>\n",
       "      <td>1.000000</td>\n",
       "      <td>1.000000</td>\n",
       "      <td>1.000000</td>\n",
       "      <td>1.000000</td>\n",
       "      <td>1.000000</td>\n",
       "      <td>1.000000</td>\n",
       "      <td>1.000000</td>\n",
       "      <td>1.000000</td>\n",
       "      <td>1.000000</td>\n",
       "      <td>1.000000</td>\n",
       "      <td>1.000000</td>\n",
       "      <td>1.000000</td>\n",
       "      <td>1.000000</td>\n",
       "      <td>1.000000</td>\n",
       "      <td>1.000000</td>\n",
       "      <td>1.000000</td>\n",
       "      <td>1.000000</td>\n",
       "      <td>1.000000</td>\n",
       "      <td>4.000000</td>\n",
       "      <td>4.000000</td>\n",
       "      <td>1.000000</td>\n",
       "      <td>1.000000</td>\n",
       "      <td>35.000000</td>\n",
       "      <td>1.000000</td>\n",
       "      <td>9.000000</td>\n",
       "      <td>1.000000</td>\n",
       "      <td>25.000000</td>\n",
       "      <td>1.000000</td>\n",
       "      <td>499.990000</td>\n",
       "      <td>1.000000</td>\n",
       "      <td>1.000000</td>\n",
       "      <td>1.000000</td>\n",
       "    </tr>\n",
       "  </tbody>\n",
       "</table>\n",
       "</div>"
      ],
      "text/plain": [
       "            REVENUE           MOU      RECCHRGE      DIRECTAS       OVERAGE  \\\n",
       "count  71047.000000  71047.000000  71047.000000  71047.000000  71047.000000   \n",
       "mean      58.005919    519.823658     46.537130      0.838359     37.560007   \n",
       "std       38.283623    499.786544     21.903305      1.639527     74.239634   \n",
       "min       10.000000      0.000000      9.190000      0.000000      0.000000   \n",
       "25%       33.700000    158.750000     30.000000      0.000000      0.000000   \n",
       "50%       48.680000    367.250000     44.990000      0.250000      2.750000   \n",
       "75%       70.910000    719.750000     59.990000      0.990000     40.500000   \n",
       "max      225.210800   2447.060000    119.990000      9.650000    426.885000   \n",
       "\n",
       "               ROAM       CHANGEM       CHANGER       DROPVCE       BLCKVCE  \\\n",
       "count  71047.000000  71047.000000  71047.000000  71047.000000  71047.000000   \n",
       "mean       0.914369    -10.503866     -1.432346      5.829352      3.726457   \n",
       "std        2.999793    219.754520     28.894647      7.740130      7.395741   \n",
       "min        0.000000   -829.655000   -104.136200      0.000000      0.000000   \n",
       "25%        0.000000    -82.250000     -6.980000      0.670000      0.000000   \n",
       "50%        0.000000     -5.500000     -0.320000      3.000000      1.000000   \n",
       "75%        0.260000     64.875000      1.530000      7.670000      3.670000   \n",
       "max       21.511600    736.885000    117.835400     42.000000     47.000000   \n",
       "\n",
       "           UNANSVCE      CUSTCARE      THREEWAY        MOUREC      OUTCALLS  \\\n",
       "count  71047.000000  71047.000000  71047.000000  71047.000000  71047.000000   \n",
       "mean      27.587352      1.736974      0.256028    112.536345     24.787867   \n",
       "std       33.605823      3.683012      0.639431    152.338348     31.382244   \n",
       "min        0.000000      0.000000      0.000000      0.000000      0.000000   \n",
       "25%        5.330000      0.000000      0.000000      8.430000      3.330000   \n",
       "50%       16.330000      0.000000      0.000000     52.500000     13.670000   \n",
       "75%       36.670000      1.670000      0.330000    154.135000     34.000000   \n",
       "max      179.330000     21.000000      4.000000    772.654800    164.330000   \n",
       "\n",
       "            INCALLS       PEAKVCE      OPEAKVCE       DROPBLK  CALLFWDV  \\\n",
       "count  71047.000000  71047.000000  71047.000000  71047.000000   71047.0   \n",
       "mean       7.795471     88.818752     66.218617      9.781674       0.0   \n",
       "std       13.614217     94.247525     83.357736     12.631718       0.0   \n",
       "min        0.000000      0.000000      0.000000      0.000000       0.0   \n",
       "25%        0.000000     23.000000     11.000000      1.670000       0.0   \n",
       "50%        2.000000     62.000000     35.670000      5.330000       0.0   \n",
       "75%        9.330000    121.165000     88.670000     12.670000       0.0   \n",
       "max       77.000000    500.000000    437.000000     71.330000       0.0   \n",
       "\n",
       "           CALLWAIT         CHURN        MONTHS      UNIQSUBS      ACTVSUBS  \\\n",
       "count  71047.000000  71047.000000  71047.000000  71047.000000  71047.000000   \n",
       "mean       1.674562      0.290076     18.712951      1.529551      1.351655   \n",
       "std        3.723234      0.453800      9.658092      1.131774      0.660049   \n",
       "min        0.000000      0.000000      6.000000      1.000000      0.000000   \n",
       "25%        0.000000      0.000000     11.000000      1.000000      1.000000   \n",
       "50%        0.330000      0.000000     16.000000      1.000000      1.000000   \n",
       "75%        1.330000      1.000000     24.000000      2.000000      2.000000   \n",
       "max       23.330000      1.000000     49.000000    196.000000     53.000000   \n",
       "\n",
       "             PHONES        MODELS       EQPDAYS      CUSTOMER          AGE1  \\\n",
       "count  71047.000000  71047.000000  71047.000000  7.104700e+04  71047.000000   \n",
       "mean       1.808617      1.561791    378.545572  1.050487e+06     31.311620   \n",
       "std        1.336111      0.908274    247.689156  2.919911e+04     21.749594   \n",
       "min        1.000000      1.000000      7.000000  1.000001e+06      0.000000   \n",
       "25%        1.000000      1.000000    204.000000  1.025144e+06      0.000000   \n",
       "50%        1.000000      1.000000    330.000000  1.050370e+06     36.000000   \n",
       "75%        2.000000      2.000000    515.000000  1.076230e+06     48.000000   \n",
       "max       28.000000     16.000000   1150.000000  1.099999e+06     74.000000   \n",
       "\n",
       "              AGE2      CHILDREN       CREDITA      CREDITAA       CREDITB  \\\n",
       "count  71047.00000  71047.000000  71047.000000  71047.000000  71047.000000   \n",
       "mean      21.09874      0.242389      0.167664      0.370881      0.164525   \n",
       "std       23.55667      0.428531      0.373570      0.483044      0.370754   \n",
       "min        0.00000      0.000000      0.000000      0.000000      0.000000   \n",
       "25%        0.00000      0.000000      0.000000      0.000000      0.000000   \n",
       "50%        0.00000      0.000000      0.000000      0.000000      0.000000   \n",
       "75%       42.00000      0.000000      0.000000      1.000000      0.000000   \n",
       "max       76.00000      1.000000      1.000000      1.000000      1.000000   \n",
       "\n",
       "            CREDITC      CREDITDE      CREDITGY       CREDITZ      PRIZMRUR  \\\n",
       "count  71047.000000  71047.000000  71047.000000  71047.000000  71047.000000   \n",
       "mean       0.104438      0.128478      0.022647      0.041367      0.047743   \n",
       "std        0.305830      0.334624      0.148776      0.199139      0.213224   \n",
       "min        0.000000      0.000000      0.000000      0.000000      0.000000   \n",
       "25%        0.000000      0.000000      0.000000      0.000000      0.000000   \n",
       "50%        0.000000      0.000000      0.000000      0.000000      0.000000   \n",
       "75%        0.000000      0.000000      0.000000      0.000000      0.000000   \n",
       "max        1.000000      1.000000      1.000000      1.000000      1.000000   \n",
       "\n",
       "            PRIZMUB      PRIZMTWN        REFURB        WEBCAP         TRUCK  \\\n",
       "count  71047.000000  71047.000000  71047.000000  71047.000000  71047.000000   \n",
       "mean       0.321111      0.148423      0.139612      0.902811      0.187214   \n",
       "std        0.466907      0.355521      0.346586      0.296217      0.390086   \n",
       "min        0.000000      0.000000      0.000000      0.000000      0.000000   \n",
       "25%        0.000000      0.000000      0.000000      1.000000      0.000000   \n",
       "50%        0.000000      0.000000      0.000000      1.000000      0.000000   \n",
       "75%        1.000000      0.000000      0.000000      1.000000      0.000000   \n",
       "max        1.000000      1.000000      1.000000      1.000000      1.000000   \n",
       "\n",
       "                 RV       OCCPROF       OCCCLER       OCCCRFT       OCCSTUD  \\\n",
       "count  71047.000000  71047.000000  71047.000000  71047.000000  71047.000000   \n",
       "mean       0.081200      0.173899      0.020057      0.029642      0.007572   \n",
       "std        0.273144      0.379025      0.140197      0.169600      0.086690   \n",
       "min        0.000000      0.000000      0.000000      0.000000      0.000000   \n",
       "25%        0.000000      0.000000      0.000000      0.000000      0.000000   \n",
       "50%        0.000000      0.000000      0.000000      0.000000      0.000000   \n",
       "75%        0.000000      0.000000      0.000000      0.000000      0.000000   \n",
       "max        1.000000      1.000000      1.000000      1.000000      1.000000   \n",
       "\n",
       "            OCCHMKR        OCCRET       OCCSELF       OWNRENT       MARRYUN  \\\n",
       "count  71047.000000  71047.000000  71047.000000  71047.000000  71047.000000   \n",
       "mean       0.003153      0.014512      0.017833      0.331921      0.384816   \n",
       "std        0.056062      0.119587      0.132346      0.470906      0.486555   \n",
       "min        0.000000      0.000000      0.000000      0.000000      0.000000   \n",
       "25%        0.000000      0.000000      0.000000      0.000000      0.000000   \n",
       "50%        0.000000      0.000000      0.000000      0.000000      0.000000   \n",
       "75%        0.000000      0.000000      0.000000      1.000000      1.000000   \n",
       "max        1.000000      1.000000      1.000000      1.000000      1.000000   \n",
       "\n",
       "           MARRYYES       MARRYNO       MAILORD       MAILRES      MAILFLAG  \\\n",
       "count  71047.000000  71047.000000  71047.000000  71047.000000  71047.000000   \n",
       "mean       0.365378      0.249806      0.361972      0.377201      0.014413   \n",
       "std        0.481539      0.432904      0.480574      0.484689      0.119187   \n",
       "min        0.000000      0.000000      0.000000      0.000000      0.000000   \n",
       "25%        0.000000      0.000000      0.000000      0.000000      0.000000   \n",
       "50%        0.000000      0.000000      0.000000      0.000000      0.000000   \n",
       "75%        1.000000      0.000000      1.000000      1.000000      0.000000   \n",
       "max        1.000000      1.000000      1.000000      1.000000      1.000000   \n",
       "\n",
       "             TRAVEL         PCOWN      CREDITCD      RETCALLS      RETACCPT  \\\n",
       "count  71047.000000  71047.000000  71047.000000  71047.000000  71047.000000   \n",
       "mean       0.057483      0.185412      0.676425      0.037004      0.017918   \n",
       "std        0.232765      0.388635      0.467843      0.205823      0.141485   \n",
       "min        0.000000      0.000000      0.000000      0.000000      0.000000   \n",
       "25%        0.000000      0.000000      0.000000      0.000000      0.000000   \n",
       "50%        0.000000      0.000000      1.000000      0.000000      0.000000   \n",
       "75%        0.000000      0.000000      1.000000      0.000000      0.000000   \n",
       "max        1.000000      1.000000      1.000000      4.000000      4.000000   \n",
       "\n",
       "           NEWCELLY      NEWCELLN         REFER       INCMISS        INCOME  \\\n",
       "count  71047.000000  71047.000000  71047.000000  71047.000000  71047.000000   \n",
       "mean       0.192943      0.138781      0.050854      0.249835      4.334229   \n",
       "std        0.394611      0.345721      0.290444      0.432920      3.137063   \n",
       "min        0.000000      0.000000      0.000000      0.000000      0.000000   \n",
       "25%        0.000000      0.000000      0.000000      0.000000      1.000000   \n",
       "50%        0.000000      0.000000      0.000000      0.000000      5.000000   \n",
       "75%        0.000000      0.000000      0.000000      0.000000      7.000000   \n",
       "max        1.000000      1.000000     35.000000      1.000000      9.000000   \n",
       "\n",
       "             MCYCLE      CREDITAD       SETPRCM        SETPRC       RETCALL  \\\n",
       "count  71047.000000  71047.000000  71047.000000  71047.000000  71047.000000   \n",
       "mean       0.013456      0.053162      0.566512     35.798584      0.034034   \n",
       "std        0.115217      0.374988      0.495560     57.040964      0.181317   \n",
       "min        0.000000      0.000000      0.000000      0.000000      0.000000   \n",
       "25%        0.000000      0.000000      0.000000      0.000000      0.000000   \n",
       "50%        0.000000      0.000000      1.000000      0.000000      0.000000   \n",
       "75%        0.000000      0.000000      1.000000     39.990000      0.000000   \n",
       "max        1.000000     25.000000      1.000000    499.990000      1.000000   \n",
       "\n",
       "           CALIBRAT      CHURNDEP  \n",
       "count  71047.000000  71047.000000  \n",
       "mean       0.563008      0.500000  \n",
       "std        0.496018      0.375172  \n",
       "min        0.000000      0.000000  \n",
       "25%        0.000000      0.000000  \n",
       "50%        1.000000      0.500000  \n",
       "75%        1.000000      1.000000  \n",
       "max        1.000000      1.000000  "
      ]
     },
     "execution_count": 22,
     "metadata": {},
     "output_type": "execute_result"
    }
   ],
   "source": [
    "c2c.describe()"
   ]
  },
  {
   "cell_type": "code",
   "execution_count": 23,
   "metadata": {},
   "outputs": [
    {
     "data": {
      "text/plain": [
       "0    50438\n",
       "1    20609\n",
       "Name: CHURN, dtype: int64"
      ]
     },
     "execution_count": 23,
     "metadata": {},
     "output_type": "execute_result"
    }
   ],
   "source": [
    "c2c[\"CHURN\"].value_counts()"
   ]
  },
  {
   "cell_type": "code",
   "execution_count": 61,
   "metadata": {},
   "outputs": [
    {
     "data": {
      "text/plain": [
       "REVENUE       216\n",
       "MOU           216\n",
       "RECCHRGE      216\n",
       "DIRECTAS      216\n",
       "OVERAGE       216\n",
       "ROAM          216\n",
       "CHANGEM       502\n",
       "CHANGER       502\n",
       "DROPVCE         0\n",
       "BLCKVCE         0\n",
       "UNANSVCE        0\n",
       "CUSTCARE        0\n",
       "THREEWAY        0\n",
       "MOUREC          0\n",
       "OUTCALLS        0\n",
       "INCALLS         0\n",
       "PEAKVCE         0\n",
       "OPEAKVCE        0\n",
       "DROPBLK         0\n",
       "CALLFWDV        0\n",
       "CALLWAIT        0\n",
       "CHURN           0\n",
       "MONTHS          0\n",
       "UNIQSUBS        0\n",
       "ACTVSUBS        0\n",
       "CSA            28\n",
       "PHONES          1\n",
       "MODELS          1\n",
       "EQPDAYS         1\n",
       "CUSTOMER        0\n",
       "AGE1         1244\n",
       "AGE2         1244\n",
       "CHILDREN        0\n",
       "CREDITA         0\n",
       "CREDITAA        0\n",
       "CREDITB         0\n",
       "CREDITC         0\n",
       "CREDITDE        0\n",
       "CREDITGY        0\n",
       "CREDITZ         0\n",
       "PRIZMRUR        0\n",
       "PRIZMUB         0\n",
       "PRIZMTWN        0\n",
       "REFURB          0\n",
       "WEBCAP          0\n",
       "TRUCK           0\n",
       "RV              0\n",
       "OCCPROF         0\n",
       "OCCCLER         0\n",
       "OCCCRFT         0\n",
       "OCCSTUD         0\n",
       "OCCHMKR         0\n",
       "OCCRET          0\n",
       "OCCSELF         0\n",
       "OWNRENT         0\n",
       "MARRYUN         0\n",
       "MARRYYES        0\n",
       "MARRYNO         0\n",
       "MAILORD         0\n",
       "MAILRES         0\n",
       "MAILFLAG        0\n",
       "TRAVEL          0\n",
       "PCOWN           0\n",
       "CREDITCD        0\n",
       "RETCALLS        0\n",
       "RETACCPT        0\n",
       "NEWCELLY        0\n",
       "NEWCELLN        0\n",
       "REFER           0\n",
       "INCMISS         0\n",
       "INCOME          0\n",
       "MCYCLE          0\n",
       "CREDITAD        0\n",
       "SETPRCM         0\n",
       "SETPRC          0\n",
       "RETCALL         0\n",
       "CALIBRAT        0\n",
       "CHURNDEP    31047\n",
       "dtype: int64"
      ]
     },
     "execution_count": 61,
     "metadata": {},
     "output_type": "execute_result"
    }
   ],
   "source": [
    "#total null values in each column\n",
    "c2c.isnull().sum()"
   ]
  },
  {
   "cell_type": "markdown",
   "metadata": {},
   "source": [
    "**MISSING VALUES**"
   ]
  },
  {
   "cell_type": "code",
   "execution_count": 5,
   "metadata": {},
   "outputs": [
    {
     "data": {
      "text/plain": [
       "35866"
      ]
     },
     "execution_count": 5,
     "metadata": {},
     "output_type": "execute_result"
    }
   ],
   "source": [
    "#total null values in whole data frame\n",
    "c2c.isnull().sum().sum()"
   ]
  },
  {
   "cell_type": "code",
   "execution_count": 6,
   "metadata": {},
   "outputs": [],
   "source": [
    "#replacing null values with their mean\n",
    "c2c=c2c.fillna(c2c.mean())"
   ]
  },
  {
   "cell_type": "code",
   "execution_count": 7,
   "metadata": {},
   "outputs": [],
   "source": [
    "#replacing null value at CSA(object type) by value above them\n",
    "c2c[\"CSA\"].fillna(method='ffill',inplace=True)"
   ]
  },
  {
   "cell_type": "code",
   "execution_count": 8,
   "metadata": {},
   "outputs": [
    {
     "data": {
      "text/html": [
       "<div>\n",
       "<style scoped>\n",
       "    .dataframe tbody tr th:only-of-type {\n",
       "        vertical-align: middle;\n",
       "    }\n",
       "\n",
       "    .dataframe tbody tr th {\n",
       "        vertical-align: top;\n",
       "    }\n",
       "\n",
       "    .dataframe thead th {\n",
       "        text-align: right;\n",
       "    }\n",
       "</style>\n",
       "<table border=\"1\" class=\"dataframe\">\n",
       "  <thead>\n",
       "    <tr style=\"text-align: right;\">\n",
       "      <th></th>\n",
       "      <th>REVENUE</th>\n",
       "      <th>MOU</th>\n",
       "      <th>RECCHRGE</th>\n",
       "      <th>DIRECTAS</th>\n",
       "      <th>OVERAGE</th>\n",
       "      <th>ROAM</th>\n",
       "      <th>CHANGEM</th>\n",
       "      <th>CHANGER</th>\n",
       "      <th>DROPVCE</th>\n",
       "      <th>BLCKVCE</th>\n",
       "      <th>UNANSVCE</th>\n",
       "      <th>CUSTCARE</th>\n",
       "      <th>THREEWAY</th>\n",
       "      <th>MOUREC</th>\n",
       "      <th>OUTCALLS</th>\n",
       "      <th>INCALLS</th>\n",
       "      <th>PEAKVCE</th>\n",
       "      <th>OPEAKVCE</th>\n",
       "      <th>DROPBLK</th>\n",
       "      <th>CALLFWDV</th>\n",
       "      <th>CALLWAIT</th>\n",
       "      <th>CHURN</th>\n",
       "      <th>MONTHS</th>\n",
       "      <th>UNIQSUBS</th>\n",
       "      <th>ACTVSUBS</th>\n",
       "      <th>CSA</th>\n",
       "      <th>PHONES</th>\n",
       "      <th>MODELS</th>\n",
       "      <th>EQPDAYS</th>\n",
       "      <th>CUSTOMER</th>\n",
       "      <th>AGE1</th>\n",
       "      <th>AGE2</th>\n",
       "      <th>CHILDREN</th>\n",
       "      <th>CREDITA</th>\n",
       "      <th>CREDITAA</th>\n",
       "      <th>CREDITB</th>\n",
       "      <th>CREDITC</th>\n",
       "      <th>CREDITDE</th>\n",
       "      <th>CREDITGY</th>\n",
       "      <th>CREDITZ</th>\n",
       "      <th>PRIZMRUR</th>\n",
       "      <th>PRIZMUB</th>\n",
       "      <th>PRIZMTWN</th>\n",
       "      <th>REFURB</th>\n",
       "      <th>WEBCAP</th>\n",
       "      <th>TRUCK</th>\n",
       "      <th>RV</th>\n",
       "      <th>OCCPROF</th>\n",
       "      <th>OCCCLER</th>\n",
       "      <th>OCCCRFT</th>\n",
       "      <th>OCCSTUD</th>\n",
       "      <th>OCCHMKR</th>\n",
       "      <th>OCCRET</th>\n",
       "      <th>OCCSELF</th>\n",
       "      <th>OWNRENT</th>\n",
       "      <th>MARRYUN</th>\n",
       "      <th>MARRYYES</th>\n",
       "      <th>MARRYNO</th>\n",
       "      <th>MAILORD</th>\n",
       "      <th>MAILRES</th>\n",
       "      <th>MAILFLAG</th>\n",
       "      <th>TRAVEL</th>\n",
       "      <th>PCOWN</th>\n",
       "      <th>CREDITCD</th>\n",
       "      <th>RETCALLS</th>\n",
       "      <th>RETACCPT</th>\n",
       "      <th>NEWCELLY</th>\n",
       "      <th>NEWCELLN</th>\n",
       "      <th>REFER</th>\n",
       "      <th>INCMISS</th>\n",
       "      <th>INCOME</th>\n",
       "      <th>MCYCLE</th>\n",
       "      <th>CREDITAD</th>\n",
       "      <th>SETPRCM</th>\n",
       "      <th>SETPRC</th>\n",
       "      <th>RETCALL</th>\n",
       "      <th>CALIBRAT</th>\n",
       "      <th>CHURNDEP</th>\n",
       "    </tr>\n",
       "  </thead>\n",
       "  <tbody>\n",
       "    <tr>\n",
       "      <th>0</th>\n",
       "      <td>57.49</td>\n",
       "      <td>482.75</td>\n",
       "      <td>37.43</td>\n",
       "      <td>0.25</td>\n",
       "      <td>22.75</td>\n",
       "      <td>0.00</td>\n",
       "      <td>532.25</td>\n",
       "      <td>50.99</td>\n",
       "      <td>8.33</td>\n",
       "      <td>1.00</td>\n",
       "      <td>61.33</td>\n",
       "      <td>1.67</td>\n",
       "      <td>0.33</td>\n",
       "      <td>55.28</td>\n",
       "      <td>46.33</td>\n",
       "      <td>6.33</td>\n",
       "      <td>83.67</td>\n",
       "      <td>157.00</td>\n",
       "      <td>9.33</td>\n",
       "      <td>0.0</td>\n",
       "      <td>5.67</td>\n",
       "      <td>0</td>\n",
       "      <td>56</td>\n",
       "      <td>1</td>\n",
       "      <td>1</td>\n",
       "      <td>MILMIL414</td>\n",
       "      <td>7.0</td>\n",
       "      <td>6.0</td>\n",
       "      <td>240.0</td>\n",
       "      <td>1000002</td>\n",
       "      <td>30.0</td>\n",
       "      <td>0.0</td>\n",
       "      <td>0</td>\n",
       "      <td>0</td>\n",
       "      <td>0</td>\n",
       "      <td>0</td>\n",
       "      <td>0</td>\n",
       "      <td>1</td>\n",
       "      <td>0</td>\n",
       "      <td>0</td>\n",
       "      <td>0</td>\n",
       "      <td>0</td>\n",
       "      <td>0</td>\n",
       "      <td>0</td>\n",
       "      <td>1</td>\n",
       "      <td>1</td>\n",
       "      <td>1</td>\n",
       "      <td>0</td>\n",
       "      <td>0</td>\n",
       "      <td>0</td>\n",
       "      <td>0</td>\n",
       "      <td>0</td>\n",
       "      <td>0</td>\n",
       "      <td>0</td>\n",
       "      <td>1</td>\n",
       "      <td>0</td>\n",
       "      <td>0</td>\n",
       "      <td>1</td>\n",
       "      <td>1</td>\n",
       "      <td>1</td>\n",
       "      <td>0</td>\n",
       "      <td>0</td>\n",
       "      <td>0</td>\n",
       "      <td>1</td>\n",
       "      <td>0</td>\n",
       "      <td>0</td>\n",
       "      <td>0</td>\n",
       "      <td>1</td>\n",
       "      <td>0</td>\n",
       "      <td>0</td>\n",
       "      <td>5</td>\n",
       "      <td>0</td>\n",
       "      <td>1</td>\n",
       "      <td>0</td>\n",
       "      <td>149.99</td>\n",
       "      <td>0</td>\n",
       "      <td>0</td>\n",
       "      <td>0.5</td>\n",
       "    </tr>\n",
       "    <tr>\n",
       "      <th>1</th>\n",
       "      <td>82.28</td>\n",
       "      <td>1312.25</td>\n",
       "      <td>75.00</td>\n",
       "      <td>1.24</td>\n",
       "      <td>0.00</td>\n",
       "      <td>0.00</td>\n",
       "      <td>156.75</td>\n",
       "      <td>8.14</td>\n",
       "      <td>52.00</td>\n",
       "      <td>7.67</td>\n",
       "      <td>76.00</td>\n",
       "      <td>4.33</td>\n",
       "      <td>1.33</td>\n",
       "      <td>200.32</td>\n",
       "      <td>370.33</td>\n",
       "      <td>147.00</td>\n",
       "      <td>555.67</td>\n",
       "      <td>303.67</td>\n",
       "      <td>59.67</td>\n",
       "      <td>0.0</td>\n",
       "      <td>22.67</td>\n",
       "      <td>0</td>\n",
       "      <td>59</td>\n",
       "      <td>2</td>\n",
       "      <td>2</td>\n",
       "      <td>PITHOM412</td>\n",
       "      <td>9.0</td>\n",
       "      <td>4.0</td>\n",
       "      <td>458.0</td>\n",
       "      <td>1000006</td>\n",
       "      <td>30.0</td>\n",
       "      <td>0.0</td>\n",
       "      <td>0</td>\n",
       "      <td>0</td>\n",
       "      <td>0</td>\n",
       "      <td>0</td>\n",
       "      <td>1</td>\n",
       "      <td>0</td>\n",
       "      <td>0</td>\n",
       "      <td>0</td>\n",
       "      <td>0</td>\n",
       "      <td>0</td>\n",
       "      <td>0</td>\n",
       "      <td>0</td>\n",
       "      <td>1</td>\n",
       "      <td>0</td>\n",
       "      <td>0</td>\n",
       "      <td>0</td>\n",
       "      <td>0</td>\n",
       "      <td>0</td>\n",
       "      <td>0</td>\n",
       "      <td>0</td>\n",
       "      <td>0</td>\n",
       "      <td>0</td>\n",
       "      <td>0</td>\n",
       "      <td>0</td>\n",
       "      <td>0</td>\n",
       "      <td>1</td>\n",
       "      <td>1</td>\n",
       "      <td>1</td>\n",
       "      <td>0</td>\n",
       "      <td>0</td>\n",
       "      <td>0</td>\n",
       "      <td>1</td>\n",
       "      <td>0</td>\n",
       "      <td>0</td>\n",
       "      <td>1</td>\n",
       "      <td>0</td>\n",
       "      <td>0</td>\n",
       "      <td>0</td>\n",
       "      <td>6</td>\n",
       "      <td>0</td>\n",
       "      <td>0</td>\n",
       "      <td>0</td>\n",
       "      <td>9.99</td>\n",
       "      <td>0</td>\n",
       "      <td>0</td>\n",
       "      <td>0.5</td>\n",
       "    </tr>\n",
       "    <tr>\n",
       "      <th>2</th>\n",
       "      <td>31.66</td>\n",
       "      <td>25.50</td>\n",
       "      <td>29.99</td>\n",
       "      <td>0.25</td>\n",
       "      <td>0.00</td>\n",
       "      <td>0.00</td>\n",
       "      <td>59.50</td>\n",
       "      <td>4.03</td>\n",
       "      <td>0.00</td>\n",
       "      <td>1.00</td>\n",
       "      <td>2.33</td>\n",
       "      <td>0.00</td>\n",
       "      <td>0.00</td>\n",
       "      <td>0.00</td>\n",
       "      <td>0.00</td>\n",
       "      <td>0.00</td>\n",
       "      <td>1.67</td>\n",
       "      <td>1.67</td>\n",
       "      <td>1.00</td>\n",
       "      <td>0.0</td>\n",
       "      <td>0.00</td>\n",
       "      <td>0</td>\n",
       "      <td>57</td>\n",
       "      <td>2</td>\n",
       "      <td>2</td>\n",
       "      <td>OKCTUL918</td>\n",
       "      <td>2.0</td>\n",
       "      <td>2.0</td>\n",
       "      <td>601.0</td>\n",
       "      <td>1000010</td>\n",
       "      <td>52.0</td>\n",
       "      <td>58.0</td>\n",
       "      <td>0</td>\n",
       "      <td>1</td>\n",
       "      <td>0</td>\n",
       "      <td>0</td>\n",
       "      <td>0</td>\n",
       "      <td>0</td>\n",
       "      <td>0</td>\n",
       "      <td>0</td>\n",
       "      <td>0</td>\n",
       "      <td>0</td>\n",
       "      <td>0</td>\n",
       "      <td>0</td>\n",
       "      <td>1</td>\n",
       "      <td>0</td>\n",
       "      <td>0</td>\n",
       "      <td>0</td>\n",
       "      <td>0</td>\n",
       "      <td>0</td>\n",
       "      <td>0</td>\n",
       "      <td>0</td>\n",
       "      <td>0</td>\n",
       "      <td>1</td>\n",
       "      <td>0</td>\n",
       "      <td>0</td>\n",
       "      <td>1</td>\n",
       "      <td>0</td>\n",
       "      <td>1</td>\n",
       "      <td>1</td>\n",
       "      <td>0</td>\n",
       "      <td>1</td>\n",
       "      <td>0</td>\n",
       "      <td>1</td>\n",
       "      <td>0</td>\n",
       "      <td>0</td>\n",
       "      <td>0</td>\n",
       "      <td>1</td>\n",
       "      <td>0</td>\n",
       "      <td>0</td>\n",
       "      <td>9</td>\n",
       "      <td>0</td>\n",
       "      <td>1</td>\n",
       "      <td>0</td>\n",
       "      <td>29.99</td>\n",
       "      <td>0</td>\n",
       "      <td>0</td>\n",
       "      <td>0.5</td>\n",
       "    </tr>\n",
       "    <tr>\n",
       "      <th>3</th>\n",
       "      <td>62.13</td>\n",
       "      <td>97.50</td>\n",
       "      <td>65.99</td>\n",
       "      <td>2.48</td>\n",
       "      <td>0.00</td>\n",
       "      <td>0.00</td>\n",
       "      <td>23.50</td>\n",
       "      <td>6.82</td>\n",
       "      <td>0.00</td>\n",
       "      <td>0.33</td>\n",
       "      <td>4.00</td>\n",
       "      <td>4.00</td>\n",
       "      <td>0.00</td>\n",
       "      <td>0.00</td>\n",
       "      <td>3.67</td>\n",
       "      <td>0.00</td>\n",
       "      <td>7.67</td>\n",
       "      <td>7.33</td>\n",
       "      <td>0.33</td>\n",
       "      <td>0.0</td>\n",
       "      <td>0.00</td>\n",
       "      <td>0</td>\n",
       "      <td>59</td>\n",
       "      <td>2</td>\n",
       "      <td>2</td>\n",
       "      <td>OKCOKC405</td>\n",
       "      <td>3.0</td>\n",
       "      <td>3.0</td>\n",
       "      <td>464.0</td>\n",
       "      <td>1000011</td>\n",
       "      <td>46.0</td>\n",
       "      <td>46.0</td>\n",
       "      <td>1</td>\n",
       "      <td>1</td>\n",
       "      <td>0</td>\n",
       "      <td>0</td>\n",
       "      <td>0</td>\n",
       "      <td>0</td>\n",
       "      <td>0</td>\n",
       "      <td>0</td>\n",
       "      <td>0</td>\n",
       "      <td>0</td>\n",
       "      <td>0</td>\n",
       "      <td>0</td>\n",
       "      <td>1</td>\n",
       "      <td>0</td>\n",
       "      <td>0</td>\n",
       "      <td>1</td>\n",
       "      <td>0</td>\n",
       "      <td>0</td>\n",
       "      <td>0</td>\n",
       "      <td>0</td>\n",
       "      <td>0</td>\n",
       "      <td>0</td>\n",
       "      <td>0</td>\n",
       "      <td>0</td>\n",
       "      <td>0</td>\n",
       "      <td>1</td>\n",
       "      <td>1</td>\n",
       "      <td>1</td>\n",
       "      <td>0</td>\n",
       "      <td>0</td>\n",
       "      <td>0</td>\n",
       "      <td>1</td>\n",
       "      <td>0</td>\n",
       "      <td>0</td>\n",
       "      <td>1</td>\n",
       "      <td>0</td>\n",
       "      <td>0</td>\n",
       "      <td>0</td>\n",
       "      <td>6</td>\n",
       "      <td>0</td>\n",
       "      <td>0</td>\n",
       "      <td>0</td>\n",
       "      <td>29.99</td>\n",
       "      <td>0</td>\n",
       "      <td>0</td>\n",
       "      <td>0.5</td>\n",
       "    </tr>\n",
       "    <tr>\n",
       "      <th>4</th>\n",
       "      <td>25.23</td>\n",
       "      <td>2.50</td>\n",
       "      <td>25.00</td>\n",
       "      <td>0.00</td>\n",
       "      <td>0.00</td>\n",
       "      <td>0.00</td>\n",
       "      <td>-2.50</td>\n",
       "      <td>-0.23</td>\n",
       "      <td>0.00</td>\n",
       "      <td>0.00</td>\n",
       "      <td>0.33</td>\n",
       "      <td>0.00</td>\n",
       "      <td>0.00</td>\n",
       "      <td>1.13</td>\n",
       "      <td>0.33</td>\n",
       "      <td>0.00</td>\n",
       "      <td>0.67</td>\n",
       "      <td>0.67</td>\n",
       "      <td>0.00</td>\n",
       "      <td>0.0</td>\n",
       "      <td>0.00</td>\n",
       "      <td>0</td>\n",
       "      <td>53</td>\n",
       "      <td>2</td>\n",
       "      <td>2</td>\n",
       "      <td>SANMCA210</td>\n",
       "      <td>2.0</td>\n",
       "      <td>2.0</td>\n",
       "      <td>354.0</td>\n",
       "      <td>1000014</td>\n",
       "      <td>0.0</td>\n",
       "      <td>0.0</td>\n",
       "      <td>0</td>\n",
       "      <td>1</td>\n",
       "      <td>0</td>\n",
       "      <td>0</td>\n",
       "      <td>0</td>\n",
       "      <td>0</td>\n",
       "      <td>0</td>\n",
       "      <td>0</td>\n",
       "      <td>0</td>\n",
       "      <td>0</td>\n",
       "      <td>0</td>\n",
       "      <td>0</td>\n",
       "      <td>1</td>\n",
       "      <td>1</td>\n",
       "      <td>0</td>\n",
       "      <td>0</td>\n",
       "      <td>0</td>\n",
       "      <td>0</td>\n",
       "      <td>0</td>\n",
       "      <td>0</td>\n",
       "      <td>0</td>\n",
       "      <td>0</td>\n",
       "      <td>1</td>\n",
       "      <td>1</td>\n",
       "      <td>0</td>\n",
       "      <td>0</td>\n",
       "      <td>0</td>\n",
       "      <td>0</td>\n",
       "      <td>0</td>\n",
       "      <td>0</td>\n",
       "      <td>0</td>\n",
       "      <td>0</td>\n",
       "      <td>0</td>\n",
       "      <td>0</td>\n",
       "      <td>1</td>\n",
       "      <td>0</td>\n",
       "      <td>0</td>\n",
       "      <td>0</td>\n",
       "      <td>7</td>\n",
       "      <td>0</td>\n",
       "      <td>0</td>\n",
       "      <td>0</td>\n",
       "      <td>29.99</td>\n",
       "      <td>0</td>\n",
       "      <td>0</td>\n",
       "      <td>0.5</td>\n",
       "    </tr>\n",
       "    <tr>\n",
       "      <th>5</th>\n",
       "      <td>212.52</td>\n",
       "      <td>1971.50</td>\n",
       "      <td>84.99</td>\n",
       "      <td>2.23</td>\n",
       "      <td>249.50</td>\n",
       "      <td>35.50</td>\n",
       "      <td>-200.50</td>\n",
       "      <td>-106.77</td>\n",
       "      <td>9.00</td>\n",
       "      <td>0.00</td>\n",
       "      <td>43.67</td>\n",
       "      <td>0.33</td>\n",
       "      <td>0.00</td>\n",
       "      <td>718.07</td>\n",
       "      <td>49.33</td>\n",
       "      <td>4.67</td>\n",
       "      <td>351.67</td>\n",
       "      <td>128.67</td>\n",
       "      <td>9.00</td>\n",
       "      <td>0.0</td>\n",
       "      <td>1.00</td>\n",
       "      <td>0</td>\n",
       "      <td>59</td>\n",
       "      <td>5</td>\n",
       "      <td>1</td>\n",
       "      <td>SLCSLC801</td>\n",
       "      <td>10.0</td>\n",
       "      <td>6.0</td>\n",
       "      <td>199.0</td>\n",
       "      <td>1000015</td>\n",
       "      <td>30.0</td>\n",
       "      <td>22.0</td>\n",
       "      <td>1</td>\n",
       "      <td>0</td>\n",
       "      <td>0</td>\n",
       "      <td>0</td>\n",
       "      <td>1</td>\n",
       "      <td>0</td>\n",
       "      <td>0</td>\n",
       "      <td>0</td>\n",
       "      <td>0</td>\n",
       "      <td>1</td>\n",
       "      <td>0</td>\n",
       "      <td>0</td>\n",
       "      <td>1</td>\n",
       "      <td>0</td>\n",
       "      <td>0</td>\n",
       "      <td>0</td>\n",
       "      <td>0</td>\n",
       "      <td>0</td>\n",
       "      <td>0</td>\n",
       "      <td>0</td>\n",
       "      <td>0</td>\n",
       "      <td>0</td>\n",
       "      <td>0</td>\n",
       "      <td>0</td>\n",
       "      <td>0</td>\n",
       "      <td>1</td>\n",
       "      <td>0</td>\n",
       "      <td>1</td>\n",
       "      <td>0</td>\n",
       "      <td>0</td>\n",
       "      <td>1</td>\n",
       "      <td>1</td>\n",
       "      <td>0</td>\n",
       "      <td>0</td>\n",
       "      <td>1</td>\n",
       "      <td>0</td>\n",
       "      <td>0</td>\n",
       "      <td>0</td>\n",
       "      <td>3</td>\n",
       "      <td>0</td>\n",
       "      <td>1</td>\n",
       "      <td>0</td>\n",
       "      <td>79.99</td>\n",
       "      <td>0</td>\n",
       "      <td>0</td>\n",
       "      <td>0.5</td>\n",
       "    </tr>\n",
       "    <tr>\n",
       "      <th>6</th>\n",
       "      <td>42.57</td>\n",
       "      <td>270.50</td>\n",
       "      <td>37.48</td>\n",
       "      <td>0.25</td>\n",
       "      <td>6.00</td>\n",
       "      <td>0.00</td>\n",
       "      <td>201.50</td>\n",
       "      <td>-1.79</td>\n",
       "      <td>3.33</td>\n",
       "      <td>1.67</td>\n",
       "      <td>7.67</td>\n",
       "      <td>1.00</td>\n",
       "      <td>0.00</td>\n",
       "      <td>57.09</td>\n",
       "      <td>11.00</td>\n",
       "      <td>3.67</td>\n",
       "      <td>62.33</td>\n",
       "      <td>18.00</td>\n",
       "      <td>5.00</td>\n",
       "      <td>0.0</td>\n",
       "      <td>0.33</td>\n",
       "      <td>0</td>\n",
       "      <td>55</td>\n",
       "      <td>2</td>\n",
       "      <td>2</td>\n",
       "      <td>OKCOKC405</td>\n",
       "      <td>5.0</td>\n",
       "      <td>4.0</td>\n",
       "      <td>697.0</td>\n",
       "      <td>1000016</td>\n",
       "      <td>58.0</td>\n",
       "      <td>58.0</td>\n",
       "      <td>1</td>\n",
       "      <td>0</td>\n",
       "      <td>0</td>\n",
       "      <td>1</td>\n",
       "      <td>0</td>\n",
       "      <td>0</td>\n",
       "      <td>0</td>\n",
       "      <td>0</td>\n",
       "      <td>0</td>\n",
       "      <td>1</td>\n",
       "      <td>0</td>\n",
       "      <td>0</td>\n",
       "      <td>1</td>\n",
       "      <td>0</td>\n",
       "      <td>0</td>\n",
       "      <td>0</td>\n",
       "      <td>0</td>\n",
       "      <td>0</td>\n",
       "      <td>0</td>\n",
       "      <td>0</td>\n",
       "      <td>0</td>\n",
       "      <td>0</td>\n",
       "      <td>0</td>\n",
       "      <td>1</td>\n",
       "      <td>0</td>\n",
       "      <td>0</td>\n",
       "      <td>0</td>\n",
       "      <td>0</td>\n",
       "      <td>0</td>\n",
       "      <td>0</td>\n",
       "      <td>0</td>\n",
       "      <td>1</td>\n",
       "      <td>0</td>\n",
       "      <td>0</td>\n",
       "      <td>0</td>\n",
       "      <td>1</td>\n",
       "      <td>0</td>\n",
       "      <td>0</td>\n",
       "      <td>1</td>\n",
       "      <td>0</td>\n",
       "      <td>1</td>\n",
       "      <td>0</td>\n",
       "      <td>29.99</td>\n",
       "      <td>0</td>\n",
       "      <td>0</td>\n",
       "      <td>0.5</td>\n",
       "    </tr>\n",
       "    <tr>\n",
       "      <th>7</th>\n",
       "      <td>35.59</td>\n",
       "      <td>153.00</td>\n",
       "      <td>29.99</td>\n",
       "      <td>0.00</td>\n",
       "      <td>16.00</td>\n",
       "      <td>0.00</td>\n",
       "      <td>30.00</td>\n",
       "      <td>7.35</td>\n",
       "      <td>2.00</td>\n",
       "      <td>0.67</td>\n",
       "      <td>17.33</td>\n",
       "      <td>0.00</td>\n",
       "      <td>0.00</td>\n",
       "      <td>33.11</td>\n",
       "      <td>8.00</td>\n",
       "      <td>4.67</td>\n",
       "      <td>48.33</td>\n",
       "      <td>7.00</td>\n",
       "      <td>2.67</td>\n",
       "      <td>0.0</td>\n",
       "      <td>0.33</td>\n",
       "      <td>0</td>\n",
       "      <td>59</td>\n",
       "      <td>3</td>\n",
       "      <td>2</td>\n",
       "      <td>SLCSLC801</td>\n",
       "      <td>6.0</td>\n",
       "      <td>5.0</td>\n",
       "      <td>48.0</td>\n",
       "      <td>1000018</td>\n",
       "      <td>46.0</td>\n",
       "      <td>0.0</td>\n",
       "      <td>1</td>\n",
       "      <td>1</td>\n",
       "      <td>0</td>\n",
       "      <td>0</td>\n",
       "      <td>0</td>\n",
       "      <td>0</td>\n",
       "      <td>0</td>\n",
       "      <td>0</td>\n",
       "      <td>0</td>\n",
       "      <td>0</td>\n",
       "      <td>0</td>\n",
       "      <td>0</td>\n",
       "      <td>1</td>\n",
       "      <td>1</td>\n",
       "      <td>1</td>\n",
       "      <td>0</td>\n",
       "      <td>0</td>\n",
       "      <td>0</td>\n",
       "      <td>0</td>\n",
       "      <td>0</td>\n",
       "      <td>0</td>\n",
       "      <td>0</td>\n",
       "      <td>0</td>\n",
       "      <td>0</td>\n",
       "      <td>0</td>\n",
       "      <td>1</td>\n",
       "      <td>1</td>\n",
       "      <td>1</td>\n",
       "      <td>1</td>\n",
       "      <td>0</td>\n",
       "      <td>0</td>\n",
       "      <td>1</td>\n",
       "      <td>0</td>\n",
       "      <td>0</td>\n",
       "      <td>0</td>\n",
       "      <td>1</td>\n",
       "      <td>0</td>\n",
       "      <td>0</td>\n",
       "      <td>4</td>\n",
       "      <td>0</td>\n",
       "      <td>1</td>\n",
       "      <td>0</td>\n",
       "      <td>199.99</td>\n",
       "      <td>0</td>\n",
       "      <td>0</td>\n",
       "      <td>0.5</td>\n",
       "    </tr>\n",
       "    <tr>\n",
       "      <th>8</th>\n",
       "      <td>55.27</td>\n",
       "      <td>1212.75</td>\n",
       "      <td>49.99</td>\n",
       "      <td>0.74</td>\n",
       "      <td>0.00</td>\n",
       "      <td>1.29</td>\n",
       "      <td>169.25</td>\n",
       "      <td>0.99</td>\n",
       "      <td>2.67</td>\n",
       "      <td>6.00</td>\n",
       "      <td>43.67</td>\n",
       "      <td>4.33</td>\n",
       "      <td>0.00</td>\n",
       "      <td>490.13</td>\n",
       "      <td>50.67</td>\n",
       "      <td>8.33</td>\n",
       "      <td>189.33</td>\n",
       "      <td>105.00</td>\n",
       "      <td>8.67</td>\n",
       "      <td>0.0</td>\n",
       "      <td>4.33</td>\n",
       "      <td>0</td>\n",
       "      <td>52</td>\n",
       "      <td>1</td>\n",
       "      <td>1</td>\n",
       "      <td>OKCTUL918</td>\n",
       "      <td>4.0</td>\n",
       "      <td>4.0</td>\n",
       "      <td>408.0</td>\n",
       "      <td>1000019</td>\n",
       "      <td>58.0</td>\n",
       "      <td>0.0</td>\n",
       "      <td>0</td>\n",
       "      <td>1</td>\n",
       "      <td>0</td>\n",
       "      <td>0</td>\n",
       "      <td>0</td>\n",
       "      <td>0</td>\n",
       "      <td>0</td>\n",
       "      <td>0</td>\n",
       "      <td>0</td>\n",
       "      <td>1</td>\n",
       "      <td>0</td>\n",
       "      <td>0</td>\n",
       "      <td>1</td>\n",
       "      <td>0</td>\n",
       "      <td>0</td>\n",
       "      <td>0</td>\n",
       "      <td>0</td>\n",
       "      <td>0</td>\n",
       "      <td>0</td>\n",
       "      <td>0</td>\n",
       "      <td>0</td>\n",
       "      <td>0</td>\n",
       "      <td>0</td>\n",
       "      <td>0</td>\n",
       "      <td>0</td>\n",
       "      <td>1</td>\n",
       "      <td>1</td>\n",
       "      <td>1</td>\n",
       "      <td>0</td>\n",
       "      <td>0</td>\n",
       "      <td>0</td>\n",
       "      <td>1</td>\n",
       "      <td>0</td>\n",
       "      <td>0</td>\n",
       "      <td>0</td>\n",
       "      <td>1</td>\n",
       "      <td>0</td>\n",
       "      <td>0</td>\n",
       "      <td>3</td>\n",
       "      <td>0</td>\n",
       "      <td>0</td>\n",
       "      <td>0</td>\n",
       "      <td>9.99</td>\n",
       "      <td>0</td>\n",
       "      <td>0</td>\n",
       "      <td>0.5</td>\n",
       "    </tr>\n",
       "    <tr>\n",
       "      <th>9</th>\n",
       "      <td>50.97</td>\n",
       "      <td>162.00</td>\n",
       "      <td>69.99</td>\n",
       "      <td>0.00</td>\n",
       "      <td>2.50</td>\n",
       "      <td>0.00</td>\n",
       "      <td>-58.00</td>\n",
       "      <td>-0.98</td>\n",
       "      <td>1.67</td>\n",
       "      <td>0.33</td>\n",
       "      <td>9.00</td>\n",
       "      <td>0.33</td>\n",
       "      <td>0.00</td>\n",
       "      <td>38.37</td>\n",
       "      <td>34.33</td>\n",
       "      <td>5.67</td>\n",
       "      <td>19.33</td>\n",
       "      <td>42.33</td>\n",
       "      <td>2.00</td>\n",
       "      <td>0.0</td>\n",
       "      <td>0.00</td>\n",
       "      <td>0</td>\n",
       "      <td>56</td>\n",
       "      <td>1</td>\n",
       "      <td>1</td>\n",
       "      <td>MILMIL414</td>\n",
       "      <td>4.0</td>\n",
       "      <td>3.0</td>\n",
       "      <td>253.0</td>\n",
       "      <td>1000020</td>\n",
       "      <td>30.0</td>\n",
       "      <td>30.0</td>\n",
       "      <td>1</td>\n",
       "      <td>0</td>\n",
       "      <td>0</td>\n",
       "      <td>1</td>\n",
       "      <td>0</td>\n",
       "      <td>0</td>\n",
       "      <td>0</td>\n",
       "      <td>0</td>\n",
       "      <td>0</td>\n",
       "      <td>0</td>\n",
       "      <td>0</td>\n",
       "      <td>0</td>\n",
       "      <td>1</td>\n",
       "      <td>0</td>\n",
       "      <td>0</td>\n",
       "      <td>0</td>\n",
       "      <td>0</td>\n",
       "      <td>0</td>\n",
       "      <td>0</td>\n",
       "      <td>0</td>\n",
       "      <td>0</td>\n",
       "      <td>0</td>\n",
       "      <td>0</td>\n",
       "      <td>0</td>\n",
       "      <td>0</td>\n",
       "      <td>1</td>\n",
       "      <td>1</td>\n",
       "      <td>1</td>\n",
       "      <td>0</td>\n",
       "      <td>0</td>\n",
       "      <td>1</td>\n",
       "      <td>0</td>\n",
       "      <td>0</td>\n",
       "      <td>0</td>\n",
       "      <td>1</td>\n",
       "      <td>0</td>\n",
       "      <td>0</td>\n",
       "      <td>0</td>\n",
       "      <td>1</td>\n",
       "      <td>0</td>\n",
       "      <td>0</td>\n",
       "      <td>0</td>\n",
       "      <td>9.99</td>\n",
       "      <td>0</td>\n",
       "      <td>0</td>\n",
       "      <td>0.5</td>\n",
       "    </tr>\n",
       "  </tbody>\n",
       "</table>\n",
       "</div>"
      ],
      "text/plain": [
       "   REVENUE      MOU  RECCHRGE  DIRECTAS  OVERAGE   ROAM  CHANGEM  CHANGER  \\\n",
       "0    57.49   482.75     37.43      0.25    22.75   0.00   532.25    50.99   \n",
       "1    82.28  1312.25     75.00      1.24     0.00   0.00   156.75     8.14   \n",
       "2    31.66    25.50     29.99      0.25     0.00   0.00    59.50     4.03   \n",
       "3    62.13    97.50     65.99      2.48     0.00   0.00    23.50     6.82   \n",
       "4    25.23     2.50     25.00      0.00     0.00   0.00    -2.50    -0.23   \n",
       "5   212.52  1971.50     84.99      2.23   249.50  35.50  -200.50  -106.77   \n",
       "6    42.57   270.50     37.48      0.25     6.00   0.00   201.50    -1.79   \n",
       "7    35.59   153.00     29.99      0.00    16.00   0.00    30.00     7.35   \n",
       "8    55.27  1212.75     49.99      0.74     0.00   1.29   169.25     0.99   \n",
       "9    50.97   162.00     69.99      0.00     2.50   0.00   -58.00    -0.98   \n",
       "\n",
       "   DROPVCE  BLCKVCE  UNANSVCE  CUSTCARE  THREEWAY  MOUREC  OUTCALLS  INCALLS  \\\n",
       "0     8.33     1.00     61.33      1.67      0.33   55.28     46.33     6.33   \n",
       "1    52.00     7.67     76.00      4.33      1.33  200.32    370.33   147.00   \n",
       "2     0.00     1.00      2.33      0.00      0.00    0.00      0.00     0.00   \n",
       "3     0.00     0.33      4.00      4.00      0.00    0.00      3.67     0.00   \n",
       "4     0.00     0.00      0.33      0.00      0.00    1.13      0.33     0.00   \n",
       "5     9.00     0.00     43.67      0.33      0.00  718.07     49.33     4.67   \n",
       "6     3.33     1.67      7.67      1.00      0.00   57.09     11.00     3.67   \n",
       "7     2.00     0.67     17.33      0.00      0.00   33.11      8.00     4.67   \n",
       "8     2.67     6.00     43.67      4.33      0.00  490.13     50.67     8.33   \n",
       "9     1.67     0.33      9.00      0.33      0.00   38.37     34.33     5.67   \n",
       "\n",
       "   PEAKVCE  OPEAKVCE  DROPBLK  CALLFWDV  CALLWAIT  CHURN  MONTHS  UNIQSUBS  \\\n",
       "0    83.67    157.00     9.33       0.0      5.67      0      56         1   \n",
       "1   555.67    303.67    59.67       0.0     22.67      0      59         2   \n",
       "2     1.67      1.67     1.00       0.0      0.00      0      57         2   \n",
       "3     7.67      7.33     0.33       0.0      0.00      0      59         2   \n",
       "4     0.67      0.67     0.00       0.0      0.00      0      53         2   \n",
       "5   351.67    128.67     9.00       0.0      1.00      0      59         5   \n",
       "6    62.33     18.00     5.00       0.0      0.33      0      55         2   \n",
       "7    48.33      7.00     2.67       0.0      0.33      0      59         3   \n",
       "8   189.33    105.00     8.67       0.0      4.33      0      52         1   \n",
       "9    19.33     42.33     2.00       0.0      0.00      0      56         1   \n",
       "\n",
       "   ACTVSUBS        CSA  PHONES  MODELS  EQPDAYS  CUSTOMER  AGE1  AGE2  \\\n",
       "0         1  MILMIL414     7.0     6.0    240.0   1000002  30.0   0.0   \n",
       "1         2  PITHOM412     9.0     4.0    458.0   1000006  30.0   0.0   \n",
       "2         2  OKCTUL918     2.0     2.0    601.0   1000010  52.0  58.0   \n",
       "3         2  OKCOKC405     3.0     3.0    464.0   1000011  46.0  46.0   \n",
       "4         2  SANMCA210     2.0     2.0    354.0   1000014   0.0   0.0   \n",
       "5         1  SLCSLC801    10.0     6.0    199.0   1000015  30.0  22.0   \n",
       "6         2  OKCOKC405     5.0     4.0    697.0   1000016  58.0  58.0   \n",
       "7         2  SLCSLC801     6.0     5.0     48.0   1000018  46.0   0.0   \n",
       "8         1  OKCTUL918     4.0     4.0    408.0   1000019  58.0   0.0   \n",
       "9         1  MILMIL414     4.0     3.0    253.0   1000020  30.0  30.0   \n",
       "\n",
       "   CHILDREN  CREDITA  CREDITAA  CREDITB  CREDITC  CREDITDE  CREDITGY  CREDITZ  \\\n",
       "0         0        0         0        0        0         1         0        0   \n",
       "1         0        0         0        0        1         0         0        0   \n",
       "2         0        1         0        0        0         0         0        0   \n",
       "3         1        1         0        0        0         0         0        0   \n",
       "4         0        1         0        0        0         0         0        0   \n",
       "5         1        0         0        0        1         0         0        0   \n",
       "6         1        0         0        1        0         0         0        0   \n",
       "7         1        1         0        0        0         0         0        0   \n",
       "8         0        1         0        0        0         0         0        0   \n",
       "9         1        0         0        1        0         0         0        0   \n",
       "\n",
       "   PRIZMRUR  PRIZMUB  PRIZMTWN  REFURB  WEBCAP  TRUCK  RV  OCCPROF  OCCCLER  \\\n",
       "0         0        0         0       0       1      1   1        0        0   \n",
       "1         0        0         0       0       1      0   0        0        0   \n",
       "2         0        0         0       0       1      0   0        0        0   \n",
       "3         0        0         0       0       1      0   0        1        0   \n",
       "4         0        0         0       0       1      1   0        0        0   \n",
       "5         0        1         0       0       1      0   0        0        0   \n",
       "6         0        1         0       0       1      0   0        0        0   \n",
       "7         0        0         0       0       1      1   1        0        0   \n",
       "8         0        1         0       0       1      0   0        0        0   \n",
       "9         0        0         0       0       1      0   0        0        0   \n",
       "\n",
       "   OCCCRFT  OCCSTUD  OCCHMKR  OCCRET  OCCSELF  OWNRENT  MARRYUN  MARRYYES  \\\n",
       "0        0        0        0       0        0        1        0         0   \n",
       "1        0        0        0       0        0        0        0         0   \n",
       "2        0        0        0       0        1        0        0         1   \n",
       "3        0        0        0       0        0        0        0         0   \n",
       "4        0        0        0       0        0        1        1         0   \n",
       "5        0        0        0       0        0        0        0         0   \n",
       "6        0        0        0       0        0        0        1         0   \n",
       "7        0        0        0       0        0        0        0         0   \n",
       "8        0        0        0       0        0        0        0         0   \n",
       "9        0        0        0       0        0        0        0         0   \n",
       "\n",
       "   MARRYNO  MAILORD  MAILRES  MAILFLAG  TRAVEL  PCOWN  CREDITCD  RETCALLS  \\\n",
       "0        1        1        1         0       0      0         1         0   \n",
       "1        1        1        1         0       0      0         1         0   \n",
       "2        0        1        1         0       1      0         1         0   \n",
       "3        1        1        1         0       0      0         1         0   \n",
       "4        0        0        0         0       0      0         0         0   \n",
       "5        1        0        1         0       0      1         1         0   \n",
       "6        0        0        0         0       0      0         1         0   \n",
       "7        1        1        1         1       0      0         1         0   \n",
       "8        1        1        1         0       0      0         1         0   \n",
       "9        1        1        1         0       0      1         0         0   \n",
       "\n",
       "   RETACCPT  NEWCELLY  NEWCELLN  REFER  INCMISS  INCOME  MCYCLE  CREDITAD  \\\n",
       "0         0         0         1      0        0       5       0         1   \n",
       "1         0         1         0      0        0       6       0         0   \n",
       "2         0         0         1      0        0       9       0         1   \n",
       "3         0         1         0      0        0       6       0         0   \n",
       "4         0         1         0      0        0       7       0         0   \n",
       "5         0         1         0      0        0       3       0         1   \n",
       "6         0         0         1      0        0       1       0         1   \n",
       "7         0         0         1      0        0       4       0         1   \n",
       "8         0         0         1      0        0       3       0         0   \n",
       "9         0         1         0      0        0       1       0         0   \n",
       "\n",
       "   SETPRCM  SETPRC  RETCALL  CALIBRAT  CHURNDEP  \n",
       "0        0  149.99        0         0       0.5  \n",
       "1        0    9.99        0         0       0.5  \n",
       "2        0   29.99        0         0       0.5  \n",
       "3        0   29.99        0         0       0.5  \n",
       "4        0   29.99        0         0       0.5  \n",
       "5        0   79.99        0         0       0.5  \n",
       "6        0   29.99        0         0       0.5  \n",
       "7        0  199.99        0         0       0.5  \n",
       "8        0    9.99        0         0       0.5  \n",
       "9        0    9.99        0         0       0.5  "
      ]
     },
     "execution_count": 8,
     "metadata": {},
     "output_type": "execute_result"
    }
   ],
   "source": [
    "c2c.head(10)"
   ]
  },
  {
   "cell_type": "code",
   "execution_count": 9,
   "metadata": {},
   "outputs": [
    {
     "data": {
      "text/plain": [
       "0"
      ]
     },
     "execution_count": 9,
     "metadata": {},
     "output_type": "execute_result"
    }
   ],
   "source": [
    "#no remaining null values\n",
    "c2c.isnull().sum().sum()"
   ]
  },
  {
   "cell_type": "code",
   "execution_count": 10,
   "metadata": {},
   "outputs": [
    {
     "data": {
      "text/plain": [
       "REVENUE     0\n",
       "MOU         0\n",
       "RECCHRGE    0\n",
       "DIRECTAS    0\n",
       "OVERAGE     0\n",
       "           ..\n",
       "SETPRCM     0\n",
       "SETPRC      0\n",
       "RETCALL     0\n",
       "CALIBRAT    0\n",
       "CHURNDEP    0\n",
       "Length: 78, dtype: int64"
      ]
     },
     "execution_count": 10,
     "metadata": {},
     "output_type": "execute_result"
    }
   ],
   "source": [
    "c2c.isnull().sum()"
   ]
  },
  {
   "cell_type": "code",
   "execution_count": 69,
   "metadata": {},
   "outputs": [
    {
     "data": {
      "text/plain": [
       "REVENUE     14366\n",
       "MOU          8934\n",
       "RECCHRGE     4891\n",
       "DIRECTAS      162\n",
       "OVERAGE      2329\n",
       "ROAM         2268\n",
       "CHANGEM      6848\n",
       "CHANGER     13952\n",
       "DROPVCE       304\n",
       "BLCKVCE       401\n",
       "UNANSVCE      916\n",
       "CUSTCARE      198\n",
       "THREEWAY       88\n",
       "MOUREC      27461\n",
       "OUTCALLS      841\n",
       "INCALLS       500\n",
       "PEAKVCE      2002\n",
       "OPEAKVCE     1817\n",
       "DROPBLK       481\n",
       "CALLFWDV       39\n",
       "CALLWAIT      246\n",
       "CHURN           2\n",
       "MONTHS         56\n",
       "UNIQSUBS       15\n",
       "ACTVSUBS       12\n",
       "CSA           773\n",
       "PHONES         25\n",
       "MODELS         15\n",
       "EQPDAYS      1497\n",
       "CUSTOMER    71047\n",
       "AGE1           44\n",
       "AGE2           44\n",
       "CHILDREN        2\n",
       "CREDITA         2\n",
       "CREDITAA        2\n",
       "CREDITB         2\n",
       "CREDITC         2\n",
       "CREDITDE        2\n",
       "CREDITGY        2\n",
       "CREDITZ         2\n",
       "PRIZMRUR        2\n",
       "PRIZMUB         2\n",
       "PRIZMTWN        2\n",
       "REFURB          2\n",
       "WEBCAP          2\n",
       "TRUCK           2\n",
       "RV              2\n",
       "OCCPROF         2\n",
       "OCCCLER         2\n",
       "OCCCRFT         2\n",
       "OCCSTUD         2\n",
       "OCCHMKR         2\n",
       "OCCRET          2\n",
       "OCCSELF         2\n",
       "OWNRENT         2\n",
       "MARRYUN         2\n",
       "MARRYYES        2\n",
       "MARRYNO         2\n",
       "MAILORD         2\n",
       "MAILRES         2\n",
       "MAILFLAG        2\n",
       "TRAVEL          2\n",
       "PCOWN           2\n",
       "CREDITCD        2\n",
       "RETCALLS        5\n",
       "RETACCPT        5\n",
       "NEWCELLY        2\n",
       "NEWCELLN        2\n",
       "REFER          13\n",
       "INCMISS         2\n",
       "INCOME         10\n",
       "MCYCLE          2\n",
       "CREDITAD       16\n",
       "SETPRCM         2\n",
       "SETPRC         16\n",
       "RETCALL         2\n",
       "CALIBRAT        2\n",
       "CHURNDEP        3\n",
       "dtype: int64"
      ]
     },
     "execution_count": 69,
     "metadata": {},
     "output_type": "execute_result"
    }
   ],
   "source": [
    "c2c.nunique()"
   ]
  },
  {
   "cell_type": "markdown",
   "metadata": {},
   "source": [
    "**OUTLIERS**"
   ]
  },
  {
   "cell_type": "code",
   "execution_count": 74,
   "metadata": {},
   "outputs": [
    {
     "data": {
      "text/plain": [
       "<matplotlib.axes._subplots.AxesSubplot at 0x1c68eba5d90>"
      ]
     },
     "execution_count": 74,
     "metadata": {},
     "output_type": "execute_result"
    },
    {
     "data": {
      "image/png": "[encoded data removed]",
      "text/plain": [
       "<Figure size 432x288 with 1 Axes>"
      ]
     },
     "metadata": {
      "needs_background": "light"
     },
     "output_type": "display_data"
    }
   ],
   "source": [
    "sns.boxplot(c2c['REVENUE'])"
   ]
  },
  {
   "cell_type": "code",
   "execution_count": 76,
   "metadata": {},
   "outputs": [],
   "source": [
    "cp=c2c.drop(\"CSA\",axis=1)"
   ]
  },
  {
   "cell_type": "code",
   "execution_count": 77,
   "metadata": {},
   "outputs": [
    {
     "data": {
      "text/html": [
       "<div>\n",
       "<style scoped>\n",
       "    .dataframe tbody tr th:only-of-type {\n",
       "        vertical-align: middle;\n",
       "    }\n",
       "\n",
       "    .dataframe tbody tr th {\n",
       "        vertical-align: top;\n",
       "    }\n",
       "\n",
       "    .dataframe thead th {\n",
       "        text-align: right;\n",
       "    }\n",
       "</style>\n",
       "<table border=\"1\" class=\"dataframe\">\n",
       "  <thead>\n",
       "    <tr style=\"text-align: right;\">\n",
       "      <th></th>\n",
       "      <th>REVENUE</th>\n",
       "      <th>MOU</th>\n",
       "      <th>RECCHRGE</th>\n",
       "      <th>DIRECTAS</th>\n",
       "      <th>OVERAGE</th>\n",
       "      <th>ROAM</th>\n",
       "      <th>CHANGEM</th>\n",
       "      <th>CHANGER</th>\n",
       "      <th>DROPVCE</th>\n",
       "      <th>BLCKVCE</th>\n",
       "      <th>UNANSVCE</th>\n",
       "      <th>CUSTCARE</th>\n",
       "      <th>THREEWAY</th>\n",
       "      <th>MOUREC</th>\n",
       "      <th>OUTCALLS</th>\n",
       "      <th>INCALLS</th>\n",
       "      <th>PEAKVCE</th>\n",
       "      <th>OPEAKVCE</th>\n",
       "      <th>DROPBLK</th>\n",
       "      <th>CALLFWDV</th>\n",
       "      <th>CALLWAIT</th>\n",
       "      <th>CHURN</th>\n",
       "      <th>MONTHS</th>\n",
       "      <th>UNIQSUBS</th>\n",
       "      <th>ACTVSUBS</th>\n",
       "      <th>PHONES</th>\n",
       "      <th>MODELS</th>\n",
       "      <th>EQPDAYS</th>\n",
       "      <th>CUSTOMER</th>\n",
       "      <th>AGE1</th>\n",
       "      <th>AGE2</th>\n",
       "      <th>CHILDREN</th>\n",
       "      <th>CREDITA</th>\n",
       "      <th>CREDITAA</th>\n",
       "      <th>CREDITB</th>\n",
       "      <th>CREDITC</th>\n",
       "      <th>CREDITDE</th>\n",
       "      <th>CREDITGY</th>\n",
       "      <th>CREDITZ</th>\n",
       "      <th>PRIZMRUR</th>\n",
       "      <th>PRIZMUB</th>\n",
       "      <th>PRIZMTWN</th>\n",
       "      <th>REFURB</th>\n",
       "      <th>WEBCAP</th>\n",
       "      <th>TRUCK</th>\n",
       "      <th>RV</th>\n",
       "      <th>OCCPROF</th>\n",
       "      <th>OCCCLER</th>\n",
       "      <th>OCCCRFT</th>\n",
       "      <th>OCCSTUD</th>\n",
       "      <th>OCCHMKR</th>\n",
       "      <th>OCCRET</th>\n",
       "      <th>OCCSELF</th>\n",
       "      <th>OWNRENT</th>\n",
       "      <th>MARRYUN</th>\n",
       "      <th>MARRYYES</th>\n",
       "      <th>MARRYNO</th>\n",
       "      <th>MAILORD</th>\n",
       "      <th>MAILRES</th>\n",
       "      <th>MAILFLAG</th>\n",
       "      <th>TRAVEL</th>\n",
       "      <th>PCOWN</th>\n",
       "      <th>CREDITCD</th>\n",
       "      <th>RETCALLS</th>\n",
       "      <th>RETACCPT</th>\n",
       "      <th>NEWCELLY</th>\n",
       "      <th>NEWCELLN</th>\n",
       "      <th>REFER</th>\n",
       "      <th>INCMISS</th>\n",
       "      <th>INCOME</th>\n",
       "      <th>MCYCLE</th>\n",
       "      <th>CREDITAD</th>\n",
       "      <th>SETPRCM</th>\n",
       "      <th>SETPRC</th>\n",
       "      <th>RETCALL</th>\n",
       "      <th>CALIBRAT</th>\n",
       "      <th>CHURNDEP</th>\n",
       "    </tr>\n",
       "  </thead>\n",
       "  <tbody>\n",
       "    <tr>\n",
       "      <th>0</th>\n",
       "      <td>57.49</td>\n",
       "      <td>482.75</td>\n",
       "      <td>37.43</td>\n",
       "      <td>0.25</td>\n",
       "      <td>22.75</td>\n",
       "      <td>0.0</td>\n",
       "      <td>532.25</td>\n",
       "      <td>50.99</td>\n",
       "      <td>8.33</td>\n",
       "      <td>1.00</td>\n",
       "      <td>61.33</td>\n",
       "      <td>1.67</td>\n",
       "      <td>0.33</td>\n",
       "      <td>55.28</td>\n",
       "      <td>46.33</td>\n",
       "      <td>6.33</td>\n",
       "      <td>83.67</td>\n",
       "      <td>157.00</td>\n",
       "      <td>9.33</td>\n",
       "      <td>0.0</td>\n",
       "      <td>5.67</td>\n",
       "      <td>0</td>\n",
       "      <td>56</td>\n",
       "      <td>1</td>\n",
       "      <td>1</td>\n",
       "      <td>7.0</td>\n",
       "      <td>6.0</td>\n",
       "      <td>240.0</td>\n",
       "      <td>1000002</td>\n",
       "      <td>30.0</td>\n",
       "      <td>0.0</td>\n",
       "      <td>0</td>\n",
       "      <td>0</td>\n",
       "      <td>0</td>\n",
       "      <td>0</td>\n",
       "      <td>0</td>\n",
       "      <td>1</td>\n",
       "      <td>0</td>\n",
       "      <td>0</td>\n",
       "      <td>0</td>\n",
       "      <td>0</td>\n",
       "      <td>0</td>\n",
       "      <td>0</td>\n",
       "      <td>1</td>\n",
       "      <td>1</td>\n",
       "      <td>1</td>\n",
       "      <td>0</td>\n",
       "      <td>0</td>\n",
       "      <td>0</td>\n",
       "      <td>0</td>\n",
       "      <td>0</td>\n",
       "      <td>0</td>\n",
       "      <td>0</td>\n",
       "      <td>1</td>\n",
       "      <td>0</td>\n",
       "      <td>0</td>\n",
       "      <td>1</td>\n",
       "      <td>1</td>\n",
       "      <td>1</td>\n",
       "      <td>0</td>\n",
       "      <td>0</td>\n",
       "      <td>0</td>\n",
       "      <td>1</td>\n",
       "      <td>0</td>\n",
       "      <td>0</td>\n",
       "      <td>0</td>\n",
       "      <td>1</td>\n",
       "      <td>0</td>\n",
       "      <td>0</td>\n",
       "      <td>5</td>\n",
       "      <td>0</td>\n",
       "      <td>1</td>\n",
       "      <td>0</td>\n",
       "      <td>149.99</td>\n",
       "      <td>0</td>\n",
       "      <td>0</td>\n",
       "      <td>0.5</td>\n",
       "    </tr>\n",
       "    <tr>\n",
       "      <th>1</th>\n",
       "      <td>82.28</td>\n",
       "      <td>1312.25</td>\n",
       "      <td>75.00</td>\n",
       "      <td>1.24</td>\n",
       "      <td>0.00</td>\n",
       "      <td>0.0</td>\n",
       "      <td>156.75</td>\n",
       "      <td>8.14</td>\n",
       "      <td>52.00</td>\n",
       "      <td>7.67</td>\n",
       "      <td>76.00</td>\n",
       "      <td>4.33</td>\n",
       "      <td>1.33</td>\n",
       "      <td>200.32</td>\n",
       "      <td>370.33</td>\n",
       "      <td>147.00</td>\n",
       "      <td>555.67</td>\n",
       "      <td>303.67</td>\n",
       "      <td>59.67</td>\n",
       "      <td>0.0</td>\n",
       "      <td>22.67</td>\n",
       "      <td>0</td>\n",
       "      <td>59</td>\n",
       "      <td>2</td>\n",
       "      <td>2</td>\n",
       "      <td>9.0</td>\n",
       "      <td>4.0</td>\n",
       "      <td>458.0</td>\n",
       "      <td>1000006</td>\n",
       "      <td>30.0</td>\n",
       "      <td>0.0</td>\n",
       "      <td>0</td>\n",
       "      <td>0</td>\n",
       "      <td>0</td>\n",
       "      <td>0</td>\n",
       "      <td>1</td>\n",
       "      <td>0</td>\n",
       "      <td>0</td>\n",
       "      <td>0</td>\n",
       "      <td>0</td>\n",
       "      <td>0</td>\n",
       "      <td>0</td>\n",
       "      <td>0</td>\n",
       "      <td>1</td>\n",
       "      <td>0</td>\n",
       "      <td>0</td>\n",
       "      <td>0</td>\n",
       "      <td>0</td>\n",
       "      <td>0</td>\n",
       "      <td>0</td>\n",
       "      <td>0</td>\n",
       "      <td>0</td>\n",
       "      <td>0</td>\n",
       "      <td>0</td>\n",
       "      <td>0</td>\n",
       "      <td>0</td>\n",
       "      <td>1</td>\n",
       "      <td>1</td>\n",
       "      <td>1</td>\n",
       "      <td>0</td>\n",
       "      <td>0</td>\n",
       "      <td>0</td>\n",
       "      <td>1</td>\n",
       "      <td>0</td>\n",
       "      <td>0</td>\n",
       "      <td>1</td>\n",
       "      <td>0</td>\n",
       "      <td>0</td>\n",
       "      <td>0</td>\n",
       "      <td>6</td>\n",
       "      <td>0</td>\n",
       "      <td>0</td>\n",
       "      <td>0</td>\n",
       "      <td>9.99</td>\n",
       "      <td>0</td>\n",
       "      <td>0</td>\n",
       "      <td>0.5</td>\n",
       "    </tr>\n",
       "    <tr>\n",
       "      <th>2</th>\n",
       "      <td>31.66</td>\n",
       "      <td>25.50</td>\n",
       "      <td>29.99</td>\n",
       "      <td>0.25</td>\n",
       "      <td>0.00</td>\n",
       "      <td>0.0</td>\n",
       "      <td>59.50</td>\n",
       "      <td>4.03</td>\n",
       "      <td>0.00</td>\n",
       "      <td>1.00</td>\n",
       "      <td>2.33</td>\n",
       "      <td>0.00</td>\n",
       "      <td>0.00</td>\n",
       "      <td>0.00</td>\n",
       "      <td>0.00</td>\n",
       "      <td>0.00</td>\n",
       "      <td>1.67</td>\n",
       "      <td>1.67</td>\n",
       "      <td>1.00</td>\n",
       "      <td>0.0</td>\n",
       "      <td>0.00</td>\n",
       "      <td>0</td>\n",
       "      <td>57</td>\n",
       "      <td>2</td>\n",
       "      <td>2</td>\n",
       "      <td>2.0</td>\n",
       "      <td>2.0</td>\n",
       "      <td>601.0</td>\n",
       "      <td>1000010</td>\n",
       "      <td>52.0</td>\n",
       "      <td>58.0</td>\n",
       "      <td>0</td>\n",
       "      <td>1</td>\n",
       "      <td>0</td>\n",
       "      <td>0</td>\n",
       "      <td>0</td>\n",
       "      <td>0</td>\n",
       "      <td>0</td>\n",
       "      <td>0</td>\n",
       "      <td>0</td>\n",
       "      <td>0</td>\n",
       "      <td>0</td>\n",
       "      <td>0</td>\n",
       "      <td>1</td>\n",
       "      <td>0</td>\n",
       "      <td>0</td>\n",
       "      <td>0</td>\n",
       "      <td>0</td>\n",
       "      <td>0</td>\n",
       "      <td>0</td>\n",
       "      <td>0</td>\n",
       "      <td>0</td>\n",
       "      <td>1</td>\n",
       "      <td>0</td>\n",
       "      <td>0</td>\n",
       "      <td>1</td>\n",
       "      <td>0</td>\n",
       "      <td>1</td>\n",
       "      <td>1</td>\n",
       "      <td>0</td>\n",
       "      <td>1</td>\n",
       "      <td>0</td>\n",
       "      <td>1</td>\n",
       "      <td>0</td>\n",
       "      <td>0</td>\n",
       "      <td>0</td>\n",
       "      <td>1</td>\n",
       "      <td>0</td>\n",
       "      <td>0</td>\n",
       "      <td>9</td>\n",
       "      <td>0</td>\n",
       "      <td>1</td>\n",
       "      <td>0</td>\n",
       "      <td>29.99</td>\n",
       "      <td>0</td>\n",
       "      <td>0</td>\n",
       "      <td>0.5</td>\n",
       "    </tr>\n",
       "    <tr>\n",
       "      <th>3</th>\n",
       "      <td>62.13</td>\n",
       "      <td>97.50</td>\n",
       "      <td>65.99</td>\n",
       "      <td>2.48</td>\n",
       "      <td>0.00</td>\n",
       "      <td>0.0</td>\n",
       "      <td>23.50</td>\n",
       "      <td>6.82</td>\n",
       "      <td>0.00</td>\n",
       "      <td>0.33</td>\n",
       "      <td>4.00</td>\n",
       "      <td>4.00</td>\n",
       "      <td>0.00</td>\n",
       "      <td>0.00</td>\n",
       "      <td>3.67</td>\n",
       "      <td>0.00</td>\n",
       "      <td>7.67</td>\n",
       "      <td>7.33</td>\n",
       "      <td>0.33</td>\n",
       "      <td>0.0</td>\n",
       "      <td>0.00</td>\n",
       "      <td>0</td>\n",
       "      <td>59</td>\n",
       "      <td>2</td>\n",
       "      <td>2</td>\n",
       "      <td>3.0</td>\n",
       "      <td>3.0</td>\n",
       "      <td>464.0</td>\n",
       "      <td>1000011</td>\n",
       "      <td>46.0</td>\n",
       "      <td>46.0</td>\n",
       "      <td>1</td>\n",
       "      <td>1</td>\n",
       "      <td>0</td>\n",
       "      <td>0</td>\n",
       "      <td>0</td>\n",
       "      <td>0</td>\n",
       "      <td>0</td>\n",
       "      <td>0</td>\n",
       "      <td>0</td>\n",
       "      <td>0</td>\n",
       "      <td>0</td>\n",
       "      <td>0</td>\n",
       "      <td>1</td>\n",
       "      <td>0</td>\n",
       "      <td>0</td>\n",
       "      <td>1</td>\n",
       "      <td>0</td>\n",
       "      <td>0</td>\n",
       "      <td>0</td>\n",
       "      <td>0</td>\n",
       "      <td>0</td>\n",
       "      <td>0</td>\n",
       "      <td>0</td>\n",
       "      <td>0</td>\n",
       "      <td>0</td>\n",
       "      <td>1</td>\n",
       "      <td>1</td>\n",
       "      <td>1</td>\n",
       "      <td>0</td>\n",
       "      <td>0</td>\n",
       "      <td>0</td>\n",
       "      <td>1</td>\n",
       "      <td>0</td>\n",
       "      <td>0</td>\n",
       "      <td>1</td>\n",
       "      <td>0</td>\n",
       "      <td>0</td>\n",
       "      <td>0</td>\n",
       "      <td>6</td>\n",
       "      <td>0</td>\n",
       "      <td>0</td>\n",
       "      <td>0</td>\n",
       "      <td>29.99</td>\n",
       "      <td>0</td>\n",
       "      <td>0</td>\n",
       "      <td>0.5</td>\n",
       "    </tr>\n",
       "    <tr>\n",
       "      <th>4</th>\n",
       "      <td>25.23</td>\n",
       "      <td>2.50</td>\n",
       "      <td>25.00</td>\n",
       "      <td>0.00</td>\n",
       "      <td>0.00</td>\n",
       "      <td>0.0</td>\n",
       "      <td>-2.50</td>\n",
       "      <td>-0.23</td>\n",
       "      <td>0.00</td>\n",
       "      <td>0.00</td>\n",
       "      <td>0.33</td>\n",
       "      <td>0.00</td>\n",
       "      <td>0.00</td>\n",
       "      <td>1.13</td>\n",
       "      <td>0.33</td>\n",
       "      <td>0.00</td>\n",
       "      <td>0.67</td>\n",
       "      <td>0.67</td>\n",
       "      <td>0.00</td>\n",
       "      <td>0.0</td>\n",
       "      <td>0.00</td>\n",
       "      <td>0</td>\n",
       "      <td>53</td>\n",
       "      <td>2</td>\n",
       "      <td>2</td>\n",
       "      <td>2.0</td>\n",
       "      <td>2.0</td>\n",
       "      <td>354.0</td>\n",
       "      <td>1000014</td>\n",
       "      <td>0.0</td>\n",
       "      <td>0.0</td>\n",
       "      <td>0</td>\n",
       "      <td>1</td>\n",
       "      <td>0</td>\n",
       "      <td>0</td>\n",
       "      <td>0</td>\n",
       "      <td>0</td>\n",
       "      <td>0</td>\n",
       "      <td>0</td>\n",
       "      <td>0</td>\n",
       "      <td>0</td>\n",
       "      <td>0</td>\n",
       "      <td>0</td>\n",
       "      <td>1</td>\n",
       "      <td>1</td>\n",
       "      <td>0</td>\n",
       "      <td>0</td>\n",
       "      <td>0</td>\n",
       "      <td>0</td>\n",
       "      <td>0</td>\n",
       "      <td>0</td>\n",
       "      <td>0</td>\n",
       "      <td>0</td>\n",
       "      <td>1</td>\n",
       "      <td>1</td>\n",
       "      <td>0</td>\n",
       "      <td>0</td>\n",
       "      <td>0</td>\n",
       "      <td>0</td>\n",
       "      <td>0</td>\n",
       "      <td>0</td>\n",
       "      <td>0</td>\n",
       "      <td>0</td>\n",
       "      <td>0</td>\n",
       "      <td>0</td>\n",
       "      <td>1</td>\n",
       "      <td>0</td>\n",
       "      <td>0</td>\n",
       "      <td>0</td>\n",
       "      <td>7</td>\n",
       "      <td>0</td>\n",
       "      <td>0</td>\n",
       "      <td>0</td>\n",
       "      <td>29.99</td>\n",
       "      <td>0</td>\n",
       "      <td>0</td>\n",
       "      <td>0.5</td>\n",
       "    </tr>\n",
       "  </tbody>\n",
       "</table>\n",
       "</div>"
      ],
      "text/plain": [
       "   REVENUE      MOU  RECCHRGE  DIRECTAS  OVERAGE  ROAM  CHANGEM  CHANGER  \\\n",
       "0    57.49   482.75     37.43      0.25    22.75   0.0   532.25    50.99   \n",
       "1    82.28  1312.25     75.00      1.24     0.00   0.0   156.75     8.14   \n",
       "2    31.66    25.50     29.99      0.25     0.00   0.0    59.50     4.03   \n",
       "3    62.13    97.50     65.99      2.48     0.00   0.0    23.50     6.82   \n",
       "4    25.23     2.50     25.00      0.00     0.00   0.0    -2.50    -0.23   \n",
       "\n",
       "   DROPVCE  BLCKVCE  UNANSVCE  CUSTCARE  THREEWAY  MOUREC  OUTCALLS  INCALLS  \\\n",
       "0     8.33     1.00     61.33      1.67      0.33   55.28     46.33     6.33   \n",
       "1    52.00     7.67     76.00      4.33      1.33  200.32    370.33   147.00   \n",
       "2     0.00     1.00      2.33      0.00      0.00    0.00      0.00     0.00   \n",
       "3     0.00     0.33      4.00      4.00      0.00    0.00      3.67     0.00   \n",
       "4     0.00     0.00      0.33      0.00      0.00    1.13      0.33     0.00   \n",
       "\n",
       "   PEAKVCE  OPEAKVCE  DROPBLK  CALLFWDV  CALLWAIT  CHURN  MONTHS  UNIQSUBS  \\\n",
       "0    83.67    157.00     9.33       0.0      5.67      0      56         1   \n",
       "1   555.67    303.67    59.67       0.0     22.67      0      59         2   \n",
       "2     1.67      1.67     1.00       0.0      0.00      0      57         2   \n",
       "3     7.67      7.33     0.33       0.0      0.00      0      59         2   \n",
       "4     0.67      0.67     0.00       0.0      0.00      0      53         2   \n",
       "\n",
       "   ACTVSUBS  PHONES  MODELS  EQPDAYS  CUSTOMER  AGE1  AGE2  CHILDREN  CREDITA  \\\n",
       "0         1     7.0     6.0    240.0   1000002  30.0   0.0         0        0   \n",
       "1         2     9.0     4.0    458.0   1000006  30.0   0.0         0        0   \n",
       "2         2     2.0     2.0    601.0   1000010  52.0  58.0         0        1   \n",
       "3         2     3.0     3.0    464.0   1000011  46.0  46.0         1        1   \n",
       "4         2     2.0     2.0    354.0   1000014   0.0   0.0         0        1   \n",
       "\n",
       "   CREDITAA  CREDITB  CREDITC  CREDITDE  CREDITGY  CREDITZ  PRIZMRUR  PRIZMUB  \\\n",
       "0         0        0        0         1         0        0         0        0   \n",
       "1         0        0        1         0         0        0         0        0   \n",
       "2         0        0        0         0         0        0         0        0   \n",
       "3         0        0        0         0         0        0         0        0   \n",
       "4         0        0        0         0         0        0         0        0   \n",
       "\n",
       "   PRIZMTWN  REFURB  WEBCAP  TRUCK  RV  OCCPROF  OCCCLER  OCCCRFT  OCCSTUD  \\\n",
       "0         0       0       1      1   1        0        0        0        0   \n",
       "1         0       0       1      0   0        0        0        0        0   \n",
       "2         0       0       1      0   0        0        0        0        0   \n",
       "3         0       0       1      0   0        1        0        0        0   \n",
       "4         0       0       1      1   0        0        0        0        0   \n",
       "\n",
       "   OCCHMKR  OCCRET  OCCSELF  OWNRENT  MARRYUN  MARRYYES  MARRYNO  MAILORD  \\\n",
       "0        0       0        0        1        0         0        1        1   \n",
       "1        0       0        0        0        0         0        1        1   \n",
       "2        0       0        1        0        0         1        0        1   \n",
       "3        0       0        0        0        0         0        1        1   \n",
       "4        0       0        0        1        1         0        0        0   \n",
       "\n",
       "   MAILRES  MAILFLAG  TRAVEL  PCOWN  CREDITCD  RETCALLS  RETACCPT  NEWCELLY  \\\n",
       "0        1         0       0      0         1         0         0         0   \n",
       "1        1         0       0      0         1         0         0         1   \n",
       "2        1         0       1      0         1         0         0         0   \n",
       "3        1         0       0      0         1         0         0         1   \n",
       "4        0         0       0      0         0         0         0         1   \n",
       "\n",
       "   NEWCELLN  REFER  INCMISS  INCOME  MCYCLE  CREDITAD  SETPRCM  SETPRC  \\\n",
       "0         1      0        0       5       0         1        0  149.99   \n",
       "1         0      0        0       6       0         0        0    9.99   \n",
       "2         1      0        0       9       0         1        0   29.99   \n",
       "3         0      0        0       6       0         0        0   29.99   \n",
       "4         0      0        0       7       0         0        0   29.99   \n",
       "\n",
       "   RETCALL  CALIBRAT  CHURNDEP  \n",
       "0        0         0       0.5  \n",
       "1        0         0       0.5  \n",
       "2        0         0       0.5  \n",
       "3        0         0       0.5  \n",
       "4        0         0       0.5  "
      ]
     },
     "execution_count": 77,
     "metadata": {},
     "output_type": "execute_result"
    }
   ],
   "source": [
    "cp.head(5)"
   ]
  },
  {
   "cell_type": "code",
   "execution_count": 80,
   "metadata": {},
   "outputs": [
    {
     "name": "stderr",
     "output_type": "stream",
     "text": [
      "<ipython-input-80-b73b69b16813>:2: RuntimeWarning: More than 20 figures have been opened. Figures created through the pyplot interface (`matplotlib.pyplot.figure`) are retained until explicitly closed and may consume too much memory. (To control this warning, see the rcParam `figure.max_open_warning`).\n",
      "  plt.figure()\n",
      "<ipython-input-80-b73b69b16813>:2: RuntimeWarning: More than 20 figures have been opened. Figures created through the pyplot interface (`matplotlib.pyplot.figure`) are retained until explicitly closed and may consume too much memory. (To control this warning, see the rcParam `figure.max_open_warning`).\n",
      "  plt.figure()\n",
      "<ipython-input-80-b73b69b16813>:2: RuntimeWarning: More than 20 figures have been opened. Figures created through the pyplot interface (`matplotlib.pyplot.figure`) are retained until explicitly closed and may consume too much memory. (To control this warning, see the rcParam `figure.max_open_warning`).\n",
      "  plt.figure()\n",
      "<ipython-input-80-b73b69b16813>:2: RuntimeWarning: More than 20 figures have been opened. Figures created through the pyplot interface (`matplotlib.pyplot.figure`) are retained until explicitly closed and may consume too much memory. (To control this warning, see the rcParam `figure.max_open_warning`).\n",
      "  plt.figure()\n",
      "<ipython-input-80-b73b69b16813>:2: RuntimeWarning: More than 20 figures have been opened. Figures created through the pyplot interface (`matplotlib.pyplot.figure`) are retained until explicitly closed and may consume too much memory. (To control this warning, see the rcParam `figure.max_open_warning`).\n",
      "  plt.figure()\n",
      "<ipython-input-80-b73b69b16813>:2: RuntimeWarning: More than 20 figures have been opened. Figures created through the pyplot interface (`matplotlib.pyplot.figure`) are retained until explicitly closed and may consume too much memory. (To control this warning, see the rcParam `figure.max_open_warning`).\n",
      "  plt.figure()\n",
      "<ipython-input-80-b73b69b16813>:2: RuntimeWarning: More than 20 figures have been opened. Figures created through the pyplot interface (`matplotlib.pyplot.figure`) are retained until explicitly closed and may consume too much memory. (To control this warning, see the rcParam `figure.max_open_warning`).\n",
      "  plt.figure()\n",
      "<ipython-input-80-b73b69b16813>:2: RuntimeWarning: More than 20 figures have been opened. Figures created through the pyplot interface (`matplotlib.pyplot.figure`) are retained until explicitly closed and may consume too much memory. (To control this warning, see the rcParam `figure.max_open_warning`).\n",
      "  plt.figure()\n",
      "<ipython-input-80-b73b69b16813>:2: RuntimeWarning: More than 20 figures have been opened. Figures created through the pyplot interface (`matplotlib.pyplot.figure`) are retained until explicitly closed and may consume too much memory. (To control this warning, see the rcParam `figure.max_open_warning`).\n",
      "  plt.figure()\n",
      "<ipython-input-80-b73b69b16813>:2: RuntimeWarning: More than 20 figures have been opened. Figures created through the pyplot interface (`matplotlib.pyplot.figure`) are retained until explicitly closed and may consume too much memory. (To control this warning, see the rcParam `figure.max_open_warning`).\n",
      "  plt.figure()\n",
      "<ipython-input-80-b73b69b16813>:2: RuntimeWarning: More than 20 figures have been opened. Figures created through the pyplot interface (`matplotlib.pyplot.figure`) are retained until explicitly closed and may consume too much memory. (To control this warning, see the rcParam `figure.max_open_warning`).\n",
      "  plt.figure()\n",
      "<ipython-input-80-b73b69b16813>:2: RuntimeWarning: More than 20 figures have been opened. Figures created through the pyplot interface (`matplotlib.pyplot.figure`) are retained until explicitly closed and may consume too much memory. (To control this warning, see the rcParam `figure.max_open_warning`).\n",
      "  plt.figure()\n",
      "<ipython-input-80-b73b69b16813>:2: RuntimeWarning: More than 20 figures have been opened. Figures created through the pyplot interface (`matplotlib.pyplot.figure`) are retained until explicitly closed and may consume too much memory. (To control this warning, see the rcParam `figure.max_open_warning`).\n",
      "  plt.figure()\n",
      "<ipython-input-80-b73b69b16813>:2: RuntimeWarning: More than 20 figures have been opened. Figures created through the pyplot interface (`matplotlib.pyplot.figure`) are retained until explicitly closed and may consume too much memory. (To control this warning, see the rcParam `figure.max_open_warning`).\n",
      "  plt.figure()\n",
      "<ipython-input-80-b73b69b16813>:2: RuntimeWarning: More than 20 figures have been opened. Figures created through the pyplot interface (`matplotlib.pyplot.figure`) are retained until explicitly closed and may consume too much memory. (To control this warning, see the rcParam `figure.max_open_warning`).\n",
      "  plt.figure()\n",
      "<ipython-input-80-b73b69b16813>:2: RuntimeWarning: More than 20 figures have been opened. Figures created through the pyplot interface (`matplotlib.pyplot.figure`) are retained until explicitly closed and may consume too much memory. (To control this warning, see the rcParam `figure.max_open_warning`).\n",
      "  plt.figure()\n",
      "<ipython-input-80-b73b69b16813>:2: RuntimeWarning: More than 20 figures have been opened. Figures created through the pyplot interface (`matplotlib.pyplot.figure`) are retained until explicitly closed and may consume too much memory. (To control this warning, see the rcParam `figure.max_open_warning`).\n",
      "  plt.figure()\n",
      "<ipython-input-80-b73b69b16813>:2: RuntimeWarning: More than 20 figures have been opened. Figures created through the pyplot interface (`matplotlib.pyplot.figure`) are retained until explicitly closed and may consume too much memory. (To control this warning, see the rcParam `figure.max_open_warning`).\n",
      "  plt.figure()\n",
      "<ipython-input-80-b73b69b16813>:2: RuntimeWarning: More than 20 figures have been opened. Figures created through the pyplot interface (`matplotlib.pyplot.figure`) are retained until explicitly closed and may consume too much memory. (To control this warning, see the rcParam `figure.max_open_warning`).\n",
      "  plt.figure()\n",
      "<ipython-input-80-b73b69b16813>:2: RuntimeWarning: More than 20 figures have been opened. Figures created through the pyplot interface (`matplotlib.pyplot.figure`) are retained until explicitly closed and may consume too much memory. (To control this warning, see the rcParam `figure.max_open_warning`).\n",
      "  plt.figure()\n",
      "<ipython-input-80-b73b69b16813>:2: RuntimeWarning: More than 20 figures have been opened. Figures created through the pyplot interface (`matplotlib.pyplot.figure`) are retained until explicitly closed and may consume too much memory. (To control this warning, see the rcParam `figure.max_open_warning`).\n",
      "  plt.figure()\n",
      "<ipython-input-80-b73b69b16813>:2: RuntimeWarning: More than 20 figures have been opened. Figures created through the pyplot interface (`matplotlib.pyplot.figure`) are retained until explicitly closed and may consume too much memory. (To control this warning, see the rcParam `figure.max_open_warning`).\n",
      "  plt.figure()\n",
      "<ipython-input-80-b73b69b16813>:2: RuntimeWarning: More than 20 figures have been opened. Figures created through the pyplot interface (`matplotlib.pyplot.figure`) are retained until explicitly closed and may consume too much memory. (To control this warning, see the rcParam `figure.max_open_warning`).\n",
      "  plt.figure()\n",
      "<ipython-input-80-b73b69b16813>:2: RuntimeWarning: More than 20 figures have been opened. Figures created through the pyplot interface (`matplotlib.pyplot.figure`) are retained until explicitly closed and may consume too much memory. (To control this warning, see the rcParam `figure.max_open_warning`).\n",
      "  plt.figure()\n",
      "<ipython-input-80-b73b69b16813>:2: RuntimeWarning: More than 20 figures have been opened. Figures created through the pyplot interface (`matplotlib.pyplot.figure`) are retained until explicitly closed and may consume too much memory. (To control this warning, see the rcParam `figure.max_open_warning`).\n",
      "  plt.figure()\n",
      "<ipython-input-80-b73b69b16813>:2: RuntimeWarning: More than 20 figures have been opened. Figures created through the pyplot interface (`matplotlib.pyplot.figure`) are retained until explicitly closed and may consume too much memory. (To control this warning, see the rcParam `figure.max_open_warning`).\n",
      "  plt.figure()\n",
      "<ipython-input-80-b73b69b16813>:2: RuntimeWarning: More than 20 figures have been opened. Figures created through the pyplot interface (`matplotlib.pyplot.figure`) are retained until explicitly closed and may consume too much memory. (To control this warning, see the rcParam `figure.max_open_warning`).\n",
      "  plt.figure()\n",
      "<ipython-input-80-b73b69b16813>:2: RuntimeWarning: More than 20 figures have been opened. Figures created through the pyplot interface (`matplotlib.pyplot.figure`) are retained until explicitly closed and may consume too much memory. (To control this warning, see the rcParam `figure.max_open_warning`).\n",
      "  plt.figure()\n"
     ]
    },
    {
     "name": "stderr",
     "output_type": "stream",
     "text": [
      "<ipython-input-80-b73b69b16813>:2: RuntimeWarning: More than 20 figures have been opened. Figures created through the pyplot interface (`matplotlib.pyplot.figure`) are retained until explicitly closed and may consume too much memory. (To control this warning, see the rcParam `figure.max_open_warning`).\n",
      "  plt.figure()\n",
      "<ipython-input-80-b73b69b16813>:2: RuntimeWarning: More than 20 figures have been opened. Figures created through the pyplot interface (`matplotlib.pyplot.figure`) are retained until explicitly closed and may consume too much memory. (To control this warning, see the rcParam `figure.max_open_warning`).\n",
      "  plt.figure()\n",
      "<ipython-input-80-b73b69b16813>:2: RuntimeWarning: More than 20 figures have been opened. Figures created through the pyplot interface (`matplotlib.pyplot.figure`) are retained until explicitly closed and may consume too much memory. (To control this warning, see the rcParam `figure.max_open_warning`).\n",
      "  plt.figure()\n",
      "<ipython-input-80-b73b69b16813>:2: RuntimeWarning: More than 20 figures have been opened. Figures created through the pyplot interface (`matplotlib.pyplot.figure`) are retained until explicitly closed and may consume too much memory. (To control this warning, see the rcParam `figure.max_open_warning`).\n",
      "  plt.figure()\n",
      "<ipython-input-80-b73b69b16813>:2: RuntimeWarning: More than 20 figures have been opened. Figures created through the pyplot interface (`matplotlib.pyplot.figure`) are retained until explicitly closed and may consume too much memory. (To control this warning, see the rcParam `figure.max_open_warning`).\n",
      "  plt.figure()\n",
      "<ipython-input-80-b73b69b16813>:2: RuntimeWarning: More than 20 figures have been opened. Figures created through the pyplot interface (`matplotlib.pyplot.figure`) are retained until explicitly closed and may consume too much memory. (To control this warning, see the rcParam `figure.max_open_warning`).\n",
      "  plt.figure()\n",
      "<ipython-input-80-b73b69b16813>:2: RuntimeWarning: More than 20 figures have been opened. Figures created through the pyplot interface (`matplotlib.pyplot.figure`) are retained until explicitly closed and may consume too much memory. (To control this warning, see the rcParam `figure.max_open_warning`).\n",
      "  plt.figure()\n",
      "<ipython-input-80-b73b69b16813>:2: RuntimeWarning: More than 20 figures have been opened. Figures created through the pyplot interface (`matplotlib.pyplot.figure`) are retained until explicitly closed and may consume too much memory. (To control this warning, see the rcParam `figure.max_open_warning`).\n",
      "  plt.figure()\n",
      "<ipython-input-80-b73b69b16813>:2: RuntimeWarning: More than 20 figures have been opened. Figures created through the pyplot interface (`matplotlib.pyplot.figure`) are retained until explicitly closed and may consume too much memory. (To control this warning, see the rcParam `figure.max_open_warning`).\n",
      "  plt.figure()\n",
      "<ipython-input-80-b73b69b16813>:2: RuntimeWarning: More than 20 figures have been opened. Figures created through the pyplot interface (`matplotlib.pyplot.figure`) are retained until explicitly closed and may consume too much memory. (To control this warning, see the rcParam `figure.max_open_warning`).\n",
      "  plt.figure()\n",
      "<ipython-input-80-b73b69b16813>:2: RuntimeWarning: More than 20 figures have been opened. Figures created through the pyplot interface (`matplotlib.pyplot.figure`) are retained until explicitly closed and may consume too much memory. (To control this warning, see the rcParam `figure.max_open_warning`).\n",
      "  plt.figure()\n",
      "<ipython-input-80-b73b69b16813>:2: RuntimeWarning: More than 20 figures have been opened. Figures created through the pyplot interface (`matplotlib.pyplot.figure`) are retained until explicitly closed and may consume too much memory. (To control this warning, see the rcParam `figure.max_open_warning`).\n",
      "  plt.figure()\n",
      "<ipython-input-80-b73b69b16813>:2: RuntimeWarning: More than 20 figures have been opened. Figures created through the pyplot interface (`matplotlib.pyplot.figure`) are retained until explicitly closed and may consume too much memory. (To control this warning, see the rcParam `figure.max_open_warning`).\n",
      "  plt.figure()\n",
      "<ipython-input-80-b73b69b16813>:2: RuntimeWarning: More than 20 figures have been opened. Figures created through the pyplot interface (`matplotlib.pyplot.figure`) are retained until explicitly closed and may consume too much memory. (To control this warning, see the rcParam `figure.max_open_warning`).\n",
      "  plt.figure()\n",
      "<ipython-input-80-b73b69b16813>:2: RuntimeWarning: More than 20 figures have been opened. Figures created through the pyplot interface (`matplotlib.pyplot.figure`) are retained until explicitly closed and may consume too much memory. (To control this warning, see the rcParam `figure.max_open_warning`).\n",
      "  plt.figure()\n",
      "<ipython-input-80-b73b69b16813>:2: RuntimeWarning: More than 20 figures have been opened. Figures created through the pyplot interface (`matplotlib.pyplot.figure`) are retained until explicitly closed and may consume too much memory. (To control this warning, see the rcParam `figure.max_open_warning`).\n",
      "  plt.figure()\n",
      "<ipython-input-80-b73b69b16813>:2: RuntimeWarning: More than 20 figures have been opened. Figures created through the pyplot interface (`matplotlib.pyplot.figure`) are retained until explicitly closed and may consume too much memory. (To control this warning, see the rcParam `figure.max_open_warning`).\n",
      "  plt.figure()\n",
      "<ipython-input-80-b73b69b16813>:2: RuntimeWarning: More than 20 figures have been opened. Figures created through the pyplot interface (`matplotlib.pyplot.figure`) are retained until explicitly closed and may consume too much memory. (To control this warning, see the rcParam `figure.max_open_warning`).\n",
      "  plt.figure()\n",
      "<ipython-input-80-b73b69b16813>:2: RuntimeWarning: More than 20 figures have been opened. Figures created through the pyplot interface (`matplotlib.pyplot.figure`) are retained until explicitly closed and may consume too much memory. (To control this warning, see the rcParam `figure.max_open_warning`).\n",
      "  plt.figure()\n",
      "<ipython-input-80-b73b69b16813>:2: RuntimeWarning: More than 20 figures have been opened. Figures created through the pyplot interface (`matplotlib.pyplot.figure`) are retained until explicitly closed and may consume too much memory. (To control this warning, see the rcParam `figure.max_open_warning`).\n",
      "  plt.figure()\n",
      "<ipython-input-80-b73b69b16813>:2: RuntimeWarning: More than 20 figures have been opened. Figures created through the pyplot interface (`matplotlib.pyplot.figure`) are retained until explicitly closed and may consume too much memory. (To control this warning, see the rcParam `figure.max_open_warning`).\n",
      "  plt.figure()\n",
      "<ipython-input-80-b73b69b16813>:2: RuntimeWarning: More than 20 figures have been opened. Figures created through the pyplot interface (`matplotlib.pyplot.figure`) are retained until explicitly closed and may consume too much memory. (To control this warning, see the rcParam `figure.max_open_warning`).\n",
      "  plt.figure()\n",
      "<ipython-input-80-b73b69b16813>:2: RuntimeWarning: More than 20 figures have been opened. Figures created through the pyplot interface (`matplotlib.pyplot.figure`) are retained until explicitly closed and may consume too much memory. (To control this warning, see the rcParam `figure.max_open_warning`).\n",
      "  plt.figure()\n",
      "<ipython-input-80-b73b69b16813>:2: RuntimeWarning: More than 20 figures have been opened. Figures created through the pyplot interface (`matplotlib.pyplot.figure`) are retained until explicitly closed and may consume too much memory. (To control this warning, see the rcParam `figure.max_open_warning`).\n",
      "  plt.figure()\n",
      "<ipython-input-80-b73b69b16813>:2: RuntimeWarning: More than 20 figures have been opened. Figures created through the pyplot interface (`matplotlib.pyplot.figure`) are retained until explicitly closed and may consume too much memory. (To control this warning, see the rcParam `figure.max_open_warning`).\n",
      "  plt.figure()\n",
      "<ipython-input-80-b73b69b16813>:2: RuntimeWarning: More than 20 figures have been opened. Figures created through the pyplot interface (`matplotlib.pyplot.figure`) are retained until explicitly closed and may consume too much memory. (To control this warning, see the rcParam `figure.max_open_warning`).\n",
      "  plt.figure()\n",
      "<ipython-input-80-b73b69b16813>:2: RuntimeWarning: More than 20 figures have been opened. Figures created through the pyplot interface (`matplotlib.pyplot.figure`) are retained until explicitly closed and may consume too much memory. (To control this warning, see the rcParam `figure.max_open_warning`).\n",
      "  plt.figure()\n",
      "<ipython-input-80-b73b69b16813>:2: RuntimeWarning: More than 20 figures have been opened. Figures created through the pyplot interface (`matplotlib.pyplot.figure`) are retained until explicitly closed and may consume too much memory. (To control this warning, see the rcParam `figure.max_open_warning`).\n",
      "  plt.figure()\n",
      "<ipython-input-80-b73b69b16813>:2: RuntimeWarning: More than 20 figures have been opened. Figures created through the pyplot interface (`matplotlib.pyplot.figure`) are retained until explicitly closed and may consume too much memory. (To control this warning, see the rcParam `figure.max_open_warning`).\n",
      "  plt.figure()\n"
     ]
    },
    {
     "data": {
      "image/png": "[encoded data removed]",
      "text/plain": [
       "<Figure size 432x288 with 1 Axes>"
      ]
     },
     "metadata": {
      "needs_background": "light"
     },
     "output_type": "display_data"
    },
    {
     "data": {
      "image/png": "[encoded data removed]",
      "text/plain": [
       "<Figure size 432x288 with 1 Axes>"
      ]
     },
     "metadata": {
      "needs_background": "light"
     },
     "output_type": "display_data"
    },
    {
     "data": {
      "image/png": "[encoded data removed]",
      "text/plain": [
       "<Figure size 432x288 with 1 Axes>"
      ]
     },
     "metadata": {
      "needs_background": "light"
     },
     "output_type": "display_data"
    },
    {
     "data": {
      "image/png": "[encoded data removed]",
      "text/plain": [
       "<Figure size 432x288 with 1 Axes>"
      ]
     },
     "metadata": {
      "needs_background": "light"
     },
     "output_type": "display_data"
    },
    {
     "data": {
      "image/png": "[encoded data removed]",
      "text/plain": [
       "<Figure size 432x288 with 1 Axes>"
      ]
     },
     "metadata": {
      "needs_background": "light"
     },
     "output_type": "display_data"
    },
    {
     "data": {
      "image/png": "[encoded data removed]",
      "text/plain": [
       "<Figure size 432x288 with 1 Axes>"
      ]
     },
     "metadata": {
      "needs_background": "light"
     },
     "output_type": "display_data"
    },
    {
     "data": {
      "image/png": "[encoded data removed]",
      "text/plain": [
       "<Figure size 432x288 with 1 Axes>"
      ]
     },
     "metadata": {
      "needs_background": "light"
     },
     "output_type": "display_data"
    },
    {
     "data": {
      "image/png": "[encoded data removed]",
      "text/plain": [
       "<Figure size 432x288 with 1 Axes>"
      ]
     },
     "metadata": {
      "needs_background": "light"
     },
     "output_type": "display_data"
    },
    {
     "data": {
      "image/png": "[encoded data removed]",
      "text/plain": [
       "<Figure size 432x288 with 1 Axes>"
      ]
     },
     "metadata": {
      "needs_background": "light"
     },
     "output_type": "display_data"
    },
    {
     "data": {
      "image/png": "[encoded data removed]",
      "text/plain": [
       "<Figure size 432x288 with 1 Axes>"
      ]
     },
     "metadata": {
      "needs_background": "light"
     },
     "output_type": "display_data"
    },
    {
     "data": {
      "image/png": "[encoded data removed]",
      "text/plain": [
       "<Figure size 432x288 with 1 Axes>"
      ]
     },
     "metadata": {
      "needs_background": "light"
     },
     "output_type": "display_data"
    },
    {
     "data": {
      "image/png": "[encoded data removed]",
      "text/plain": [
       "<Figure size 432x288 with 1 Axes>"
      ]
     },
     "metadata": {
      "needs_background": "light"
     },
     "output_type": "display_data"
    },
    {
     "data": {
      "image/png": "[encoded data removed]",
      "text/plain": [
       "<Figure size 432x288 with 1 Axes>"
      ]
     },
     "metadata": {
      "needs_background": "light"
     },
     "output_type": "display_data"
    },
    {
     "data": {
      "image/png": "[encoded data removed]",
      "text/plain": [
       "<Figure size 432x288 with 1 Axes>"
      ]
     },
     "metadata": {
      "needs_background": "light"
     },
     "output_type": "display_data"
    },
    {
     "data": {
      "image/png": "[encoded data removed]",
      "text/plain": [
       "<Figure size 432x288 with 1 Axes>"
      ]
     },
     "metadata": {
      "needs_background": "light"
     },
     "output_type": "display_data"
    },
    {
     "data": {
      "image/png": "[encoded data removed]",
      "text/plain": [
       "<Figure size 432x288 with 1 Axes>"
      ]
     },
     "metadata": {
      "needs_background": "light"
     },
     "output_type": "display_data"
    },
    {
     "data": {
      "image/png": "[encoded data removed]",
      "text/plain": [
       "<Figure size 432x288 with 1 Axes>"
      ]
     },
     "metadata": {
      "needs_background": "light"
     },
     "output_type": "display_data"
    },
    {
     "data": {
      "image/png": "[encoded data removed]",
      "text/plain": [
       "<Figure size 432x288 with 1 Axes>"
      ]
     },
     "metadata": {
      "needs_background": "light"
     },
     "output_type": "display_data"
    },
    {
     "data": {
      "image/png": "[encoded data removed]",
      "text/plain": [
       "<Figure size 432x288 with 1 Axes>"
      ]
     },
     "metadata": {
      "needs_background": "light"
     },
     "output_type": "display_data"
    },
    {
     "data": {
      "image/png": "[encoded data removed]",
      "text/plain": [
       "<Figure size 432x288 with 1 Axes>"
      ]
     },
     "metadata": {
      "needs_background": "light"
     },
     "output_type": "display_data"
    },
    {
     "data": {
      "image/png": "[encoded data removed]",
      "text/plain": [
       "<Figure size 432x288 with 1 Axes>"
      ]
     },
     "metadata": {
      "needs_background": "light"
     },
     "output_type": "display_data"
    },
    {
     "data": {
      "image/png": "[encoded data removed]",
      "text/plain": [
       "<Figure size 432x288 with 1 Axes>"
      ]
     },
     "metadata": {
      "needs_background": "light"
     },
     "output_type": "display_data"
    },
    {
     "data": {
      "image/png": "[encoded data removed]",
      "text/plain": [
       "<Figure size 432x288 with 1 Axes>"
      ]
     },
     "metadata": {
      "needs_background": "light"
     },
     "output_type": "display_data"
    },
    {
     "data": {
      "image/png": "[encoded data removed]",
      "text/plain": [
       "<Figure size 432x288 with 1 Axes>"
      ]
     },
     "metadata": {
      "needs_background": "light"
     },
     "output_type": "display_data"
    },
    {
     "data": {
      "image/png": "[encoded data removed]",
      "text/plain": [
       "<Figure size 432x288 with 1 Axes>"
      ]
     },
     "metadata": {
      "needs_background": "light"
     },
     "output_type": "display_data"
    },
    {
     "data": {
      "image/png": "[encoded data removed]",
      "text/plain": [
       "<Figure size 432x288 with 1 Axes>"
      ]
     },
     "metadata": {
      "needs_background": "light"
     },
     "output_type": "display_data"
    },
    {
     "data": {
      "image/png": "[encoded data removed]",
      "text/plain": [
       "<Figure size 432x288 with 1 Axes>"
      ]
     },
     "metadata": {
      "needs_background": "light"
     },
     "output_type": "display_data"
    },
    {
     "data": {
      "image/png": "[encoded data removed]",
      "text/plain": [
       "<Figure size 432x288 with 1 Axes>"
      ]
     },
     "metadata": {
      "needs_background": "light"
     },
     "output_type": "display_data"
    },
    {
     "data": {
      "image/png": "[encoded data removed]",
      "text/plain": [
       "<Figure size 432x288 with 1 Axes>"
      ]
     },
     "metadata": {
      "needs_background": "light"
     },
     "output_type": "display_data"
    },
    {
     "data": {
      "image/png": "[encoded data removed]",
      "text/plain": [
       "<Figure size 432x288 with 1 Axes>"
      ]
     },
     "metadata": {
      "needs_background": "light"
     },
     "output_type": "display_data"
    },
    {
     "data": {
      "image/png": "[encoded data removed]",
      "text/plain": [
       "<Figure size 432x288 with 1 Axes>"
      ]
     },
     "metadata": {
      "needs_background": "light"
     },
     "output_type": "display_data"
    },
    {
     "data": {
      "image/png": "[encoded data removed]",
      "text/plain": [
       "<Figure size 432x288 with 1 Axes>"
      ]
     },
     "metadata": {
      "needs_background": "light"
     },
     "output_type": "display_data"
    },
    {
     "data": {
      "image/png": "[encoded data removed]",
      "text/plain": [
       "<Figure size 432x288 with 1 Axes>"
      ]
     },
     "metadata": {
      "needs_background": "light"
     },
     "output_type": "display_data"
    },
    {
     "data": {
      "image/png": "[encoded data removed]",
      "text/plain": [
       "<Figure size 432x288 with 1 Axes>"
      ]
     },
     "metadata": {
      "needs_background": "light"
     },
     "output_type": "display_data"
    },
    {
     "data": {
      "image/png": "[encoded data removed]",
      "text/plain": [
       "<Figure size 432x288 with 1 Axes>"
      ]
     },
     "metadata": {
      "needs_background": "light"
     },
     "output_type": "display_data"
    },
    {
     "data": {
      "image/png": "[encoded data removed]",
      "text/plain": [
       "<Figure size 432x288 with 1 Axes>"
      ]
     },
     "metadata": {
      "needs_background": "light"
     },
     "output_type": "display_data"
    },
    {
     "data": {
      "image/png": "[encoded data removed]",
      "text/plain": [
       "<Figure size 432x288 with 1 Axes>"
      ]
     },
     "metadata": {
      "needs_background": "light"
     },
     "output_type": "display_data"
    },
    {
     "data": {
      "image/png": "[encoded data removed]",
      "text/plain": [
       "<Figure size 432x288 with 1 Axes>"
      ]
     },
     "metadata": {
      "needs_background": "light"
     },
     "output_type": "display_data"
    },
    {
     "data": {
      "image/png": "[encoded data removed]",
      "text/plain": [
       "<Figure size 432x288 with 1 Axes>"
      ]
     },
     "metadata": {
      "needs_background": "light"
     },
     "output_type": "display_data"
    },
    {
     "data": {
      "image/png": "[encoded data removed]",
      "text/plain": [
       "<Figure size 432x288 with 1 Axes>"
      ]
     },
     "metadata": {
      "needs_background": "light"
     },
     "output_type": "display_data"
    },
    {
     "data": {
      "image/png": "[encoded data removed]",
      "text/plain": [
       "<Figure size 432x288 with 1 Axes>"
      ]
     },
     "metadata": {
      "needs_background": "light"
     },
     "output_type": "display_data"
    },
    {
     "data": {
      "image/png": "[encoded data removed]",
      "text/plain": [
       "<Figure size 432x288 with 1 Axes>"
      ]
     },
     "metadata": {
      "needs_background": "light"
     },
     "output_type": "display_data"
    },
    {
     "data": {
      "image/png": "[encoded data removed]",
      "text/plain": [
       "<Figure size 432x288 with 1 Axes>"
      ]
     },
     "metadata": {
      "needs_background": "light"
     },
     "output_type": "display_data"
    },
    {
     "data": {
      "image/png": "[encoded data removed]",
      "text/plain": [
       "<Figure size 432x288 with 1 Axes>"
      ]
     },
     "metadata": {
      "needs_background": "light"
     },
     "output_type": "display_data"
    },
    {
     "data": {
      "image/png": "[encoded data removed]",
      "text/plain": [
       "<Figure size 432x288 with 1 Axes>"
      ]
     },
     "metadata": {
      "needs_background": "light"
     },
     "output_type": "display_data"
    },
    {
     "data": {
      "image/png": "[encoded data removed]",
      "text/plain": [
       "<Figure size 432x288 with 1 Axes>"
      ]
     },
     "metadata": {
      "needs_background": "light"
     },
     "output_type": "display_data"
    },
    {
     "data": {
      "image/png": "[encoded data removed]",
      "text/plain": [
       "<Figure size 432x288 with 1 Axes>"
      ]
     },
     "metadata": {
      "needs_background": "light"
     },
     "output_type": "display_data"
    },
    {
     "data": {
      "image/png": "[encoded data removed]",
      "text/plain": [
       "<Figure size 432x288 with 1 Axes>"
      ]
     },
     "metadata": {
      "needs_background": "light"
     },
     "output_type": "display_data"
    },
    {
     "data": {
      "image/png": "[encoded data removed]",
      "text/plain": [
       "<Figure size 432x288 with 1 Axes>"
      ]
     },
     "metadata": {
      "needs_background": "light"
     },
     "output_type": "display_data"
    },
    {
     "data": {
      "image/png": "[encoded data removed]",
      "text/plain": [
       "<Figure size 432x288 with 1 Axes>"
      ]
     },
     "metadata": {
      "needs_background": "light"
     },
     "output_type": "display_data"
    },
    {
     "data": {
      "image/png": "[encoded data removed]",
      "text/plain": [
       "<Figure size 432x288 with 1 Axes>"
      ]
     },
     "metadata": {
      "needs_background": "light"
     },
     "output_type": "display_data"
    },
    {
     "data": {
      "image/png": "[encoded data removed]",
      "text/plain": [
       "<Figure size 432x288 with 1 Axes>"
      ]
     },
     "metadata": {
      "needs_background": "light"
     },
     "output_type": "display_data"
    },
    {
     "data": {
      "image/png": "[encoded data removed]",
      "text/plain": [
       "<Figure size 432x288 with 1 Axes>"
      ]
     },
     "metadata": {
      "needs_background": "light"
     },
     "output_type": "display_data"
    },
    {
     "data": {
      "image/png": "[encoded data removed]",
      "text/plain": [
       "<Figure size 432x288 with 1 Axes>"
      ]
     },
     "metadata": {
      "needs_background": "light"
     },
     "output_type": "display_data"
    },
    {
     "data": {
      "image/png": "[encoded data removed]",
      "text/plain": [
       "<Figure size 432x288 with 1 Axes>"
      ]
     },
     "metadata": {
      "needs_background": "light"
     },
     "output_type": "display_data"
    },
    {
     "data": {
      "image/png": "[encoded data removed]",
      "text/plain": [
       "<Figure size 432x288 with 1 Axes>"
      ]
     },
     "metadata": {
      "needs_background": "light"
     },
     "output_type": "display_data"
    },
    {
     "data": {
      "image/png": "[encoded data removed]",
      "text/plain": [
       "<Figure size 432x288 with 1 Axes>"
      ]
     },
     "metadata": {
      "needs_background": "light"
     },
     "output_type": "display_data"
    },
    {
     "data": {
      "image/png": "[encoded data removed]",
      "text/plain": [
       "<Figure size 432x288 with 1 Axes>"
      ]
     },
     "metadata": {
      "needs_background": "light"
     },
     "output_type": "display_data"
    },
    {
     "data": {
      "image/png": "[encoded data removed]",
      "text/plain": [
       "<Figure size 432x288 with 1 Axes>"
      ]
     },
     "metadata": {
      "needs_background": "light"
     },
     "output_type": "display_data"
    },
    {
     "data": {
      "image/png": "[encoded data removed]",
      "text/plain": [
       "<Figure size 432x288 with 1 Axes>"
      ]
     },
     "metadata": {
      "needs_background": "light"
     },
     "output_type": "display_data"
    },
    {
     "data": {
      "image/png": "[encoded data removed]",
      "text/plain": [
       "<Figure size 432x288 with 1 Axes>"
      ]
     },
     "metadata": {
      "needs_background": "light"
     },
     "output_type": "display_data"
    },
    {
     "data": {
      "image/png": "[encoded data removed]",
      "text/plain": [
       "<Figure size 432x288 with 1 Axes>"
      ]
     },
     "metadata": {
      "needs_background": "light"
     },
     "output_type": "display_data"
    },
    {
     "data": {
      "image/png": "[encoded data removed]",
      "text/plain": [
       "<Figure size 432x288 with 1 Axes>"
      ]
     },
     "metadata": {
      "needs_background": "light"
     },
     "output_type": "display_data"
    },
    {
     "data": {
      "image/png": "[encoded data removed]",
      "text/plain": [
       "<Figure size 432x288 with 1 Axes>"
      ]
     },
     "metadata": {
      "needs_background": "light"
     },
     "output_type": "display_data"
    },
    {
     "data": {
      "image/png": "[encoded data removed]",
      "text/plain": [
       "<Figure size 432x288 with 1 Axes>"
      ]
     },
     "metadata": {
      "needs_background": "light"
     },
     "output_type": "display_data"
    },
    {
     "data": {
      "image/png": "[encoded data removed]",
      "text/plain": [
       "<Figure size 432x288 with 1 Axes>"
      ]
     },
     "metadata": {
      "needs_background": "light"
     },
     "output_type": "display_data"
    },
    {
     "data": {
      "image/png": "[encoded data removed]",
      "text/plain": [
       "<Figure size 432x288 with 1 Axes>"
      ]
     },
     "metadata": {
      "needs_background": "light"
     },
     "output_type": "display_data"
    },
    {
     "data": {
      "image/png": "[encoded data removed]",
      "text/plain": [
       "<Figure size 432x288 with 1 Axes>"
      ]
     },
     "metadata": {
      "needs_background": "light"
     },
     "output_type": "display_data"
    },
    {
     "data": {
      "image/png": "[encoded data removed]",
      "text/plain": [
       "<Figure size 432x288 with 1 Axes>"
      ]
     },
     "metadata": {
      "needs_background": "light"
     },
     "output_type": "display_data"
    },
    {
     "data": {
      "image/png": "[encoded data removed]",
      "text/plain": [
       "<Figure size 432x288 with 1 Axes>"
      ]
     },
     "metadata": {
      "needs_background": "light"
     },
     "output_type": "display_data"
    },
    {
     "data": {
      "image/png": "[encoded data removed]",
      "text/plain": [
       "<Figure size 432x288 with 1 Axes>"
      ]
     },
     "metadata": {
      "needs_background": "light"
     },
     "output_type": "display_data"
    },
    {
     "data": {
      "image/png": "[encoded data removed]",
      "text/plain": [
       "<Figure size 432x288 with 1 Axes>"
      ]
     },
     "metadata": {
      "needs_background": "light"
     },
     "output_type": "display_data"
    },
    {
     "data": {
      "image/png": "[encoded data removed]",
      "text/plain": [
       "<Figure size 432x288 with 1 Axes>"
      ]
     },
     "metadata": {
      "needs_background": "light"
     },
     "output_type": "display_data"
    },
    {
     "data": {
      "image/png": "[encoded data removed]",
      "text/plain": [
       "<Figure size 432x288 with 1 Axes>"
      ]
     },
     "metadata": {
      "needs_background": "light"
     },
     "output_type": "display_data"
    },
    {
     "data": {
      "image/png": "[encoded data removed]",
      "text/plain": [
       "<Figure size 432x288 with 1 Axes>"
      ]
     },
     "metadata": {
      "needs_background": "light"
     },
     "output_type": "display_data"
    },
    {
     "data": {
      "image/png": "[encoded data removed]",
      "text/plain": [
       "<Figure size 432x288 with 1 Axes>"
      ]
     },
     "metadata": {
      "needs_background": "light"
     },
     "output_type": "display_data"
    },
    {
     "data": {
      "image/png": "[encoded data removed]",
      "text/plain": [
       "<Figure size 432x288 with 1 Axes>"
      ]
     },
     "metadata": {
      "needs_background": "light"
     },
     "output_type": "display_data"
    }
   ],
   "source": [
    "#detecting outliers using boxplot\n",
    "for column in cp:\n",
    "    plt.figure()\n",
    "    sns.boxplot(c2c[column])"
   ]
  },
  {
   "cell_type": "code",
   "execution_count": 13,
   "metadata": {},
   "outputs": [],
   "source": [
    "#columns with significant outliers \n",
    "outColumns=['REVENUE','MOU','RECCHRGE','DIRECTAS','OVERAGE','ROAM','CHANGEM','CHANGER','DROPVCE','BLCKVCE','UNANSVCE','CUSTCARE','THREEWAY','MOUREC','OUTCALLS','INCALLS','PEAKVCE','OPEAKVCE','DROPBLK','CALLFWDV','CALLWAIT','MONTHS','EQPDAYS','AGE1','AGE2']"
   ]
  },
  {
   "cell_type": "code",
   "execution_count": 12,
   "metadata": {},
   "outputs": [],
   "source": [
    "#outlier capping\n",
    "for column in outColumns:\n",
    "    upper_limit = c2c[column].quantile(0.99)\n",
    "    lower_limit = c2c[column].quantile(0.01)\n",
    "    c2c[column] = np.where(c2c[column] >= upper_limit,\n",
    "            upper_limit,\n",
    "            np.where(c2c[column] <= lower_limit,\n",
    "            lower_limit,\n",
    "            c2c[column]))"
   ]
  },
  {
   "cell_type": "code",
   "execution_count": 87,
   "metadata": {},
   "outputs": [
    {
     "name": "stderr",
     "output_type": "stream",
     "text": [
      "<ipython-input-87-03f841a540cf>:3: RuntimeWarning: More than 20 figures have been opened. Figures created through the pyplot interface (`matplotlib.pyplot.figure`) are retained until explicitly closed and may consume too much memory. (To control this warning, see the rcParam `figure.max_open_warning`).\n",
      "  plt.figure()\n",
      "<ipython-input-87-03f841a540cf>:3: RuntimeWarning: More than 20 figures have been opened. Figures created through the pyplot interface (`matplotlib.pyplot.figure`) are retained until explicitly closed and may consume too much memory. (To control this warning, see the rcParam `figure.max_open_warning`).\n",
      "  plt.figure()\n",
      "<ipython-input-87-03f841a540cf>:3: RuntimeWarning: More than 20 figures have been opened. Figures created through the pyplot interface (`matplotlib.pyplot.figure`) are retained until explicitly closed and may consume too much memory. (To control this warning, see the rcParam `figure.max_open_warning`).\n",
      "  plt.figure()\n",
      "<ipython-input-87-03f841a540cf>:3: RuntimeWarning: More than 20 figures have been opened. Figures created through the pyplot interface (`matplotlib.pyplot.figure`) are retained until explicitly closed and may consume too much memory. (To control this warning, see the rcParam `figure.max_open_warning`).\n",
      "  plt.figure()\n",
      "<ipython-input-87-03f841a540cf>:3: RuntimeWarning: More than 20 figures have been opened. Figures created through the pyplot interface (`matplotlib.pyplot.figure`) are retained until explicitly closed and may consume too much memory. (To control this warning, see the rcParam `figure.max_open_warning`).\n",
      "  plt.figure()\n",
      "<ipython-input-87-03f841a540cf>:3: RuntimeWarning: More than 20 figures have been opened. Figures created through the pyplot interface (`matplotlib.pyplot.figure`) are retained until explicitly closed and may consume too much memory. (To control this warning, see the rcParam `figure.max_open_warning`).\n",
      "  plt.figure()\n",
      "<ipython-input-87-03f841a540cf>:3: RuntimeWarning: More than 20 figures have been opened. Figures created through the pyplot interface (`matplotlib.pyplot.figure`) are retained until explicitly closed and may consume too much memory. (To control this warning, see the rcParam `figure.max_open_warning`).\n",
      "  plt.figure()\n",
      "<ipython-input-87-03f841a540cf>:3: RuntimeWarning: More than 20 figures have been opened. Figures created through the pyplot interface (`matplotlib.pyplot.figure`) are retained until explicitly closed and may consume too much memory. (To control this warning, see the rcParam `figure.max_open_warning`).\n",
      "  plt.figure()\n",
      "<ipython-input-87-03f841a540cf>:3: RuntimeWarning: More than 20 figures have been opened. Figures created through the pyplot interface (`matplotlib.pyplot.figure`) are retained until explicitly closed and may consume too much memory. (To control this warning, see the rcParam `figure.max_open_warning`).\n",
      "  plt.figure()\n",
      "<ipython-input-87-03f841a540cf>:3: RuntimeWarning: More than 20 figures have been opened. Figures created through the pyplot interface (`matplotlib.pyplot.figure`) are retained until explicitly closed and may consume too much memory. (To control this warning, see the rcParam `figure.max_open_warning`).\n",
      "  plt.figure()\n",
      "<ipython-input-87-03f841a540cf>:3: RuntimeWarning: More than 20 figures have been opened. Figures created through the pyplot interface (`matplotlib.pyplot.figure`) are retained until explicitly closed and may consume too much memory. (To control this warning, see the rcParam `figure.max_open_warning`).\n",
      "  plt.figure()\n",
      "<ipython-input-87-03f841a540cf>:3: RuntimeWarning: More than 20 figures have been opened. Figures created through the pyplot interface (`matplotlib.pyplot.figure`) are retained until explicitly closed and may consume too much memory. (To control this warning, see the rcParam `figure.max_open_warning`).\n",
      "  plt.figure()\n",
      "<ipython-input-87-03f841a540cf>:3: RuntimeWarning: More than 20 figures have been opened. Figures created through the pyplot interface (`matplotlib.pyplot.figure`) are retained until explicitly closed and may consume too much memory. (To control this warning, see the rcParam `figure.max_open_warning`).\n",
      "  plt.figure()\n",
      "<ipython-input-87-03f841a540cf>:3: RuntimeWarning: More than 20 figures have been opened. Figures created through the pyplot interface (`matplotlib.pyplot.figure`) are retained until explicitly closed and may consume too much memory. (To control this warning, see the rcParam `figure.max_open_warning`).\n",
      "  plt.figure()\n",
      "<ipython-input-87-03f841a540cf>:3: RuntimeWarning: More than 20 figures have been opened. Figures created through the pyplot interface (`matplotlib.pyplot.figure`) are retained until explicitly closed and may consume too much memory. (To control this warning, see the rcParam `figure.max_open_warning`).\n",
      "  plt.figure()\n",
      "<ipython-input-87-03f841a540cf>:3: RuntimeWarning: More than 20 figures have been opened. Figures created through the pyplot interface (`matplotlib.pyplot.figure`) are retained until explicitly closed and may consume too much memory. (To control this warning, see the rcParam `figure.max_open_warning`).\n",
      "  plt.figure()\n",
      "<ipython-input-87-03f841a540cf>:3: RuntimeWarning: More than 20 figures have been opened. Figures created through the pyplot interface (`matplotlib.pyplot.figure`) are retained until explicitly closed and may consume too much memory. (To control this warning, see the rcParam `figure.max_open_warning`).\n",
      "  plt.figure()\n",
      "<ipython-input-87-03f841a540cf>:3: RuntimeWarning: More than 20 figures have been opened. Figures created through the pyplot interface (`matplotlib.pyplot.figure`) are retained until explicitly closed and may consume too much memory. (To control this warning, see the rcParam `figure.max_open_warning`).\n",
      "  plt.figure()\n",
      "<ipython-input-87-03f841a540cf>:3: RuntimeWarning: More than 20 figures have been opened. Figures created through the pyplot interface (`matplotlib.pyplot.figure`) are retained until explicitly closed and may consume too much memory. (To control this warning, see the rcParam `figure.max_open_warning`).\n",
      "  plt.figure()\n",
      "<ipython-input-87-03f841a540cf>:3: RuntimeWarning: More than 20 figures have been opened. Figures created through the pyplot interface (`matplotlib.pyplot.figure`) are retained until explicitly closed and may consume too much memory. (To control this warning, see the rcParam `figure.max_open_warning`).\n",
      "  plt.figure()\n",
      "<ipython-input-87-03f841a540cf>:3: RuntimeWarning: More than 20 figures have been opened. Figures created through the pyplot interface (`matplotlib.pyplot.figure`) are retained until explicitly closed and may consume too much memory. (To control this warning, see the rcParam `figure.max_open_warning`).\n",
      "  plt.figure()\n",
      "<ipython-input-87-03f841a540cf>:3: RuntimeWarning: More than 20 figures have been opened. Figures created through the pyplot interface (`matplotlib.pyplot.figure`) are retained until explicitly closed and may consume too much memory. (To control this warning, see the rcParam `figure.max_open_warning`).\n",
      "  plt.figure()\n",
      "<ipython-input-87-03f841a540cf>:3: RuntimeWarning: More than 20 figures have been opened. Figures created through the pyplot interface (`matplotlib.pyplot.figure`) are retained until explicitly closed and may consume too much memory. (To control this warning, see the rcParam `figure.max_open_warning`).\n",
      "  plt.figure()\n",
      "<ipython-input-87-03f841a540cf>:3: RuntimeWarning: More than 20 figures have been opened. Figures created through the pyplot interface (`matplotlib.pyplot.figure`) are retained until explicitly closed and may consume too much memory. (To control this warning, see the rcParam `figure.max_open_warning`).\n",
      "  plt.figure()\n",
      "<ipython-input-87-03f841a540cf>:3: RuntimeWarning: More than 20 figures have been opened. Figures created through the pyplot interface (`matplotlib.pyplot.figure`) are retained until explicitly closed and may consume too much memory. (To control this warning, see the rcParam `figure.max_open_warning`).\n",
      "  plt.figure()\n",
      "<ipython-input-87-03f841a540cf>:3: RuntimeWarning: More than 20 figures have been opened. Figures created through the pyplot interface (`matplotlib.pyplot.figure`) are retained until explicitly closed and may consume too much memory. (To control this warning, see the rcParam `figure.max_open_warning`).\n",
      "  plt.figure()\n",
      "<ipython-input-87-03f841a540cf>:3: RuntimeWarning: More than 20 figures have been opened. Figures created through the pyplot interface (`matplotlib.pyplot.figure`) are retained until explicitly closed and may consume too much memory. (To control this warning, see the rcParam `figure.max_open_warning`).\n",
      "  plt.figure()\n",
      "<ipython-input-87-03f841a540cf>:3: RuntimeWarning: More than 20 figures have been opened. Figures created through the pyplot interface (`matplotlib.pyplot.figure`) are retained until explicitly closed and may consume too much memory. (To control this warning, see the rcParam `figure.max_open_warning`).\n",
      "  plt.figure()\n",
      "<ipython-input-87-03f841a540cf>:3: RuntimeWarning: More than 20 figures have been opened. Figures created through the pyplot interface (`matplotlib.pyplot.figure`) are retained until explicitly closed and may consume too much memory. (To control this warning, see the rcParam `figure.max_open_warning`).\n",
      "  plt.figure()\n",
      "<ipython-input-87-03f841a540cf>:3: RuntimeWarning: More than 20 figures have been opened. Figures created through the pyplot interface (`matplotlib.pyplot.figure`) are retained until explicitly closed and may consume too much memory. (To control this warning, see the rcParam `figure.max_open_warning`).\n",
      "  plt.figure()\n",
      "<ipython-input-87-03f841a540cf>:3: RuntimeWarning: More than 20 figures have been opened. Figures created through the pyplot interface (`matplotlib.pyplot.figure`) are retained until explicitly closed and may consume too much memory. (To control this warning, see the rcParam `figure.max_open_warning`).\n",
      "  plt.figure()\n",
      "<ipython-input-87-03f841a540cf>:3: RuntimeWarning: More than 20 figures have been opened. Figures created through the pyplot interface (`matplotlib.pyplot.figure`) are retained until explicitly closed and may consume too much memory. (To control this warning, see the rcParam `figure.max_open_warning`).\n",
      "  plt.figure()\n",
      "<ipython-input-87-03f841a540cf>:3: RuntimeWarning: More than 20 figures have been opened. Figures created through the pyplot interface (`matplotlib.pyplot.figure`) are retained until explicitly closed and may consume too much memory. (To control this warning, see the rcParam `figure.max_open_warning`).\n",
      "  plt.figure()\n",
      "<ipython-input-87-03f841a540cf>:3: RuntimeWarning: More than 20 figures have been opened. Figures created through the pyplot interface (`matplotlib.pyplot.figure`) are retained until explicitly closed and may consume too much memory. (To control this warning, see the rcParam `figure.max_open_warning`).\n",
      "  plt.figure()\n",
      "<ipython-input-87-03f841a540cf>:3: RuntimeWarning: More than 20 figures have been opened. Figures created through the pyplot interface (`matplotlib.pyplot.figure`) are retained until explicitly closed and may consume too much memory. (To control this warning, see the rcParam `figure.max_open_warning`).\n",
      "  plt.figure()\n"
     ]
    },
    {
     "name": "stderr",
     "output_type": "stream",
     "text": [
      "<ipython-input-87-03f841a540cf>:3: RuntimeWarning: More than 20 figures have been opened. Figures created through the pyplot interface (`matplotlib.pyplot.figure`) are retained until explicitly closed and may consume too much memory. (To control this warning, see the rcParam `figure.max_open_warning`).\n",
      "  plt.figure()\n",
      "<ipython-input-87-03f841a540cf>:3: RuntimeWarning: More than 20 figures have been opened. Figures created through the pyplot interface (`matplotlib.pyplot.figure`) are retained until explicitly closed and may consume too much memory. (To control this warning, see the rcParam `figure.max_open_warning`).\n",
      "  plt.figure()\n",
      "<ipython-input-87-03f841a540cf>:3: RuntimeWarning: More than 20 figures have been opened. Figures created through the pyplot interface (`matplotlib.pyplot.figure`) are retained until explicitly closed and may consume too much memory. (To control this warning, see the rcParam `figure.max_open_warning`).\n",
      "  plt.figure()\n",
      "<ipython-input-87-03f841a540cf>:3: RuntimeWarning: More than 20 figures have been opened. Figures created through the pyplot interface (`matplotlib.pyplot.figure`) are retained until explicitly closed and may consume too much memory. (To control this warning, see the rcParam `figure.max_open_warning`).\n",
      "  plt.figure()\n",
      "<ipython-input-87-03f841a540cf>:3: RuntimeWarning: More than 20 figures have been opened. Figures created through the pyplot interface (`matplotlib.pyplot.figure`) are retained until explicitly closed and may consume too much memory. (To control this warning, see the rcParam `figure.max_open_warning`).\n",
      "  plt.figure()\n",
      "<ipython-input-87-03f841a540cf>:3: RuntimeWarning: More than 20 figures have been opened. Figures created through the pyplot interface (`matplotlib.pyplot.figure`) are retained until explicitly closed and may consume too much memory. (To control this warning, see the rcParam `figure.max_open_warning`).\n",
      "  plt.figure()\n",
      "<ipython-input-87-03f841a540cf>:3: RuntimeWarning: More than 20 figures have been opened. Figures created through the pyplot interface (`matplotlib.pyplot.figure`) are retained until explicitly closed and may consume too much memory. (To control this warning, see the rcParam `figure.max_open_warning`).\n",
      "  plt.figure()\n",
      "<ipython-input-87-03f841a540cf>:3: RuntimeWarning: More than 20 figures have been opened. Figures created through the pyplot interface (`matplotlib.pyplot.figure`) are retained until explicitly closed and may consume too much memory. (To control this warning, see the rcParam `figure.max_open_warning`).\n",
      "  plt.figure()\n",
      "<ipython-input-87-03f841a540cf>:3: RuntimeWarning: More than 20 figures have been opened. Figures created through the pyplot interface (`matplotlib.pyplot.figure`) are retained until explicitly closed and may consume too much memory. (To control this warning, see the rcParam `figure.max_open_warning`).\n",
      "  plt.figure()\n",
      "<ipython-input-87-03f841a540cf>:3: RuntimeWarning: More than 20 figures have been opened. Figures created through the pyplot interface (`matplotlib.pyplot.figure`) are retained until explicitly closed and may consume too much memory. (To control this warning, see the rcParam `figure.max_open_warning`).\n",
      "  plt.figure()\n",
      "<ipython-input-87-03f841a540cf>:3: RuntimeWarning: More than 20 figures have been opened. Figures created through the pyplot interface (`matplotlib.pyplot.figure`) are retained until explicitly closed and may consume too much memory. (To control this warning, see the rcParam `figure.max_open_warning`).\n",
      "  plt.figure()\n",
      "<ipython-input-87-03f841a540cf>:3: RuntimeWarning: More than 20 figures have been opened. Figures created through the pyplot interface (`matplotlib.pyplot.figure`) are retained until explicitly closed and may consume too much memory. (To control this warning, see the rcParam `figure.max_open_warning`).\n",
      "  plt.figure()\n",
      "<ipython-input-87-03f841a540cf>:3: RuntimeWarning: More than 20 figures have been opened. Figures created through the pyplot interface (`matplotlib.pyplot.figure`) are retained until explicitly closed and may consume too much memory. (To control this warning, see the rcParam `figure.max_open_warning`).\n",
      "  plt.figure()\n",
      "<ipython-input-87-03f841a540cf>:3: RuntimeWarning: More than 20 figures have been opened. Figures created through the pyplot interface (`matplotlib.pyplot.figure`) are retained until explicitly closed and may consume too much memory. (To control this warning, see the rcParam `figure.max_open_warning`).\n",
      "  plt.figure()\n",
      "<ipython-input-87-03f841a540cf>:3: RuntimeWarning: More than 20 figures have been opened. Figures created through the pyplot interface (`matplotlib.pyplot.figure`) are retained until explicitly closed and may consume too much memory. (To control this warning, see the rcParam `figure.max_open_warning`).\n",
      "  plt.figure()\n",
      "<ipython-input-87-03f841a540cf>:3: RuntimeWarning: More than 20 figures have been opened. Figures created through the pyplot interface (`matplotlib.pyplot.figure`) are retained until explicitly closed and may consume too much memory. (To control this warning, see the rcParam `figure.max_open_warning`).\n",
      "  plt.figure()\n",
      "<ipython-input-87-03f841a540cf>:3: RuntimeWarning: More than 20 figures have been opened. Figures created through the pyplot interface (`matplotlib.pyplot.figure`) are retained until explicitly closed and may consume too much memory. (To control this warning, see the rcParam `figure.max_open_warning`).\n",
      "  plt.figure()\n",
      "<ipython-input-87-03f841a540cf>:3: RuntimeWarning: More than 20 figures have been opened. Figures created through the pyplot interface (`matplotlib.pyplot.figure`) are retained until explicitly closed and may consume too much memory. (To control this warning, see the rcParam `figure.max_open_warning`).\n",
      "  plt.figure()\n",
      "<ipython-input-87-03f841a540cf>:3: RuntimeWarning: More than 20 figures have been opened. Figures created through the pyplot interface (`matplotlib.pyplot.figure`) are retained until explicitly closed and may consume too much memory. (To control this warning, see the rcParam `figure.max_open_warning`).\n",
      "  plt.figure()\n",
      "<ipython-input-87-03f841a540cf>:3: RuntimeWarning: More than 20 figures have been opened. Figures created through the pyplot interface (`matplotlib.pyplot.figure`) are retained until explicitly closed and may consume too much memory. (To control this warning, see the rcParam `figure.max_open_warning`).\n",
      "  plt.figure()\n",
      "<ipython-input-87-03f841a540cf>:3: RuntimeWarning: More than 20 figures have been opened. Figures created through the pyplot interface (`matplotlib.pyplot.figure`) are retained until explicitly closed and may consume too much memory. (To control this warning, see the rcParam `figure.max_open_warning`).\n",
      "  plt.figure()\n",
      "<ipython-input-87-03f841a540cf>:3: RuntimeWarning: More than 20 figures have been opened. Figures created through the pyplot interface (`matplotlib.pyplot.figure`) are retained until explicitly closed and may consume too much memory. (To control this warning, see the rcParam `figure.max_open_warning`).\n",
      "  plt.figure()\n"
     ]
    },
    {
     "data": {
      "image/png": "[encoded data removed]",
      "text/plain": [
       "<Figure size 432x288 with 1 Axes>"
      ]
     },
     "metadata": {
      "needs_background": "light"
     },
     "output_type": "display_data"
    },
    {
     "data": {
      "image/png": "[encoded data removed]",
      "text/plain": [
       "<Figure size 432x288 with 1 Axes>"
      ]
     },
     "metadata": {
      "needs_background": "light"
     },
     "output_type": "display_data"
    },
    {
     "data": {
      "image/png": "[encoded data removed]",
      "text/plain": [
       "<Figure size 432x288 with 1 Axes>"
      ]
     },
     "metadata": {
      "needs_background": "light"
     },
     "output_type": "display_data"
    },
    {
     "data": {
      "image/png": "[encoded data removed]",
      "text/plain": [
       "<Figure size 432x288 with 1 Axes>"
      ]
     },
     "metadata": {
      "needs_background": "light"
     },
     "output_type": "display_data"
    },
    {
     "data": {
      "image/png": "[encoded data removed]",
      "text/plain": [
       "<Figure size 432x288 with 1 Axes>"
      ]
     },
     "metadata": {
      "needs_background": "light"
     },
     "output_type": "display_data"
    },
    {
     "data": {
      "image/png": "[encoded data removed]",
      "text/plain": [
       "<Figure size 432x288 with 1 Axes>"
      ]
     },
     "metadata": {
      "needs_background": "light"
     },
     "output_type": "display_data"
    },
    {
     "data": {
      "image/png": "[encoded data removed]",
      "text/plain": [
       "<Figure size 432x288 with 1 Axes>"
      ]
     },
     "metadata": {
      "needs_background": "light"
     },
     "output_type": "display_data"
    },
    {
     "data": {
      "image/png": "[encoded data removed]",
      "text/plain": [
       "<Figure size 432x288 with 1 Axes>"
      ]
     },
     "metadata": {
      "needs_background": "light"
     },
     "output_type": "display_data"
    },
    {
     "data": {
      "image/png": "[encoded data removed]",
      "text/plain": [
       "<Figure size 432x288 with 1 Axes>"
      ]
     },
     "metadata": {
      "needs_background": "light"
     },
     "output_type": "display_data"
    },
    {
     "data": {
      "image/png": "[encoded data removed]",
      "text/plain": [
       "<Figure size 432x288 with 1 Axes>"
      ]
     },
     "metadata": {
      "needs_background": "light"
     },
     "output_type": "display_data"
    },
    {
     "data": {
      "image/png": "[encoded data removed]",
      "text/plain": [
       "<Figure size 432x288 with 1 Axes>"
      ]
     },
     "metadata": {
      "needs_background": "light"
     },
     "output_type": "display_data"
    },
    {
     "data": {
      "image/png": "[encoded data removed]",
      "text/plain": [
       "<Figure size 432x288 with 1 Axes>"
      ]
     },
     "metadata": {
      "needs_background": "light"
     },
     "output_type": "display_data"
    },
    {
     "data": {
      "image/png": "[encoded data removed]",
      "text/plain": [
       "<Figure size 432x288 with 1 Axes>"
      ]
     },
     "metadata": {
      "needs_background": "light"
     },
     "output_type": "display_data"
    },
    {
     "data": {
      "image/png": "[encoded data removed]",
      "text/plain": [
       "<Figure size 432x288 with 1 Axes>"
      ]
     },
     "metadata": {
      "needs_background": "light"
     },
     "output_type": "display_data"
    },
    {
     "data": {
      "image/png": "[encoded data removed]",
      "text/plain": [
       "<Figure size 432x288 with 1 Axes>"
      ]
     },
     "metadata": {
      "needs_background": "light"
     },
     "output_type": "display_data"
    },
    {
     "data": {
      "image/png": "[encoded data removed]",
      "text/plain": [
       "<Figure size 432x288 with 1 Axes>"
      ]
     },
     "metadata": {
      "needs_background": "light"
     },
     "output_type": "display_data"
    },
    {
     "data": {
      "image/png": "[encoded data removed]",
      "text/plain": [
       "<Figure size 432x288 with 1 Axes>"
      ]
     },
     "metadata": {
      "needs_background": "light"
     },
     "output_type": "display_data"
    },
    {
     "data": {
      "image/png": "[encoded data removed]",
      "text/plain": [
       "<Figure size 432x288 with 1 Axes>"
      ]
     },
     "metadata": {
      "needs_background": "light"
     },
     "output_type": "display_data"
    },
    {
     "data": {
      "image/png": "[encoded data removed]",
      "text/plain": [
       "<Figure size 432x288 with 1 Axes>"
      ]
     },
     "metadata": {
      "needs_background": "light"
     },
     "output_type": "display_data"
    },
    {
     "data": {
      "image/png": "[encoded data removed]",
      "text/plain": [
       "<Figure size 432x288 with 1 Axes>"
      ]
     },
     "metadata": {
      "needs_background": "light"
     },
     "output_type": "display_data"
    },
    {
     "data": {
      "image/png": "[encoded data removed]",
      "text/plain": [
       "<Figure size 432x288 with 1 Axes>"
      ]
     },
     "metadata": {
      "needs_background": "light"
     },
     "output_type": "display_data"
    },
    {
     "data": {
      "image/png": "[encoded data removed]",
      "text/plain": [
       "<Figure size 432x288 with 1 Axes>"
      ]
     },
     "metadata": {
      "needs_background": "light"
     },
     "output_type": "display_data"
    },
    {
     "data": {
      "image/png": "[encoded data removed]",
      "text/plain": [
       "<Figure size 432x288 with 1 Axes>"
      ]
     },
     "metadata": {
      "needs_background": "light"
     },
     "output_type": "display_data"
    },
    {
     "data": {
      "image/png": "[encoded data removed]",
      "text/plain": [
       "<Figure size 432x288 with 1 Axes>"
      ]
     },
     "metadata": {
      "needs_background": "light"
     },
     "output_type": "display_data"
    },
    {
     "data": {
      "image/png": "[encoded data removed]",
      "text/plain": [
       "<Figure size 432x288 with 1 Axes>"
      ]
     },
     "metadata": {
      "needs_background": "light"
     },
     "output_type": "display_data"
    },
    {
     "data": {
      "image/png": "[encoded data removed]",
      "text/plain": [
       "<Figure size 432x288 with 1 Axes>"
      ]
     },
     "metadata": {
      "needs_background": "light"
     },
     "output_type": "display_data"
    },
    {
     "data": {
      "image/png": "[encoded data removed]",
      "text/plain": [
       "<Figure size 432x288 with 1 Axes>"
      ]
     },
     "metadata": {
      "needs_background": "light"
     },
     "output_type": "display_data"
    },
    {
     "data": {
      "image/png": "[encoded data removed]",
      "text/plain": [
       "<Figure size 432x288 with 1 Axes>"
      ]
     },
     "metadata": {
      "needs_background": "light"
     },
     "output_type": "display_data"
    },
    {
     "data": {
      "image/png": "[encoded data removed]",
      "text/plain": [
       "<Figure size 432x288 with 1 Axes>"
      ]
     },
     "metadata": {
      "needs_background": "light"
     },
     "output_type": "display_data"
    },
    {
     "data": {
      "image/png": "[encoded data removed]",
      "text/plain": [
       "<Figure size 432x288 with 1 Axes>"
      ]
     },
     "metadata": {
      "needs_background": "light"
     },
     "output_type": "display_data"
    },
    {
     "data": {
      "image/png": "[encoded data removed]",
      "text/plain": [
       "<Figure size 432x288 with 1 Axes>"
      ]
     },
     "metadata": {
      "needs_background": "light"
     },
     "output_type": "display_data"
    },
    {
     "data": {
      "image/png": "[encoded data removed]",
      "text/plain": [
       "<Figure size 432x288 with 1 Axes>"
      ]
     },
     "metadata": {
      "needs_background": "light"
     },
     "output_type": "display_data"
    },
    {
     "data": {
      "image/png": "[encoded data removed]",
      "text/plain": [
       "<Figure size 432x288 with 1 Axes>"
      ]
     },
     "metadata": {
      "needs_background": "light"
     },
     "output_type": "display_data"
    },
    {
     "data": {
      "image/png": "[encoded data removed]",
      "text/plain": [
       "<Figure size 432x288 with 1 Axes>"
      ]
     },
     "metadata": {
      "needs_background": "light"
     },
     "output_type": "display_data"
    },
    {
     "data": {
      "image/png": "[encoded data removed]",
      "text/plain": [
       "<Figure size 432x288 with 1 Axes>"
      ]
     },
     "metadata": {
      "needs_background": "light"
     },
     "output_type": "display_data"
    },
    {
     "data": {
      "image/png": "[encoded data removed]",
      "text/plain": [
       "<Figure size 432x288 with 1 Axes>"
      ]
     },
     "metadata": {
      "needs_background": "light"
     },
     "output_type": "display_data"
    },
    {
     "data": {
      "image/png": "[encoded data removed]",
      "text/plain": [
       "<Figure size 432x288 with 1 Axes>"
      ]
     },
     "metadata": {
      "needs_background": "light"
     },
     "output_type": "display_data"
    },
    {
     "data": {
      "image/png": "[encoded data removed]",
      "text/plain": [
       "<Figure size 432x288 with 1 Axes>"
      ]
     },
     "metadata": {
      "needs_background": "light"
     },
     "output_type": "display_data"
    },
    {
     "data": {
      "image/png": "[encoded data removed]",
      "text/plain": [
       "<Figure size 432x288 with 1 Axes>"
      ]
     },
     "metadata": {
      "needs_background": "light"
     },
     "output_type": "display_data"
    },
    {
     "data": {
      "image/png": "[encoded data removed]",
      "text/plain": [
       "<Figure size 432x288 with 1 Axes>"
      ]
     },
     "metadata": {
      "needs_background": "light"
     },
     "output_type": "display_data"
    },
    {
     "data": {
      "image/png": "[encoded data removed]",
      "text/plain": [
       "<Figure size 432x288 with 1 Axes>"
      ]
     },
     "metadata": {
      "needs_background": "light"
     },
     "output_type": "display_data"
    },
    {
     "data": {
      "image/png": "[encoded data removed]",
      "text/plain": [
       "<Figure size 432x288 with 1 Axes>"
      ]
     },
     "metadata": {
      "needs_background": "light"
     },
     "output_type": "display_data"
    },
    {
     "data": {
      "image/png": "[encoded data removed]",
      "text/plain": [
       "<Figure size 432x288 with 1 Axes>"
      ]
     },
     "metadata": {
      "needs_background": "light"
     },
     "output_type": "display_data"
    },
    {
     "data": {
      "image/png": "[encoded data removed]",
      "text/plain": [
       "<Figure size 432x288 with 1 Axes>"
      ]
     },
     "metadata": {
      "needs_background": "light"
     },
     "output_type": "display_data"
    },
    {
     "data": {
      "image/png": "[encoded data removed]",
      "text/plain": [
       "<Figure size 432x288 with 1 Axes>"
      ]
     },
     "metadata": {
      "needs_background": "light"
     },
     "output_type": "display_data"
    },
    {
     "data": {
      "image/png": "[encoded data removed]",
      "text/plain": [
       "<Figure size 432x288 with 1 Axes>"
      ]
     },
     "metadata": {
      "needs_background": "light"
     },
     "output_type": "display_data"
    },
    {
     "data": {
      "image/png": "[encoded data removed]",
      "text/plain": [
       "<Figure size 432x288 with 1 Axes>"
      ]
     },
     "metadata": {
      "needs_background": "light"
     },
     "output_type": "display_data"
    },
    {
     "data": {
      "image/png": "[encoded data removed]",
      "text/plain": [
       "<Figure size 432x288 with 1 Axes>"
      ]
     },
     "metadata": {
      "needs_background": "light"
     },
     "output_type": "display_data"
    },
    {
     "data": {
      "image/png": "[encoded data removed]",
      "text/plain": [
       "<Figure size 432x288 with 1 Axes>"
      ]
     },
     "metadata": {
      "needs_background": "light"
     },
     "output_type": "display_data"
    },
    {
     "data": {
      "image/png": "[encoded data removed]",
      "text/plain": [
       "<Figure size 432x288 with 1 Axes>"
      ]
     },
     "metadata": {
      "needs_background": "light"
     },
     "output_type": "display_data"
    },
    {
     "data": {
      "image/png": "[encoded data removed]",
      "text/plain": [
       "<Figure size 432x288 with 1 Axes>"
      ]
     },
     "metadata": {
      "needs_background": "light"
     },
     "output_type": "display_data"
    },
    {
     "data": {
      "image/png": "[encoded data removed]",
      "text/plain": [
       "<Figure size 432x288 with 1 Axes>"
      ]
     },
     "metadata": {
      "needs_background": "light"
     },
     "output_type": "display_data"
    },
    {
     "data": {
      "image/png": "[encoded data removed]",
      "text/plain": [
       "<Figure size 432x288 with 1 Axes>"
      ]
     },
     "metadata": {
      "needs_background": "light"
     },
     "output_type": "display_data"
    },
    {
     "data": {
      "image/png": "[encoded data removed]",
      "text/plain": [
       "<Figure size 432x288 with 1 Axes>"
      ]
     },
     "metadata": {
      "needs_background": "light"
     },
     "output_type": "display_data"
    },
    {
     "data": {
      "image/png": "[encoded data removed]",
      "text/plain": [
       "<Figure size 432x288 with 1 Axes>"
      ]
     },
     "metadata": {
      "needs_background": "light"
     },
     "output_type": "display_data"
    },
    {
     "data": {
      "image/png": "[encoded data removed]",
      "text/plain": [
       "<Figure size 432x288 with 1 Axes>"
      ]
     },
     "metadata": {
      "needs_background": "light"
     },
     "output_type": "display_data"
    },
    {
     "data": {
      "image/png": "[encoded data removed]",
      "text/plain": [
       "<Figure size 432x288 with 1 Axes>"
      ]
     },
     "metadata": {
      "needs_background": "light"
     },
     "output_type": "display_data"
    },
    {
     "data": {
      "image/png": "[encoded data removed]",
      "text/plain": [
       "<Figure size 432x288 with 1 Axes>"
      ]
     },
     "metadata": {
      "needs_background": "light"
     },
     "output_type": "display_data"
    },
    {
     "data": {
      "image/png": "[encoded data removed]",
      "text/plain": [
       "<Figure size 432x288 with 1 Axes>"
      ]
     },
     "metadata": {
      "needs_background": "light"
     },
     "output_type": "display_data"
    },
    {
     "data": {
      "image/png": "[encoded data removed]",
      "text/plain": [
       "<Figure size 432x288 with 1 Axes>"
      ]
     },
     "metadata": {
      "needs_background": "light"
     },
     "output_type": "display_data"
    },
    {
     "data": {
      "image/png": "[encoded data removed]",
      "text/plain": [
       "<Figure size 432x288 with 1 Axes>"
      ]
     },
     "metadata": {
      "needs_background": "light"
     },
     "output_type": "display_data"
    },
    {
     "data": {
      "image/png": "[encoded data removed]",
      "text/plain": [
       "<Figure size 432x288 with 1 Axes>"
      ]
     },
     "metadata": {
      "needs_background": "light"
     },
     "output_type": "display_data"
    },
    {
     "data": {
      "image/png": "[encoded data removed]",
      "text/plain": [
       "<Figure size 432x288 with 1 Axes>"
      ]
     },
     "metadata": {
      "needs_background": "light"
     },
     "output_type": "display_data"
    },
    {
     "data": {
      "image/png": "[encoded data removed]",
      "text/plain": [
       "<Figure size 432x288 with 1 Axes>"
      ]
     },
     "metadata": {
      "needs_background": "light"
     },
     "output_type": "display_data"
    },
    {
     "data": {
      "image/png": "[encoded data removed]",
      "text/plain": [
       "<Figure size 432x288 with 1 Axes>"
      ]
     },
     "metadata": {
      "needs_background": "light"
     },
     "output_type": "display_data"
    },
    {
     "data": {
      "image/png": "[encoded data removed]",
      "text/plain": [
       "<Figure size 432x288 with 1 Axes>"
      ]
     },
     "metadata": {
      "needs_background": "light"
     },
     "output_type": "display_data"
    },
    {
     "data": {
      "image/png": "[encoded data removed]",
      "text/plain": [
       "<Figure size 432x288 with 1 Axes>"
      ]
     },
     "metadata": {
      "needs_background": "light"
     },
     "output_type": "display_data"
    },
    {
     "data": {
      "image/png": "[encoded data removed]",
      "text/plain": [
       "<Figure size 432x288 with 1 Axes>"
      ]
     },
     "metadata": {
      "needs_background": "light"
     },
     "output_type": "display_data"
    },
    {
     "data": {
      "image/png": "[encoded data removed]",
      "text/plain": [
       "<Figure size 432x288 with 1 Axes>"
      ]
     },
     "metadata": {
      "needs_background": "light"
     },
     "output_type": "display_data"
    },
    {
     "data": {
      "image/png": "[encoded data removed]",
      "text/plain": [
       "<Figure size 432x288 with 1 Axes>"
      ]
     },
     "metadata": {
      "needs_background": "light"
     },
     "output_type": "display_data"
    },
    {
     "data": {
      "image/png": "[encoded data removed]",
      "text/plain": [
       "<Figure size 432x288 with 1 Axes>"
      ]
     },
     "metadata": {
      "needs_background": "light"
     },
     "output_type": "display_data"
    },
    {
     "data": {
      "image/png": "[encoded data removed]",
      "text/plain": [
       "<Figure size 432x288 with 1 Axes>"
      ]
     },
     "metadata": {
      "needs_background": "light"
     },
     "output_type": "display_data"
    },
    {
     "data": {
      "image/png": "[encoded data removed]",
      "text/plain": [
       "<Figure size 432x288 with 1 Axes>"
      ]
     },
     "metadata": {
      "needs_background": "light"
     },
     "output_type": "display_data"
    },
    {
     "data": {
      "image/png": "[encoded data removed]",
      "text/plain": [
       "<Figure size 432x288 with 1 Axes>"
      ]
     },
     "metadata": {
      "needs_background": "light"
     },
     "output_type": "display_data"
    },
    {
     "data": {
      "image/png": "[encoded data removed]",
      "text/plain": [
       "<Figure size 432x288 with 1 Axes>"
      ]
     },
     "metadata": {
      "needs_background": "light"
     },
     "output_type": "display_data"
    },
    {
     "data": {
      "image/png": "[encoded data removed]",
      "text/plain": [
       "<Figure size 432x288 with 1 Axes>"
      ]
     },
     "metadata": {
      "needs_background": "light"
     },
     "output_type": "display_data"
    },
    {
     "data": {
      "image/png": "[encoded data removed]",
      "text/plain": [
       "<Figure size 432x288 with 1 Axes>"
      ]
     },
     "metadata": {
      "needs_background": "light"
     },
     "output_type": "display_data"
    }
   ],
   "source": [
    "#dropping CSA as it has object dtype\n",
    "cp=c2c.drop(\"CSA\",axis=1)\n",
    "for column in cp:\n",
    "    plt.figure()\n",
    "    sns.boxplot(c2c[column])"
   ]
  },
  {
   "cell_type": "code",
   "execution_count": 14,
   "metadata": {},
   "outputs": [
    {
     "data": {
      "text/html": [
       "<div>\n",
       "<style scoped>\n",
       "    .dataframe tbody tr th:only-of-type {\n",
       "        vertical-align: middle;\n",
       "    }\n",
       "\n",
       "    .dataframe tbody tr th {\n",
       "        vertical-align: top;\n",
       "    }\n",
       "\n",
       "    .dataframe thead th {\n",
       "        text-align: right;\n",
       "    }\n",
       "</style>\n",
       "<table border=\"1\" class=\"dataframe\">\n",
       "  <thead>\n",
       "    <tr style=\"text-align: right;\">\n",
       "      <th></th>\n",
       "      <th>REVENUE</th>\n",
       "      <th>MOU</th>\n",
       "      <th>RECCHRGE</th>\n",
       "      <th>DIRECTAS</th>\n",
       "      <th>OVERAGE</th>\n",
       "      <th>ROAM</th>\n",
       "      <th>CHANGEM</th>\n",
       "      <th>CHANGER</th>\n",
       "      <th>DROPVCE</th>\n",
       "      <th>BLCKVCE</th>\n",
       "      <th>UNANSVCE</th>\n",
       "      <th>CUSTCARE</th>\n",
       "      <th>THREEWAY</th>\n",
       "      <th>MOUREC</th>\n",
       "      <th>OUTCALLS</th>\n",
       "      <th>INCALLS</th>\n",
       "      <th>PEAKVCE</th>\n",
       "      <th>OPEAKVCE</th>\n",
       "      <th>DROPBLK</th>\n",
       "      <th>CALLFWDV</th>\n",
       "      <th>CALLWAIT</th>\n",
       "      <th>MONTHS</th>\n",
       "      <th>EQPDAYS</th>\n",
       "      <th>AGE1</th>\n",
       "      <th>AGE2</th>\n",
       "    </tr>\n",
       "  </thead>\n",
       "  <tbody>\n",
       "    <tr>\n",
       "      <th>0</th>\n",
       "      <td>57.49</td>\n",
       "      <td>482.75</td>\n",
       "      <td>37.43</td>\n",
       "      <td>0.25</td>\n",
       "      <td>22.75</td>\n",
       "      <td>0.0</td>\n",
       "      <td>532.25</td>\n",
       "      <td>50.99</td>\n",
       "      <td>8.33</td>\n",
       "      <td>1.00</td>\n",
       "      <td>61.33</td>\n",
       "      <td>1.67</td>\n",
       "      <td>0.33</td>\n",
       "      <td>55.28</td>\n",
       "      <td>46.33</td>\n",
       "      <td>6.33</td>\n",
       "      <td>83.67</td>\n",
       "      <td>157.00</td>\n",
       "      <td>9.33</td>\n",
       "      <td>0.0</td>\n",
       "      <td>5.67</td>\n",
       "      <td>49.0</td>\n",
       "      <td>240.0</td>\n",
       "      <td>30.0</td>\n",
       "      <td>0.0</td>\n",
       "    </tr>\n",
       "    <tr>\n",
       "      <th>1</th>\n",
       "      <td>82.28</td>\n",
       "      <td>1312.25</td>\n",
       "      <td>75.00</td>\n",
       "      <td>1.24</td>\n",
       "      <td>0.00</td>\n",
       "      <td>0.0</td>\n",
       "      <td>156.75</td>\n",
       "      <td>8.14</td>\n",
       "      <td>42.00</td>\n",
       "      <td>7.67</td>\n",
       "      <td>76.00</td>\n",
       "      <td>4.33</td>\n",
       "      <td>1.33</td>\n",
       "      <td>200.32</td>\n",
       "      <td>164.33</td>\n",
       "      <td>77.00</td>\n",
       "      <td>500.00</td>\n",
       "      <td>303.67</td>\n",
       "      <td>59.67</td>\n",
       "      <td>0.0</td>\n",
       "      <td>22.67</td>\n",
       "      <td>49.0</td>\n",
       "      <td>458.0</td>\n",
       "      <td>30.0</td>\n",
       "      <td>0.0</td>\n",
       "    </tr>\n",
       "    <tr>\n",
       "      <th>2</th>\n",
       "      <td>31.66</td>\n",
       "      <td>25.50</td>\n",
       "      <td>29.99</td>\n",
       "      <td>0.25</td>\n",
       "      <td>0.00</td>\n",
       "      <td>0.0</td>\n",
       "      <td>59.50</td>\n",
       "      <td>4.03</td>\n",
       "      <td>0.00</td>\n",
       "      <td>1.00</td>\n",
       "      <td>2.33</td>\n",
       "      <td>0.00</td>\n",
       "      <td>0.00</td>\n",
       "      <td>0.00</td>\n",
       "      <td>0.00</td>\n",
       "      <td>0.00</td>\n",
       "      <td>1.67</td>\n",
       "      <td>1.67</td>\n",
       "      <td>1.00</td>\n",
       "      <td>0.0</td>\n",
       "      <td>0.00</td>\n",
       "      <td>49.0</td>\n",
       "      <td>601.0</td>\n",
       "      <td>52.0</td>\n",
       "      <td>58.0</td>\n",
       "    </tr>\n",
       "    <tr>\n",
       "      <th>3</th>\n",
       "      <td>62.13</td>\n",
       "      <td>97.50</td>\n",
       "      <td>65.99</td>\n",
       "      <td>2.48</td>\n",
       "      <td>0.00</td>\n",
       "      <td>0.0</td>\n",
       "      <td>23.50</td>\n",
       "      <td>6.82</td>\n",
       "      <td>0.00</td>\n",
       "      <td>0.33</td>\n",
       "      <td>4.00</td>\n",
       "      <td>4.00</td>\n",
       "      <td>0.00</td>\n",
       "      <td>0.00</td>\n",
       "      <td>3.67</td>\n",
       "      <td>0.00</td>\n",
       "      <td>7.67</td>\n",
       "      <td>7.33</td>\n",
       "      <td>0.33</td>\n",
       "      <td>0.0</td>\n",
       "      <td>0.00</td>\n",
       "      <td>49.0</td>\n",
       "      <td>464.0</td>\n",
       "      <td>46.0</td>\n",
       "      <td>46.0</td>\n",
       "    </tr>\n",
       "    <tr>\n",
       "      <th>4</th>\n",
       "      <td>25.23</td>\n",
       "      <td>2.50</td>\n",
       "      <td>25.00</td>\n",
       "      <td>0.00</td>\n",
       "      <td>0.00</td>\n",
       "      <td>0.0</td>\n",
       "      <td>-2.50</td>\n",
       "      <td>-0.23</td>\n",
       "      <td>0.00</td>\n",
       "      <td>0.00</td>\n",
       "      <td>0.33</td>\n",
       "      <td>0.00</td>\n",
       "      <td>0.00</td>\n",
       "      <td>1.13</td>\n",
       "      <td>0.33</td>\n",
       "      <td>0.00</td>\n",
       "      <td>0.67</td>\n",
       "      <td>0.67</td>\n",
       "      <td>0.00</td>\n",
       "      <td>0.0</td>\n",
       "      <td>0.00</td>\n",
       "      <td>49.0</td>\n",
       "      <td>354.0</td>\n",
       "      <td>0.0</td>\n",
       "      <td>0.0</td>\n",
       "    </tr>\n",
       "  </tbody>\n",
       "</table>\n",
       "</div>"
      ],
      "text/plain": [
       "   REVENUE      MOU  RECCHRGE  DIRECTAS  OVERAGE  ROAM  CHANGEM  CHANGER  \\\n",
       "0    57.49   482.75     37.43      0.25    22.75   0.0   532.25    50.99   \n",
       "1    82.28  1312.25     75.00      1.24     0.00   0.0   156.75     8.14   \n",
       "2    31.66    25.50     29.99      0.25     0.00   0.0    59.50     4.03   \n",
       "3    62.13    97.50     65.99      2.48     0.00   0.0    23.50     6.82   \n",
       "4    25.23     2.50     25.00      0.00     0.00   0.0    -2.50    -0.23   \n",
       "\n",
       "   DROPVCE  BLCKVCE  UNANSVCE  CUSTCARE  THREEWAY  MOUREC  OUTCALLS  INCALLS  \\\n",
       "0     8.33     1.00     61.33      1.67      0.33   55.28     46.33     6.33   \n",
       "1    42.00     7.67     76.00      4.33      1.33  200.32    164.33    77.00   \n",
       "2     0.00     1.00      2.33      0.00      0.00    0.00      0.00     0.00   \n",
       "3     0.00     0.33      4.00      4.00      0.00    0.00      3.67     0.00   \n",
       "4     0.00     0.00      0.33      0.00      0.00    1.13      0.33     0.00   \n",
       "\n",
       "   PEAKVCE  OPEAKVCE  DROPBLK  CALLFWDV  CALLWAIT  MONTHS  EQPDAYS  AGE1  AGE2  \n",
       "0    83.67    157.00     9.33       0.0      5.67    49.0    240.0  30.0   0.0  \n",
       "1   500.00    303.67    59.67       0.0     22.67    49.0    458.0  30.0   0.0  \n",
       "2     1.67      1.67     1.00       0.0      0.00    49.0    601.0  52.0  58.0  \n",
       "3     7.67      7.33     0.33       0.0      0.00    49.0    464.0  46.0  46.0  \n",
       "4     0.67      0.67     0.00       0.0      0.00    49.0    354.0   0.0   0.0  "
      ]
     },
     "execution_count": 14,
     "metadata": {},
     "output_type": "execute_result"
    }
   ],
   "source": [
    "selected_columns = c2c[['REVENUE','MOU','RECCHRGE','DIRECTAS','OVERAGE','ROAM','CHANGEM','CHANGER','DROPVCE','BLCKVCE','UNANSVCE','CUSTCARE','THREEWAY','MOUREC','OUTCALLS','INCALLS','PEAKVCE','OPEAKVCE','DROPBLK','CALLFWDV','CALLWAIT','MONTHS','EQPDAYS','AGE1','AGE2']]\n",
    "new_df = selected_columns.copy()\n",
    "new_df.head(5)"
   ]
  },
  {
   "cell_type": "code",
   "execution_count": 44,
   "metadata": {},
   "outputs": [
    {
     "name": "stdout",
     "output_type": "stream",
     "text": [
      "           REVENUE       MOU  RECCHRGE  DIRECTAS   OVERAGE      ROAM  \\\n",
      "REVENUE   1.000000  0.722073  0.672910  0.447982  0.783680  0.274657   \n",
      "MOU       0.722073  1.000000  0.578498  0.405040  0.571886  0.148378   \n",
      "RECCHRGE  0.672910  0.578498  1.000000  0.324957  0.206664  0.135429   \n",
      "DIRECTAS  0.447982  0.405040  0.324957  1.000000  0.311722  0.135972   \n",
      "OVERAGE   0.783680  0.571886  0.206664  0.311722  1.000000  0.117174   \n",
      "ROAM      0.274657  0.148378  0.135429  0.135972  0.117174  1.000000   \n",
      "CHANGEM  -0.021534 -0.030300 -0.006253 -0.021585 -0.017980 -0.032329   \n",
      "CHANGER  -0.048308 -0.046105 -0.024323 -0.026116 -0.041718 -0.030556   \n",
      "DROPVCE   0.482535  0.630704  0.377768  0.286979  0.374301  0.122134   \n",
      "BLCKVCE   0.273575  0.372817  0.217478  0.167697  0.222613  0.060419   \n",
      "UNANSVCE  0.493895  0.679285  0.385470  0.321358  0.394903  0.090065   \n",
      "CUSTCARE  0.242416  0.453055  0.199494  0.128468  0.186577  0.025053   \n",
      "THREEWAY  0.253280  0.355959  0.186338  0.161069  0.214072  0.038565   \n",
      "MOUREC    0.627661  0.835660  0.483578  0.300443  0.521422  0.096340   \n",
      "OUTCALLS  0.529605  0.709261  0.418550  0.343739  0.425678  0.085037   \n",
      "INCALLS   0.402791  0.584502  0.325661  0.207707  0.326371  0.033092   \n",
      "PEAKVCE   0.675065  0.773655  0.548479  0.441430  0.518496  0.122453   \n",
      "OPEAKVCE  0.496840  0.784007  0.384862  0.290600  0.409556  0.063539   \n",
      "DROPBLK   0.476437  0.632019  0.373922  0.285728  0.377577  0.112495   \n",
      "CALLFWDV       NaN       NaN       NaN       NaN       NaN       NaN   \n",
      "CALLWAIT  0.513233  0.679417  0.390774  0.306567  0.430617  0.074477   \n",
      "MONTHS   -0.001525 -0.074876 -0.056691  0.012558 -0.008390 -0.021237   \n",
      "EQPDAYS  -0.237744 -0.319552 -0.257934 -0.139057 -0.142540 -0.054501   \n",
      "AGE1     -0.117762 -0.168773 -0.111953 -0.070902 -0.077184 -0.024258   \n",
      "AGE2     -0.111777 -0.147290 -0.104489 -0.068740 -0.073324 -0.018634   \n",
      "\n",
      "           CHANGEM   CHANGER   DROPVCE   BLCKVCE  UNANSVCE  CUSTCARE  \\\n",
      "REVENUE  -0.021534 -0.048308  0.482535  0.273575  0.493895  0.242416   \n",
      "MOU      -0.030300 -0.046105  0.630704  0.372817  0.679285  0.453055   \n",
      "RECCHRGE -0.006253 -0.024323  0.377768  0.217478  0.385470  0.199494   \n",
      "DIRECTAS -0.021585 -0.026116  0.286979  0.167697  0.321358  0.128468   \n",
      "OVERAGE  -0.017980 -0.041718  0.374301  0.222613  0.394903  0.186577   \n",
      "ROAM     -0.032329 -0.030556  0.122134  0.060419  0.090065  0.025053   \n",
      "CHANGEM   1.000000  0.608143 -0.079587 -0.043290 -0.065182 -0.040636   \n",
      "CHANGER   0.608143  1.000000 -0.060935 -0.036097 -0.060617 -0.055456   \n",
      "DROPVCE  -0.079587 -0.060935  1.000000  0.234348  0.596281  0.362345   \n",
      "BLCKVCE  -0.043290 -0.036097  0.234348  1.000000  0.333258  0.247198   \n",
      "UNANSVCE -0.065182 -0.060617  0.596281  0.333258  1.000000  0.470259   \n",
      "CUSTCARE -0.040636 -0.055456  0.362345  0.247198  0.470259  1.000000   \n",
      "THREEWAY -0.027688 -0.029165  0.344851  0.321721  0.361303  0.289656   \n",
      "MOUREC   -0.089849 -0.081023  0.571403  0.318907  0.602900  0.376539   \n",
      "OUTCALLS -0.055348 -0.051731  0.605436  0.297602  0.607656  0.348799   \n",
      "INCALLS  -0.046243 -0.040822  0.443314  0.255343  0.503789  0.285593   \n",
      "PEAKVCE  -0.088507 -0.084414  0.625563  0.362320  0.719348  0.356739   \n",
      "OPEAKVCE -0.063575 -0.053067  0.647276  0.380391  0.754136  0.489043   \n",
      "DROPBLK  -0.077506 -0.061182  0.782325  0.772185  0.582123  0.387313   \n",
      "CALLFWDV       NaN       NaN       NaN       NaN       NaN       NaN   \n",
      "CALLWAIT -0.086694 -0.075662  0.472264  0.367623  0.572583  0.311567   \n",
      "MONTHS    0.006902 -0.006057 -0.047716 -0.086773 -0.073178 -0.133461   \n",
      "EQPDAYS  -0.010538  0.008536 -0.235773 -0.160732 -0.263248 -0.211246   \n",
      "AGE1      0.015984  0.012769 -0.127307 -0.058039 -0.130116 -0.122366   \n",
      "AGE2      0.009331  0.006912 -0.115245 -0.037414 -0.111575 -0.101894   \n",
      "\n",
      "          THREEWAY    MOUREC  OUTCALLS   INCALLS   PEAKVCE  OPEAKVCE  \\\n",
      "REVENUE   0.253280  0.627661  0.529605  0.402791  0.675065  0.496840   \n",
      "MOU       0.355959  0.835660  0.709261  0.584502  0.773655  0.784007   \n",
      "RECCHRGE  0.186338  0.483578  0.418550  0.325661  0.548479  0.384862   \n",
      "DIRECTAS  0.161069  0.300443  0.343739  0.207707  0.441430  0.290600   \n",
      "OVERAGE   0.214072  0.521422  0.425678  0.326371  0.518496  0.409556   \n",
      "ROAM      0.038565  0.096340  0.085037  0.033092  0.122453  0.063539   \n",
      "CHANGEM  -0.027688 -0.089849 -0.055348 -0.046243 -0.088507 -0.063575   \n",
      "CHANGER  -0.029165 -0.081023 -0.051731 -0.040822 -0.084414 -0.053067   \n",
      "DROPVCE   0.344851  0.571403  0.605436  0.443314  0.625563  0.647276   \n",
      "BLCKVCE   0.321721  0.318907  0.297602  0.255343  0.362320  0.380391   \n",
      "UNANSVCE  0.361303  0.602900  0.607656  0.503789  0.719348  0.754136   \n",
      "CUSTCARE  0.289656  0.376539  0.348799  0.285593  0.356739  0.489043   \n",
      "THREEWAY  1.000000  0.314719  0.306050  0.238850  0.329600  0.395086   \n",
      "MOUREC    0.314719  1.000000  0.689669  0.655414  0.764365  0.767732   \n",
      "OUTCALLS  0.306050  0.689669  1.000000  0.750829  0.730503  0.769029   \n",
      "INCALLS   0.238850  0.655414  0.750829  1.000000  0.611417  0.668070   \n",
      "PEAKVCE   0.329600  0.764365  0.730503  0.611417  1.000000  0.712907   \n",
      "OPEAKVCE  0.395086  0.767732  0.769029  0.668070  0.712907  1.000000   \n",
      "DROPBLK   0.430766  0.559033  0.569052  0.438827  0.620958  0.650105   \n",
      "CALLFWDV       NaN       NaN       NaN       NaN       NaN       NaN   \n",
      "CALLWAIT  0.302176  0.711380  0.589778  0.558013  0.694125  0.700490   \n",
      "MONTHS   -0.082572 -0.029833 -0.033085 -0.028697  0.034157 -0.102685   \n",
      "EQPDAYS  -0.154531 -0.263264 -0.255356 -0.226846 -0.254860 -0.300930   \n",
      "AGE1     -0.059611 -0.150520 -0.144049 -0.119247 -0.116341 -0.150209   \n",
      "AGE2     -0.062787 -0.129827 -0.122614 -0.091430 -0.103082 -0.124345   \n",
      "\n",
      "           DROPBLK  CALLFWDV  CALLWAIT    MONTHS   EQPDAYS      AGE1      AGE2  \n",
      "REVENUE   0.476437       NaN  0.513233 -0.001525 -0.237744 -0.117762 -0.111777  \n",
      "MOU       0.632019       NaN  0.679417 -0.074876 -0.319552 -0.168773 -0.147290  \n",
      "RECCHRGE  0.373922       NaN  0.390774 -0.056691 -0.257934 -0.111953 -0.104489  \n",
      "DIRECTAS  0.285728       NaN  0.306567  0.012558 -0.139057 -0.070902 -0.068740  \n",
      "OVERAGE   0.377577       NaN  0.430617 -0.008390 -0.142540 -0.077184 -0.073324  \n",
      "ROAM      0.112495       NaN  0.074477 -0.021237 -0.054501 -0.024258 -0.018634  \n",
      "CHANGEM  -0.077506       NaN -0.086694  0.006902 -0.010538  0.015984  0.009331  \n",
      "CHANGER  -0.061182       NaN -0.075662 -0.006057  0.008536  0.012769  0.006912  \n",
      "DROPVCE   0.782325       NaN  0.472264 -0.047716 -0.235773 -0.127307 -0.115245  \n",
      "BLCKVCE   0.772185       NaN  0.367623 -0.086773 -0.160732 -0.058039 -0.037414  \n",
      "UNANSVCE  0.582123       NaN  0.572583 -0.073178 -0.263248 -0.130116 -0.111575  \n",
      "CUSTCARE  0.387313       NaN  0.311567 -0.133461 -0.211246 -0.122366 -0.101894  \n",
      "THREEWAY  0.430766       NaN  0.302176 -0.082572 -0.154531 -0.059611 -0.062787  \n",
      "MOUREC    0.559033       NaN  0.711380 -0.029833 -0.263264 -0.150520 -0.129827  \n",
      "OUTCALLS  0.569052       NaN  0.589778 -0.033085 -0.255356 -0.144049 -0.122614  \n",
      "INCALLS   0.438827       NaN  0.558013 -0.028697 -0.226846 -0.119247 -0.091430  \n",
      "PEAKVCE   0.620958       NaN  0.694125  0.034157 -0.254860 -0.116341 -0.103082  \n",
      "OPEAKVCE  0.650105       NaN  0.700490 -0.102685 -0.300930 -0.150209 -0.124345  \n",
      "DROPBLK   1.000000       NaN  0.526909 -0.085301 -0.249021 -0.117116 -0.097064  \n",
      "CALLFWDV       NaN       NaN       NaN       NaN       NaN       NaN       NaN  \n",
      "CALLWAIT  0.526909       NaN  1.000000 -0.016590 -0.211722 -0.087417 -0.066962  \n",
      "MONTHS   -0.085301       NaN -0.016590  1.000000  0.447875  0.126063  0.084628  \n",
      "EQPDAYS  -0.249021       NaN -0.211722  0.447875  1.000000  0.124426  0.102974  \n",
      "AGE1     -0.117116       NaN -0.087417  0.126063  0.124426  1.000000  0.677414  \n",
      "AGE2     -0.097064       NaN -0.066962  0.084628  0.102974  0.677414  1.000000  \n"
     ]
    }
   ],
   "source": [
    "matrix = new_df.corr()\n",
    "print(matrix)"
   ]
  },
  {
   "cell_type": "code",
   "execution_count": 32,
   "metadata": {},
   "outputs": [],
   "source": [
    "#From the above Correlation Matrix we can observe that there are few features which have high Multicollinearity. So we will remove those features and create a new dataframe called ncp.\n",
    "ncp=new_df[['PRIZMRUR','MARRYYES','OCCRET','OCCPROF','OVERAGE','CREDITAA','NEWCELLY','CREDITAD','CREDITDE','CREDITC','OCCSELF','TRAVEL','PCOWN','PRIZMTWN','CREDITB','BLCKVCE','CHANGEM','ROAM','REVENUE','MAILRES','MARRYNO','TRUCK','ACTVSUBS','WEBCAP','CREDITA','MONTHS','RETACCPT','RETCALLS','REFURB','PHONES','CREDITGY','CHILDREN','AGE1','INCOME','CREDITCD','OWNRENT','CALLFWDV','REFER','DIRECTAS','THREEWAY','CUSTCARE','DROPVCE','UNANSVCE','OUTCALLS','MOU','OPEAKVCE','CHURN'\n",
    "         ]].copy()"
   ]
  },
  {
   "cell_type": "code",
   "execution_count": 33,
   "metadata": {},
   "outputs": [
    {
     "data": {
      "text/html": [
       "<div>\n",
       "<style scoped>\n",
       "    .dataframe tbody tr th:only-of-type {\n",
       "        vertical-align: middle;\n",
       "    }\n",
       "\n",
       "    .dataframe tbody tr th {\n",
       "        vertical-align: top;\n",
       "    }\n",
       "\n",
       "    .dataframe thead th {\n",
       "        text-align: right;\n",
       "    }\n",
       "</style>\n",
       "<table border=\"1\" class=\"dataframe\">\n",
       "  <thead>\n",
       "    <tr style=\"text-align: right;\">\n",
       "      <th></th>\n",
       "      <th>PRIZMRUR</th>\n",
       "      <th>MARRYYES</th>\n",
       "      <th>OCCRET</th>\n",
       "      <th>OCCPROF</th>\n",
       "      <th>OVERAGE</th>\n",
       "      <th>CREDITAA</th>\n",
       "      <th>NEWCELLY</th>\n",
       "      <th>CREDITAD</th>\n",
       "      <th>CREDITDE</th>\n",
       "      <th>CREDITC</th>\n",
       "      <th>OCCSELF</th>\n",
       "      <th>TRAVEL</th>\n",
       "      <th>PCOWN</th>\n",
       "      <th>PRIZMTWN</th>\n",
       "      <th>CREDITB</th>\n",
       "      <th>BLCKVCE</th>\n",
       "      <th>CHANGEM</th>\n",
       "      <th>ROAM</th>\n",
       "      <th>REVENUE</th>\n",
       "      <th>MAILRES</th>\n",
       "      <th>MARRYNO</th>\n",
       "      <th>TRUCK</th>\n",
       "      <th>ACTVSUBS</th>\n",
       "      <th>WEBCAP</th>\n",
       "      <th>CREDITA</th>\n",
       "      <th>MONTHS</th>\n",
       "      <th>RETACCPT</th>\n",
       "      <th>RETCALLS</th>\n",
       "      <th>REFURB</th>\n",
       "      <th>PHONES</th>\n",
       "      <th>CREDITGY</th>\n",
       "      <th>CHILDREN</th>\n",
       "      <th>AGE1</th>\n",
       "      <th>INCOME</th>\n",
       "      <th>CREDITCD</th>\n",
       "      <th>OWNRENT</th>\n",
       "      <th>CALLFWDV</th>\n",
       "      <th>REFER</th>\n",
       "      <th>DIRECTAS</th>\n",
       "      <th>THREEWAY</th>\n",
       "      <th>CUSTCARE</th>\n",
       "      <th>DROPVCE</th>\n",
       "      <th>UNANSVCE</th>\n",
       "      <th>OUTCALLS</th>\n",
       "      <th>MOU</th>\n",
       "      <th>OPEAKVCE</th>\n",
       "      <th>CHURN</th>\n",
       "    </tr>\n",
       "  </thead>\n",
       "  <tbody>\n",
       "    <tr>\n",
       "      <th>0</th>\n",
       "      <td>0</td>\n",
       "      <td>0</td>\n",
       "      <td>0</td>\n",
       "      <td>0</td>\n",
       "      <td>22.75</td>\n",
       "      <td>0</td>\n",
       "      <td>0</td>\n",
       "      <td>1</td>\n",
       "      <td>1</td>\n",
       "      <td>0</td>\n",
       "      <td>0</td>\n",
       "      <td>0</td>\n",
       "      <td>0</td>\n",
       "      <td>0</td>\n",
       "      <td>0</td>\n",
       "      <td>1.00</td>\n",
       "      <td>532.25</td>\n",
       "      <td>0.0</td>\n",
       "      <td>57.49</td>\n",
       "      <td>1</td>\n",
       "      <td>1</td>\n",
       "      <td>1</td>\n",
       "      <td>1</td>\n",
       "      <td>1</td>\n",
       "      <td>0</td>\n",
       "      <td>49.0</td>\n",
       "      <td>0</td>\n",
       "      <td>0</td>\n",
       "      <td>0</td>\n",
       "      <td>7.0</td>\n",
       "      <td>0</td>\n",
       "      <td>0</td>\n",
       "      <td>30.0</td>\n",
       "      <td>5</td>\n",
       "      <td>1</td>\n",
       "      <td>1</td>\n",
       "      <td>0.0</td>\n",
       "      <td>0</td>\n",
       "      <td>0.25</td>\n",
       "      <td>0.33</td>\n",
       "      <td>1.67</td>\n",
       "      <td>8.33</td>\n",
       "      <td>61.33</td>\n",
       "      <td>46.33</td>\n",
       "      <td>482.75</td>\n",
       "      <td>157.00</td>\n",
       "      <td>0</td>\n",
       "    </tr>\n",
       "    <tr>\n",
       "      <th>1</th>\n",
       "      <td>0</td>\n",
       "      <td>0</td>\n",
       "      <td>0</td>\n",
       "      <td>0</td>\n",
       "      <td>0.00</td>\n",
       "      <td>0</td>\n",
       "      <td>1</td>\n",
       "      <td>0</td>\n",
       "      <td>0</td>\n",
       "      <td>1</td>\n",
       "      <td>0</td>\n",
       "      <td>0</td>\n",
       "      <td>0</td>\n",
       "      <td>0</td>\n",
       "      <td>0</td>\n",
       "      <td>7.67</td>\n",
       "      <td>156.75</td>\n",
       "      <td>0.0</td>\n",
       "      <td>82.28</td>\n",
       "      <td>1</td>\n",
       "      <td>1</td>\n",
       "      <td>0</td>\n",
       "      <td>2</td>\n",
       "      <td>1</td>\n",
       "      <td>0</td>\n",
       "      <td>49.0</td>\n",
       "      <td>0</td>\n",
       "      <td>0</td>\n",
       "      <td>0</td>\n",
       "      <td>9.0</td>\n",
       "      <td>0</td>\n",
       "      <td>0</td>\n",
       "      <td>30.0</td>\n",
       "      <td>6</td>\n",
       "      <td>1</td>\n",
       "      <td>0</td>\n",
       "      <td>0.0</td>\n",
       "      <td>0</td>\n",
       "      <td>1.24</td>\n",
       "      <td>1.33</td>\n",
       "      <td>4.33</td>\n",
       "      <td>42.00</td>\n",
       "      <td>76.00</td>\n",
       "      <td>164.33</td>\n",
       "      <td>1312.25</td>\n",
       "      <td>303.67</td>\n",
       "      <td>0</td>\n",
       "    </tr>\n",
       "    <tr>\n",
       "      <th>2</th>\n",
       "      <td>0</td>\n",
       "      <td>1</td>\n",
       "      <td>0</td>\n",
       "      <td>0</td>\n",
       "      <td>0.00</td>\n",
       "      <td>0</td>\n",
       "      <td>0</td>\n",
       "      <td>1</td>\n",
       "      <td>0</td>\n",
       "      <td>0</td>\n",
       "      <td>1</td>\n",
       "      <td>1</td>\n",
       "      <td>0</td>\n",
       "      <td>0</td>\n",
       "      <td>0</td>\n",
       "      <td>1.00</td>\n",
       "      <td>59.50</td>\n",
       "      <td>0.0</td>\n",
       "      <td>31.66</td>\n",
       "      <td>1</td>\n",
       "      <td>0</td>\n",
       "      <td>0</td>\n",
       "      <td>2</td>\n",
       "      <td>1</td>\n",
       "      <td>1</td>\n",
       "      <td>49.0</td>\n",
       "      <td>0</td>\n",
       "      <td>0</td>\n",
       "      <td>0</td>\n",
       "      <td>2.0</td>\n",
       "      <td>0</td>\n",
       "      <td>0</td>\n",
       "      <td>52.0</td>\n",
       "      <td>9</td>\n",
       "      <td>1</td>\n",
       "      <td>0</td>\n",
       "      <td>0.0</td>\n",
       "      <td>0</td>\n",
       "      <td>0.25</td>\n",
       "      <td>0.00</td>\n",
       "      <td>0.00</td>\n",
       "      <td>0.00</td>\n",
       "      <td>2.33</td>\n",
       "      <td>0.00</td>\n",
       "      <td>25.50</td>\n",
       "      <td>1.67</td>\n",
       "      <td>0</td>\n",
       "    </tr>\n",
       "    <tr>\n",
       "      <th>3</th>\n",
       "      <td>0</td>\n",
       "      <td>0</td>\n",
       "      <td>0</td>\n",
       "      <td>1</td>\n",
       "      <td>0.00</td>\n",
       "      <td>0</td>\n",
       "      <td>1</td>\n",
       "      <td>0</td>\n",
       "      <td>0</td>\n",
       "      <td>0</td>\n",
       "      <td>0</td>\n",
       "      <td>0</td>\n",
       "      <td>0</td>\n",
       "      <td>0</td>\n",
       "      <td>0</td>\n",
       "      <td>0.33</td>\n",
       "      <td>23.50</td>\n",
       "      <td>0.0</td>\n",
       "      <td>62.13</td>\n",
       "      <td>1</td>\n",
       "      <td>1</td>\n",
       "      <td>0</td>\n",
       "      <td>2</td>\n",
       "      <td>1</td>\n",
       "      <td>1</td>\n",
       "      <td>49.0</td>\n",
       "      <td>0</td>\n",
       "      <td>0</td>\n",
       "      <td>0</td>\n",
       "      <td>3.0</td>\n",
       "      <td>0</td>\n",
       "      <td>1</td>\n",
       "      <td>46.0</td>\n",
       "      <td>6</td>\n",
       "      <td>1</td>\n",
       "      <td>0</td>\n",
       "      <td>0.0</td>\n",
       "      <td>0</td>\n",
       "      <td>2.48</td>\n",
       "      <td>0.00</td>\n",
       "      <td>4.00</td>\n",
       "      <td>0.00</td>\n",
       "      <td>4.00</td>\n",
       "      <td>3.67</td>\n",
       "      <td>97.50</td>\n",
       "      <td>7.33</td>\n",
       "      <td>0</td>\n",
       "    </tr>\n",
       "    <tr>\n",
       "      <th>4</th>\n",
       "      <td>0</td>\n",
       "      <td>0</td>\n",
       "      <td>0</td>\n",
       "      <td>0</td>\n",
       "      <td>0.00</td>\n",
       "      <td>0</td>\n",
       "      <td>1</td>\n",
       "      <td>0</td>\n",
       "      <td>0</td>\n",
       "      <td>0</td>\n",
       "      <td>0</td>\n",
       "      <td>0</td>\n",
       "      <td>0</td>\n",
       "      <td>0</td>\n",
       "      <td>0</td>\n",
       "      <td>0.00</td>\n",
       "      <td>-2.50</td>\n",
       "      <td>0.0</td>\n",
       "      <td>25.23</td>\n",
       "      <td>0</td>\n",
       "      <td>0</td>\n",
       "      <td>1</td>\n",
       "      <td>2</td>\n",
       "      <td>1</td>\n",
       "      <td>1</td>\n",
       "      <td>49.0</td>\n",
       "      <td>0</td>\n",
       "      <td>0</td>\n",
       "      <td>0</td>\n",
       "      <td>2.0</td>\n",
       "      <td>0</td>\n",
       "      <td>0</td>\n",
       "      <td>0.0</td>\n",
       "      <td>7</td>\n",
       "      <td>0</td>\n",
       "      <td>1</td>\n",
       "      <td>0.0</td>\n",
       "      <td>0</td>\n",
       "      <td>0.00</td>\n",
       "      <td>0.00</td>\n",
       "      <td>0.00</td>\n",
       "      <td>0.00</td>\n",
       "      <td>0.33</td>\n",
       "      <td>0.33</td>\n",
       "      <td>2.50</td>\n",
       "      <td>0.67</td>\n",
       "      <td>0</td>\n",
       "    </tr>\n",
       "  </tbody>\n",
       "</table>\n",
       "</div>"
      ],
      "text/plain": [
       "   PRIZMRUR  MARRYYES  OCCRET  OCCPROF  OVERAGE  CREDITAA  NEWCELLY  CREDITAD  \\\n",
       "0         0         0       0        0    22.75         0         0         1   \n",
       "1         0         0       0        0     0.00         0         1         0   \n",
       "2         0         1       0        0     0.00         0         0         1   \n",
       "3         0         0       0        1     0.00         0         1         0   \n",
       "4         0         0       0        0     0.00         0         1         0   \n",
       "\n",
       "   CREDITDE  CREDITC  OCCSELF  TRAVEL  PCOWN  PRIZMTWN  CREDITB  BLCKVCE  \\\n",
       "0         1        0        0       0      0         0        0     1.00   \n",
       "1         0        1        0       0      0         0        0     7.67   \n",
       "2         0        0        1       1      0         0        0     1.00   \n",
       "3         0        0        0       0      0         0        0     0.33   \n",
       "4         0        0        0       0      0         0        0     0.00   \n",
       "\n",
       "   CHANGEM  ROAM  REVENUE  MAILRES  MARRYNO  TRUCK  ACTVSUBS  WEBCAP  CREDITA  \\\n",
       "0   532.25   0.0    57.49        1        1      1         1       1        0   \n",
       "1   156.75   0.0    82.28        1        1      0         2       1        0   \n",
       "2    59.50   0.0    31.66        1        0      0         2       1        1   \n",
       "3    23.50   0.0    62.13        1        1      0         2       1        1   \n",
       "4    -2.50   0.0    25.23        0        0      1         2       1        1   \n",
       "\n",
       "   MONTHS  RETACCPT  RETCALLS  REFURB  PHONES  CREDITGY  CHILDREN  AGE1  \\\n",
       "0    49.0         0         0       0     7.0         0         0  30.0   \n",
       "1    49.0         0         0       0     9.0         0         0  30.0   \n",
       "2    49.0         0         0       0     2.0         0         0  52.0   \n",
       "3    49.0         0         0       0     3.0         0         1  46.0   \n",
       "4    49.0         0         0       0     2.0         0         0   0.0   \n",
       "\n",
       "   INCOME  CREDITCD  OWNRENT  CALLFWDV  REFER  DIRECTAS  THREEWAY  CUSTCARE  \\\n",
       "0       5         1        1       0.0      0      0.25      0.33      1.67   \n",
       "1       6         1        0       0.0      0      1.24      1.33      4.33   \n",
       "2       9         1        0       0.0      0      0.25      0.00      0.00   \n",
       "3       6         1        0       0.0      0      2.48      0.00      4.00   \n",
       "4       7         0        1       0.0      0      0.00      0.00      0.00   \n",
       "\n",
       "   DROPVCE  UNANSVCE  OUTCALLS      MOU  OPEAKVCE  CHURN  \n",
       "0     8.33     61.33     46.33   482.75    157.00      0  \n",
       "1    42.00     76.00    164.33  1312.25    303.67      0  \n",
       "2     0.00      2.33      0.00    25.50      1.67      0  \n",
       "3     0.00      4.00      3.67    97.50      7.33      0  \n",
       "4     0.00      0.33      0.33     2.50      0.67      0  "
      ]
     },
     "execution_count": 33,
     "metadata": {},
     "output_type": "execute_result"
    }
   ],
   "source": [
    "ncp.head()"
   ]
  },
  {
   "cell_type": "code",
   "execution_count": 34,
   "metadata": {},
   "outputs": [
    {
     "name": "stdout",
     "output_type": "stream",
     "text": [
      "<class 'pandas.core.frame.DataFrame'>\n",
      "RangeIndex: 71047 entries, 0 to 71046\n",
      "Data columns (total 47 columns):\n",
      " #   Column    Non-Null Count  Dtype  \n",
      "---  ------    --------------  -----  \n",
      " 0   PRIZMRUR  71047 non-null  int64  \n",
      " 1   MARRYYES  71047 non-null  int64  \n",
      " 2   OCCRET    71047 non-null  int64  \n",
      " 3   OCCPROF   71047 non-null  int64  \n",
      " 4   OVERAGE   71047 non-null  float64\n",
      " 5   CREDITAA  71047 non-null  int64  \n",
      " 6   NEWCELLY  71047 non-null  int64  \n",
      " 7   CREDITAD  71047 non-null  int64  \n",
      " 8   CREDITDE  71047 non-null  int64  \n",
      " 9   CREDITC   71047 non-null  int64  \n",
      " 10  OCCSELF   71047 non-null  int64  \n",
      " 11  TRAVEL    71047 non-null  int64  \n",
      " 12  PCOWN     71047 non-null  int64  \n",
      " 13  PRIZMTWN  71047 non-null  int64  \n",
      " 14  CREDITB   71047 non-null  int64  \n",
      " 15  BLCKVCE   71047 non-null  float64\n",
      " 16  CHANGEM   71047 non-null  float64\n",
      " 17  ROAM      71047 non-null  float64\n",
      " 18  REVENUE   71047 non-null  float64\n",
      " 19  MAILRES   71047 non-null  int64  \n",
      " 20  MARRYNO   71047 non-null  int64  \n",
      " 21  TRUCK     71047 non-null  int64  \n",
      " 22  ACTVSUBS  71047 non-null  int64  \n",
      " 23  WEBCAP    71047 non-null  int64  \n",
      " 24  CREDITA   71047 non-null  int64  \n",
      " 25  MONTHS    71047 non-null  float64\n",
      " 26  RETACCPT  71047 non-null  int64  \n",
      " 27  RETCALLS  71047 non-null  int64  \n",
      " 28  REFURB    71047 non-null  int64  \n",
      " 29  PHONES    71047 non-null  float64\n",
      " 30  CREDITGY  71047 non-null  int64  \n",
      " 31  CHILDREN  71047 non-null  int64  \n",
      " 32  AGE1      71047 non-null  float64\n",
      " 33  INCOME    71047 non-null  int64  \n",
      " 34  CREDITCD  71047 non-null  int64  \n",
      " 35  OWNRENT   71047 non-null  int64  \n",
      " 36  CALLFWDV  71047 non-null  float64\n",
      " 37  REFER     71047 non-null  int64  \n",
      " 38  DIRECTAS  71047 non-null  float64\n",
      " 39  THREEWAY  71047 non-null  float64\n",
      " 40  CUSTCARE  71047 non-null  float64\n",
      " 41  DROPVCE   71047 non-null  float64\n",
      " 42  UNANSVCE  71047 non-null  float64\n",
      " 43  OUTCALLS  71047 non-null  float64\n",
      " 44  MOU       71047 non-null  float64\n",
      " 45  OPEAKVCE  71047 non-null  float64\n",
      " 46  CHURN     71047 non-null  int64  \n",
      "dtypes: float64(17), int64(30)\n",
      "memory usage: 25.5 MB\n"
     ]
    }
   ],
   "source": [
    "ncp.info()"
   ]
  },
  {
   "cell_type": "markdown",
   "metadata": {},
   "source": [
    "**Logistic Regression**"
   ]
  },
  {
   "cell_type": "code",
   "execution_count": 35,
   "metadata": {},
   "outputs": [],
   "source": [
    "X = ncp.drop(\"CHURN\",axis=1)\n",
    "y = ncp[\"CHURN\"]"
   ]
  },
  {
   "cell_type": "code",
   "execution_count": 38,
   "metadata": {},
   "outputs": [],
   "source": [
    "X_train, X_test, y_train, y_test = train_test_split(X, y, train_size=0.5, random_state=42)"
   ]
  },
  {
   "cell_type": "code",
   "execution_count": 40,
   "metadata": {},
   "outputs": [
    {
     "name": "stderr",
     "output_type": "stream",
     "text": [
      "C:\\Users\\LENOVO\\anaconda3\\lib\\site-packages\\sklearn\\linear_model\\_logistic.py:763: ConvergenceWarning: lbfgs failed to converge (status=1):\n",
      "STOP: TOTAL NO. of ITERATIONS REACHED LIMIT.\n",
      "\n",
      "Increase the number of iterations (max_iter) or scale the data as shown in:\n",
      "    https://scikit-learn.org/stable/modules/preprocessing.html\n",
      "Please also refer to the documentation for alternative solver options:\n",
      "    https://scikit-learn.org/stable/modules/linear_model.html#logistic-regression\n",
      "  n_iter_i = _check_optimize_result(\n"
     ]
    },
    {
     "data": {
      "text/plain": [
       "LogisticRegression()"
      ]
     },
     "execution_count": 40,
     "metadata": {},
     "output_type": "execute_result"
    }
   ],
   "source": [
    "logmodel = LogisticRegression()\n",
    "logmodel.fit(X_train,y_train)"
   ]
  },
  {
   "cell_type": "code",
   "execution_count": 41,
   "metadata": {},
   "outputs": [],
   "source": [
    "predictions = logmodel.predict(X_test)"
   ]
  },
  {
   "cell_type": "code",
   "execution_count": 43,
   "metadata": {},
   "outputs": [
    {
     "name": "stdout",
     "output_type": "stream",
     "text": [
      "              precision    recall  f1-score   support\n",
      "\n",
      "           0       0.71      1.00      0.83     25272\n",
      "           1       0.32      0.00      0.01     10252\n",
      "\n",
      "    accuracy                           0.71     35524\n",
      "   macro avg       0.51      0.50      0.42     35524\n",
      "weighted avg       0.60      0.71      0.59     35524\n",
      "\n"
     ]
    }
   ],
   "source": [
    "print(classification_report(y_test,predictions))"
   ]
  },
  {
   "cell_type": "code",
   "execution_count": null,
   "metadata": {},
   "outputs": [],
   "source": []
  }
 ],
 "metadata": {
  "kernelspec": {
   "display_name": "Python 3",
   "language": "python",
   "name": "python3"
  },
  "language_info": {
   "codemirror_mode": {
    "name": "ipython",
    "version": 3
   },
   "file_extension": ".py",
   "mimetype": "text/x-python",
   "name": "python",
   "nbconvert_exporter": "python",
   "pygments_lexer": "ipython3",
   "version": "3.8.3"
  }
 },
 "nbformat": 4,
 "nbformat_minor": 4
}
