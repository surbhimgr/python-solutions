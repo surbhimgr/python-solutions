{
 "cells": [
  {
   "cell_type": "code",
   "execution_count": 1,
   "metadata": {},
   "outputs": [
    {
     "name": "stdout",
     "output_type": "stream",
     "text": [
      "2002\n",
      "2009\n",
      "2016\n",
      "2023\n",
      "2037\n",
      "2044\n",
      "2051\n",
      "2058\n",
      "2072\n",
      "2079\n",
      "2086\n",
      "2093\n",
      "2107\n",
      "2114\n",
      "2121\n",
      "2128\n",
      "2142\n",
      "2149\n",
      "2156\n",
      "2163\n",
      "2177\n",
      "2184\n",
      "2191\n",
      "2198\n",
      "2212\n",
      "2219\n",
      "2226\n",
      "2233\n",
      "2247\n",
      "2254\n",
      "2261\n",
      "2268\n",
      "2282\n",
      "2289\n",
      "2296\n",
      "2303\n",
      "2317\n",
      "2324\n",
      "2331\n",
      "2338\n",
      "2352\n",
      "2359\n",
      "2366\n",
      "2373\n",
      "2387\n",
      "2394\n",
      "2401\n",
      "2408\n",
      "2422\n",
      "2429\n",
      "2436\n",
      "2443\n",
      "2457\n",
      "2464\n",
      "2471\n",
      "2478\n",
      "2492\n",
      "2499\n",
      "2506\n",
      "2513\n",
      "2527\n",
      "2534\n",
      "2541\n",
      "2548\n",
      "2562\n",
      "2569\n",
      "2576\n",
      "2583\n",
      "2597\n",
      "2604\n",
      "2611\n",
      "2618\n",
      "2632\n",
      "2639\n",
      "2646\n",
      "2653\n",
      "2667\n",
      "2674\n",
      "2681\n",
      "2688\n",
      "2702\n",
      "2709\n",
      "2716\n",
      "2723\n",
      "2737\n",
      "2744\n",
      "2751\n",
      "2758\n",
      "2772\n",
      "2779\n",
      "2786\n",
      "2793\n",
      "2807\n",
      "2814\n",
      "2821\n",
      "2828\n",
      "2842\n",
      "2849\n",
      "2856\n",
      "2863\n",
      "2877\n",
      "2884\n",
      "2891\n",
      "2898\n",
      "2912\n",
      "2919\n",
      "2926\n",
      "2933\n",
      "2947\n",
      "2954\n",
      "2961\n",
      "2968\n",
      "2982\n",
      "2989\n",
      "2996\n",
      "3003\n",
      "3017\n",
      "3024\n",
      "3031\n",
      "3038\n",
      "3052\n",
      "3059\n",
      "3066\n",
      "3073\n",
      "3087\n",
      "3094\n",
      "3101\n",
      "3108\n",
      "3122\n",
      "3129\n",
      "3136\n",
      "3143\n",
      "3157\n",
      "3164\n",
      "3171\n",
      "3178\n",
      "3192\n",
      "3199\n"
     ]
    }
   ],
   "source": [
    "for i in range(2000,3200):\n",
    "    if i%7==0 and i%10!=0 and i%10!=5:\n",
    "        print(i)"
   ]
  },
  {
   "cell_type": "code",
   "execution_count": 2,
   "metadata": {},
   "outputs": [
    {
     "name": "stdout",
     "output_type": "stream",
     "text": [
      "8\n",
      "40320\n"
     ]
    }
   ],
   "source": [
    "def fact(n):\n",
    "    if n==0:\n",
    "        return 1\n",
    "    else:\n",
    "        return n*fact(n-1)\n",
    "n=int(input())\n",
    "print(fact(n))"
   ]
  },
  {
   "cell_type": "code",
   "execution_count": 3,
   "metadata": {},
   "outputs": [
    {
     "name": "stdout",
     "output_type": "stream",
     "text": [
      "8\n",
      "{1: 1, 2: 4, 3: 9, 4: 16, 5: 25, 6: 36, 7: 49, 8: 64}\n"
     ]
    }
   ],
   "source": [
    "n=int(input())\n",
    "d={}\n",
    "for i in range(1,n+1):\n",
    "    d[i]=i*i\n",
    "print(d)"
   ]
  },
  {
   "cell_type": "code",
   "execution_count": 5,
   "metadata": {},
   "outputs": [
    {
     "name": "stdout",
     "output_type": "stream",
     "text": [
      "1,2,3,4\n",
      "[1, 2, 3, 4]\n",
      "(1, 2, 3, 4)\n"
     ]
    }
   ],
   "source": [
    "l=list(map(int,input().split(\",\")))\n",
    "t=tuple(l)\n",
    "print(l)\n",
    "print(t)"
   ]
  },
  {
   "cell_type": "code",
   "execution_count": 1,
   "metadata": {},
   "outputs": [],
   "source": [
    "class Myclass:\n",
    "    def __init__(self,word):\n",
    "        self.word=word\n",
    "        \n",
    "    def getString():\n",
    "        word1=input(\"Enter a string\")\n",
    "    \n",
    "    def printString(word2):\n",
    "        print(word2)"
   ]
  },
  {
   "cell_type": "code",
   "execution_count": 4,
   "metadata": {},
   "outputs": [
    {
     "name": "stdout",
     "output_type": "stream",
     "text": [
      "100,150,180\n",
      "18,22,24\n"
     ]
    }
   ],
   "source": [
    "import math\n",
    "C=50\n",
    "H=30\n",
    "l=list(map(int,input().split(\",\")))\n",
    "q=[]\n",
    "for D in l:\n",
    "    a=math.sqrt((2*C*D)/H)\n",
    "    q.append(int(a))\n",
    "print(','.join(map(str,q)))"
   ]
  },
  {
   "cell_type": "code",
   "execution_count": 7,
   "metadata": {},
   "outputs": [
    {
     "name": "stdout",
     "output_type": "stream",
     "text": [
      "3\n",
      "5\n",
      "[[0, 0, 0, 0, 0], [0, 1, 2, 3, 4], [0, 2, 4, 6, 8]]\n"
     ]
    }
   ],
   "source": [
    "x=int(input())\n",
    "y=int(input())\n",
    "arr=[]\n",
    "for i in range(0,x):\n",
    "    row=[]\n",
    "    for j in range(0,y):\n",
    "        row.append(i*j)\n",
    "    arr.append(row)\n",
    "print(arr)"
   ]
  },
  {
   "cell_type": "code",
   "execution_count": 9,
   "metadata": {},
   "outputs": [
    {
     "name": "stdout",
     "output_type": "stream",
     "text": [
      "without,hello,bag,world\n",
      "bag,hello,without,world\n"
     ]
    }
   ],
   "source": [
    "words=list(input().split(\",\"))\n",
    "words.sort()\n",
    "print(','.join(words))"
   ]
  },
  {
   "cell_type": "code",
   "execution_count": 11,
   "metadata": {},
   "outputs": [
    {
     "name": "stdout",
     "output_type": "stream",
     "text": [
      "surbhi suman\n",
      "SURBHI SUMAN\n"
     ]
    }
   ],
   "source": [
    "word=input()\n",
    "print(word.upper())"
   ]
  },
  {
   "cell_type": "code",
   "execution_count": 24,
   "metadata": {},
   "outputs": [
    {
     "name": "stdout",
     "output_type": "stream",
     "text": [
      "hello world and practice makes perfect and hello world again\n",
      "ans-->\n",
      "again and hello makes perfect practice world\n"
     ]
    }
   ],
   "source": [
    "l=list(input().split(\" \"))\n",
    "s=set(l)\n",
    "l=list(s)\n",
    "l.sort()\n",
    "print(' '.join(l))"
   ]
  },
  {
   "cell_type": "code",
   "execution_count": 25,
   "metadata": {},
   "outputs": [
    {
     "name": "stdout",
     "output_type": "stream",
     "text": [
      "0100,0011,1010,1001\n",
      "1010\n"
     ]
    }
   ],
   "source": [
    "b=list(input().split(\",\"))\n",
    "for n in b:\n",
    "    d=int(n,2)\n",
    "    if d%5==0:\n",
    "        print(n)\n"
   ]
  },
  {
   "cell_type": "code",
   "execution_count": null,
   "metadata": {},
   "outputs": [],
   "source": [
    "for i in range(1000,3001):\n",
    "    n=i\n",
    "    for j in range(4):\n",
    "        if (j%10)%2==0:\n",
    "            j=int(j/10)\n",
    "            "
   ]
  },
  {
   "cell_type": "code",
   "execution_count": 32,
   "metadata": {},
   "outputs": [
    {
     "name": "stdout",
     "output_type": "stream",
     "text": [
      "hello world! 123\n",
      "LETTERS  10\n",
      "DIGITS  3\n"
     ]
    }
   ],
   "source": [
    "s=input()\n",
    "l=0\n",
    "d=0\n",
    "for c in s:\n",
    "    if ord(c)>=48 and ord(c)<=57:\n",
    "        d+=1\n",
    "    elif ord(c)>=65 and ord(c)<=90:\n",
    "        l+=1\n",
    "    elif ord(c)>=97 and ord(c)<=122:\n",
    "        l+=1\n",
    "print(\"LETTERS \",l)\n",
    "print(\"DIGITS \",d)"
   ]
  },
  {
   "cell_type": "code",
   "execution_count": 33,
   "metadata": {},
   "outputs": [
    {
     "name": "stdout",
     "output_type": "stream",
     "text": [
      "Hello world!\n",
      "UPPER CASE  1\n",
      "LOWER CASE  9\n"
     ]
    }
   ],
   "source": [
    "s=input()\n",
    "u=0\n",
    "l=0\n",
    "for c in s:\n",
    "    if ord(c)>=65 and ord(c)<=90:\n",
    "        u+=1\n",
    "    elif ord(c)>=97 and ord(c)<=122:\n",
    "        l+=1\n",
    "print(\"UPPER CASE \",u)\n",
    "print(\"LOWER CASE \",l)"
   ]
  },
  {
   "cell_type": "code",
   "execution_count": 35,
   "metadata": {},
   "outputs": [
    {
     "name": "stdout",
     "output_type": "stream",
     "text": [
      "15 not done\n"
     ]
    }
   ],
   "source": [
    "print(\"15 not done\")"
   ]
  },
  {
   "cell_type": "code",
   "execution_count": 38,
   "metadata": {},
   "outputs": [
    {
     "name": "stdout",
     "output_type": "stream",
     "text": [
      "1,2,3,4,5,6\n",
      "1,3,5\n"
     ]
    }
   ],
   "source": [
    "l=list(map(int,input().split(\",\")))\n",
    "for i in l:\n",
    "    if i%2==0:\n",
    "        l.remove(i)\n",
    "print(\",\".join(map(str,l)))"
   ]
  },
  {
   "cell_type": "code",
   "execution_count": null,
   "metadata": {},
   "outputs": [],
   "source": [
    "t=0\n",
    "action,amount=input().split(\" \")\n",
    "if action==\"W\":\n",
    "    t=t-int(amount)\n",
    "else:\n",
    "    t=t+int(amount)"
   ]
  },
  {
   "cell_type": "code",
   "execution_count": null,
   "metadata": {},
   "outputs": [],
   "source": [
    "import re\n",
    "passwords=list(input().split(\",\"))\n",
    "reg=\"^(?=.*[a-z])(?=.*[A-Z])(?=.*\\d)(?=.*[@$#])[A-Za-z\\d@$#]{6,20}$\"\n",
    "pat=re.complie(reg)\n",
    "for password in passwords:\n",
    "    if len(password)<6 or len(password)>12:\n",
    "        passwords.remove(password)\n",
    "    else:\n",
    "        mat=re.search(pat,password)\n",
    "        if not mat:\n",
    "            passwords.remove(password)\n",
    "print(\",\".join(passwords))\n",
    "        "
   ]
  },
  {
   "cell_type": "code",
   "execution_count": 45,
   "metadata": {},
   "outputs": [
    {
     "name": "stdout",
     "output_type": "stream",
     "text": [
      "[('John', '20', '90'), ('Jony', '17', '91'), ('Jony', '17', '93'), ('Json', '21', '85'), ('Tom', '19', '80')]\n"
     ]
    }
   ],
   "source": [
    "import operator\n",
    "team=[('Tom', '19', '80'),('John', '20', '90'), ('Jony', '17', '91'), ('Jony', '17', '93'), ('Json', '21', '85')]\n",
    "team.sort(key=operator.itemgetter(0,1,2))\n",
    "print(team)"
   ]
  },
  {
   "cell_type": "code",
   "execution_count": null,
   "metadata": {},
   "outputs": [],
   "source": [
    "class MyClass(self):\n",
    "    def generator(n):\n",
    "        for i in range(n):\n",
    "            if i%7==0:\n",
    "                print(i)"
   ]
  },
  {
   "cell_type": "code",
   "execution_count": null,
   "metadata": {},
   "outputs": [],
   "source": [
    "x=0\n",
    "y=0\n",
    "direction,distance=input().split()\n",
    "if direction==\"UP\":\n",
    "    y+=distance\n",
    "elif direction==\"DOWN\":\n",
    "    y-=distance\n",
    "elif direction==\"RIGHT\":\n",
    "    x+=distance\n",
    "else:\n",
    "    x-=distance\n",
    "ans=math.sqrt((x*x)-(y*y))"
   ]
  },
  {
   "cell_type": "code",
   "execution_count": 50,
   "metadata": {},
   "outputs": [
    {
     "name": "stdout",
     "output_type": "stream",
     "text": [
      "New to Python or choosing between Python 2 and Python 3? Read Python 2 or Python 3.\n",
      "2 2\n",
      "3. 1\n",
      "3? 1\n",
      "New 1\n",
      "Python 5\n",
      "Read 1\n",
      "and 1\n",
      "between 1\n",
      "choosing 1\n",
      "or 2\n",
      "to 1\n"
     ]
    }
   ],
   "source": [
    "import collections\n",
    "l=list(input().split())\n",
    "d={}\n",
    "for i in l:\n",
    "    if i in d.keys():\n",
    "        d[i]+=1\n",
    "    else:\n",
    "        d[i]=1\n",
    "od = collections.OrderedDict(sorted(d.items()))\n",
    "for k, v in od.items(): \n",
    "    print(k, v)"
   ]
  },
  {
   "cell_type": "code",
   "execution_count": 51,
   "metadata": {},
   "outputs": [
    {
     "name": "stdout",
     "output_type": "stream",
     "text": [
      "25\n"
     ]
    }
   ],
   "source": [
    "def square(n):\n",
    "    print(n**2)\n",
    "square(5)"
   ]
  },
  {
   "cell_type": "code",
   "execution_count": 52,
   "metadata": {},
   "outputs": [
    {
     "data": {
      "text/plain": [
       "24"
      ]
     },
     "execution_count": 52,
     "metadata": {},
     "output_type": "execute_result"
    }
   ],
   "source": [
    "24"
   ]
  },
  {
   "cell_type": "code",
   "execution_count": 53,
   "metadata": {},
   "outputs": [
    {
     "data": {
      "text/plain": [
       "25"
      ]
     },
     "execution_count": 53,
     "metadata": {},
     "output_type": "execute_result"
    }
   ],
   "source": [
    "25"
   ]
  },
  {
   "cell_type": "code",
   "execution_count": 54,
   "metadata": {},
   "outputs": [],
   "source": [
    "def sumFunc(a,b):\n",
    "    return a+b"
   ]
  },
  {
   "cell_type": "code",
   "execution_count": 55,
   "metadata": {},
   "outputs": [],
   "source": [
    "def intToString(n):\n",
    "    print(str(n))"
   ]
  },
  {
   "cell_type": "code",
   "execution_count": 56,
   "metadata": {},
   "outputs": [
    {
     "name": "stdout",
     "output_type": "stream",
     "text": [
      "7\n"
     ]
    }
   ],
   "source": [
    "def strsum(a,b):\n",
    "    print(int(a)+int(b))\n",
    "strsum(\"3\",\"4\")"
   ]
  },
  {
   "cell_type": "code",
   "execution_count": 57,
   "metadata": {},
   "outputs": [],
   "source": [
    "def concString(s1,s2):\n",
    "    print(s1+s2)"
   ]
  },
  {
   "cell_type": "code",
   "execution_count": 58,
   "metadata": {},
   "outputs": [],
   "source": [
    "def maxLenStr(s1,s2):\n",
    "    if len(s1)>len(s2):\n",
    "        print(s1)\n",
    "    elif len(s1)<len(s2):\n",
    "        print(s2)\n",
    "    else:\n",
    "        print(s1)\n",
    "        print(s2)"
   ]
  },
  {
   "cell_type": "code",
   "execution_count": 59,
   "metadata": {},
   "outputs": [],
   "source": [
    "def evenOdd(n):\n",
    "    if n%2==0:\n",
    "        print(\"It is even number\")\n",
    "    else:\n",
    "        print(\"It is odd number\")"
   ]
  },
  {
   "cell_type": "code",
   "execution_count": 60,
   "metadata": {},
   "outputs": [
    {
     "name": "stdout",
     "output_type": "stream",
     "text": [
      "{1: 1, 2: 4, 3: 9}\n"
     ]
    }
   ],
   "source": [
    "d={}\n",
    "for i in range(1,4):\n",
    "    d[i]=i*i\n",
    "print(d)"
   ]
  },
  {
   "cell_type": "code",
   "execution_count": 61,
   "metadata": {},
   "outputs": [
    {
     "name": "stdout",
     "output_type": "stream",
     "text": [
      "{1: 1, 2: 4, 3: 9, 4: 16, 5: 25, 6: 36, 7: 49, 8: 64, 9: 81, 10: 100, 11: 121, 12: 144, 13: 169, 14: 196, 15: 225, 16: 256, 17: 289, 18: 324, 19: 361, 20: 400}\n"
     ]
    }
   ],
   "source": [
    "d={}\n",
    "for i in range(1,21):\n",
    "    d[i]=i**2\n",
    "print(d)"
   ]
  },
  {
   "cell_type": "code",
   "execution_count": 62,
   "metadata": {},
   "outputs": [
    {
     "name": "stdout",
     "output_type": "stream",
     "text": [
      "1\n",
      "4\n",
      "9\n",
      "16\n",
      "25\n",
      "36\n",
      "49\n",
      "64\n",
      "81\n",
      "100\n",
      "121\n",
      "144\n",
      "169\n",
      "196\n",
      "225\n",
      "256\n",
      "289\n",
      "324\n",
      "361\n",
      "400\n"
     ]
    }
   ],
   "source": [
    "d={}\n",
    "for i in range(1,21):\n",
    "    d[i]=i**2\n",
    "for v in d.values():\n",
    "    print(v)"
   ]
  },
  {
   "cell_type": "code",
   "execution_count": 63,
   "metadata": {},
   "outputs": [
    {
     "name": "stdout",
     "output_type": "stream",
     "text": [
      "1\n",
      "2\n",
      "3\n",
      "4\n",
      "5\n",
      "6\n",
      "7\n",
      "8\n",
      "9\n",
      "10\n",
      "11\n",
      "12\n",
      "13\n",
      "14\n",
      "15\n",
      "16\n",
      "17\n",
      "18\n",
      "19\n",
      "20\n"
     ]
    }
   ],
   "source": [
    "d={}\n",
    "for i in range(1,21):\n",
    "    d[i]=i**2\n",
    "for k in d.keys():\n",
    "    print(k)"
   ]
  },
  {
   "cell_type": "code",
   "execution_count": 65,
   "metadata": {},
   "outputs": [
    {
     "name": "stdout",
     "output_type": "stream",
     "text": [
      "[1, 4, 9, 16, 25, 36, 49, 64, 81, 100, 121, 144, 169, 196, 225, 256, 289, 324, 361, 400]\n"
     ]
    }
   ],
   "source": [
    "def myfunc():\n",
    "    l=[]\n",
    "    for i in range(1,21):\n",
    "        l.append(i**2)\n",
    "    print(l)\n",
    "myfunc()"
   ]
  },
  {
   "cell_type": "code",
   "execution_count": 71,
   "metadata": {},
   "outputs": [
    {
     "name": "stdout",
     "output_type": "stream",
     "text": [
      "[1, 4, 9, 16, 25]\n"
     ]
    }
   ],
   "source": [
    "def myfunc():\n",
    "    l=[]\n",
    "    for i in range(1,21):\n",
    "        l.append(i**2)\n",
    "    print(l[:5])\n",
    "myfunc()"
   ]
  },
  {
   "cell_type": "code",
   "execution_count": 72,
   "metadata": {},
   "outputs": [
    {
     "name": "stdout",
     "output_type": "stream",
     "text": [
      "[256, 289, 324, 361, 400]\n"
     ]
    }
   ],
   "source": [
    "def myfunc():\n",
    "    l=[]\n",
    "    for i in range(1,21):\n",
    "        l.append(i**2)\n",
    "    print(l[-5:])\n",
    "myfunc()"
   ]
  },
  {
   "cell_type": "code",
   "execution_count": 73,
   "metadata": {},
   "outputs": [
    {
     "name": "stdout",
     "output_type": "stream",
     "text": [
      "[36, 49, 64, 81, 100, 121, 144, 169, 196, 225, 256, 289, 324, 361, 400]\n"
     ]
    }
   ],
   "source": [
    "def myfunc():\n",
    "    l=[]\n",
    "    for i in range(1,21):\n",
    "        l.append(i**2)\n",
    "    print(l[5:])\n",
    "myfunc()"
   ]
  },
  {
   "cell_type": "code",
   "execution_count": 74,
   "metadata": {},
   "outputs": [
    {
     "name": "stdout",
     "output_type": "stream",
     "text": [
      "(1, 4, 9, 16, 25, 36, 49, 64, 81, 100, 121, 144, 169, 196, 225, 256, 289, 324, 361, 400)\n"
     ]
    }
   ],
   "source": [
    "def myfunc():\n",
    "    l=[]\n",
    "    for i in range(1,21):\n",
    "        l.append(i**2)\n",
    "    t=tuple(l)\n",
    "    print(t)\n",
    "myfunc()"
   ]
  },
  {
   "cell_type": "code",
   "execution_count": 75,
   "metadata": {},
   "outputs": [
    {
     "name": "stdout",
     "output_type": "stream",
     "text": [
      "(1, 2, 3, 4, 5)\n",
      "(6, 7, 8, 9, 10)\n"
     ]
    }
   ],
   "source": [
    "t=(1,2,3,4,5,6,7,8,9,10)\n",
    "print(t[:5])\n",
    "print(t[5:])"
   ]
  },
  {
   "cell_type": "code",
   "execution_count": 76,
   "metadata": {},
   "outputs": [
    {
     "name": "stdout",
     "output_type": "stream",
     "text": [
      "(2, 4, 6, 8, 10)\n"
     ]
    }
   ],
   "source": [
    "t=(1,2,3,4,5,6,7,8,9,10)\n",
    "l=[]\n",
    "for i in t:\n",
    "    if i%2==0:\n",
    "        l.append(i)\n",
    "ans=tuple(l)\n",
    "print(ans)"
   ]
  },
  {
   "cell_type": "code",
   "execution_count": 77,
   "metadata": {},
   "outputs": [
    {
     "name": "stdout",
     "output_type": "stream",
     "text": [
      "YES\n",
      "Yes\n"
     ]
    }
   ],
   "source": [
    "str1=input()\n",
    "if str1==\"YES\" or str1==\"yes\" or str1==\"Yes\":\n",
    "    print(\"Yes\")\n",
    "else:\n",
    "    print(\"No\")"
   ]
  },
  {
   "cell_type": "code",
   "execution_count": 79,
   "metadata": {},
   "outputs": [
    {
     "name": "stdout",
     "output_type": "stream",
     "text": [
      "[2, 4, 6, 8, 10]\n"
     ]
    }
   ],
   "source": [
    "l=[1,2,3,4,5,6,7,8,9,10]\n",
    "result=filter(lambda x:x%2==0,l)\n",
    "print(list(result))"
   ]
  },
  {
   "cell_type": "code",
   "execution_count": 80,
   "metadata": {},
   "outputs": [
    {
     "name": "stdout",
     "output_type": "stream",
     "text": [
      "[1, 4, 9, 16, 25, 36, 49, 64, 81, 100]\n"
     ]
    }
   ],
   "source": [
    "l=[1,2,3,4,5,6,7,8,9,10]\n",
    "result=list(map(lambda x:x**2,l))\n",
    "print(result)"
   ]
  },
  {
   "cell_type": "code",
   "execution_count": 81,
   "metadata": {},
   "outputs": [
    {
     "name": "stdout",
     "output_type": "stream",
     "text": [
      "[4, 16, 36, 64, 100]\n"
     ]
    }
   ],
   "source": [
    "l=[1,2,3,4,5,6,7,8,9,10]\n",
    "filtList=list(filter(lambda x:x%2==0,l))\n",
    "result=list(map(lambda x:x**2,filtList))\n",
    "print(result)"
   ]
  },
  {
   "cell_type": "code",
   "execution_count": 84,
   "metadata": {},
   "outputs": [
    {
     "name": "stdout",
     "output_type": "stream",
     "text": [
      "[<function <lambda> at 0x00000227AE52EB80>]\n"
     ]
    }
   ],
   "source": [
    "l=[]\n",
    "for i in range(1,21):\n",
    "    l.append(i)\n",
    "result=filter(lambda x:x%2==0,l)\n",
    "print(list(result))"
   ]
  },
  {
   "cell_type": "code",
   "execution_count": null,
   "metadata": {},
   "outputs": [],
   "source": [
    "l=[]\n",
    "for i in range(1,21):\n",
    "    l.append(i)\n",
    "result=list(map(lambda x:x**2,l))\n",
    "print(result)"
   ]
  },
  {
   "cell_type": "code",
   "execution_count": null,
   "metadata": {},
   "outputs": [],
   "source": [
    "class American():\n",
    "    @staticmethod\n",
    "    def printNationality():\n",
    "        return 1"
   ]
  },
  {
   "cell_type": "code",
   "execution_count": null,
   "metadata": {},
   "outputs": [],
   "source": [
    "class American():\n",
    "    def display(self):\n",
    "        print(\"This is parent class\")\n",
    "class Newyorker(American):\n",
    "    def display(self):\n",
    "        print(\"This is subclass\")"
   ]
  },
  {
   "cell_type": "code",
   "execution_count": 2,
   "metadata": {},
   "outputs": [],
   "source": [
    "class Circle():\n",
    "    radius=0\n",
    "    def __init__(self,radius):\n",
    "        self.radius=radius\n",
    "    def area(self):\n",
    "        area=3.14*self.radius*self.radius\n",
    "        return area"
   ]
  },
  {
   "cell_type": "code",
   "execution_count": 3,
   "metadata": {},
   "outputs": [],
   "source": [
    "class Rectangle():\n",
    "    length=0\n",
    "    width=0\n",
    "    def __init__(self,length,width):\n",
    "        self.length=length\n",
    "        self.width=width\n",
    "    def area(self):\n",
    "        area=self.length*self.width\n",
    "        return area"
   ]
  },
  {
   "cell_type": "code",
   "execution_count": 4,
   "metadata": {},
   "outputs": [],
   "source": [
    "class Shape:\n",
    "    def area(self):\n",
    "        print(\"This is superclass method\")\n",
    "class Square(Shape):\n",
    "    length=0\n",
    "    def __init__(self,length):\n",
    "        self.length=length\n",
    "    def area(self):\n",
    "        area=self.length*self.length\n",
    "        return area"
   ]
  },
  {
   "cell_type": "code",
   "execution_count": 5,
   "metadata": {},
   "outputs": [
    {
     "name": "stdout",
     "output_type": "stream",
     "text": [
      "Exception occurred- Zero division\n"
     ]
    }
   ],
   "source": [
    "try:\n",
    "    print(5/0)\n",
    "except:\n",
    "    print(\"Exception occurred- Zero division\")"
   ]
  },
  {
   "cell_type": "code",
   "execution_count": 6,
   "metadata": {},
   "outputs": [],
   "source": [
    "class myException(Exception):\n",
    "    message=\"\"\n",
    "    def __init__(self,message):\n",
    "        self.message=message"
   ]
  },
  {
   "cell_type": "code",
   "execution_count": 8,
   "metadata": {},
   "outputs": [
    {
     "name": "stdout",
     "output_type": "stream",
     "text": [
      "surbhi@gmail.com\n",
      "surbhi\n"
     ]
    }
   ],
   "source": [
    "email=input()\n",
    "separator = '@'\n",
    "result = email.split(separator, 1)[0]\n",
    "print(result)"
   ]
  },
  {
   "cell_type": "code",
   "execution_count": 12,
   "metadata": {},
   "outputs": [
    {
     "name": "stdout",
     "output_type": "stream",
     "text": [
      "surbhi@gmail.com\n",
      "gmail\n"
     ]
    }
   ],
   "source": [
    "email=input()\n",
    "result=email.split('@')[1].lstrip().split('.')[0]\n",
    "print(result)"
   ]
  },
  {
   "cell_type": "code",
   "execution_count": 13,
   "metadata": {},
   "outputs": [
    {
     "name": "stdout",
     "output_type": "stream",
     "text": [
      "2 cats and 3 dogs.\n",
      "['2', '3']\n"
     ]
    }
   ],
   "source": [
    "import re\n",
    "words=input()\n",
    "regex='\\d+'\n",
    "match=re.findall(regex,words)\n",
    "print(match)"
   ]
  },
  {
   "cell_type": "code",
   "execution_count": 15,
   "metadata": {},
   "outputs": [
    {
     "name": "stdout",
     "output_type": "stream",
     "text": [
      "Hello world\n"
     ]
    }
   ],
   "source": [
    "print(u'Hello world')"
   ]
  },
  {
   "cell_type": "code",
   "execution_count": 16,
   "metadata": {},
   "outputs": [
    {
     "name": "stdout",
     "output_type": "stream",
     "text": [
      "surbhi\n"
     ]
    },
    {
     "ename": "NameError",
     "evalue": "name 'unicode' is not defined",
     "output_type": "error",
     "traceback": [
      "\u001b[1;31m---------------------------------------------------------------------------\u001b[0m",
      "\u001b[1;31mNameError\u001b[0m                                 Traceback (most recent call last)",
      "\u001b[1;32m<ipython-input-16-0ed7c21bec27>\u001b[0m in \u001b[0;36m<module>\u001b[1;34m\u001b[0m\n\u001b[0;32m      1\u001b[0m \u001b[0mstring\u001b[0m\u001b[1;33m=\u001b[0m\u001b[0minput\u001b[0m\u001b[1;33m(\u001b[0m\u001b[1;33m)\u001b[0m\u001b[1;33m\u001b[0m\u001b[1;33m\u001b[0m\u001b[0m\n\u001b[1;32m----> 2\u001b[1;33m \u001b[0munistring\u001b[0m\u001b[1;33m=\u001b[0m\u001b[0municode\u001b[0m\u001b[1;33m(\u001b[0m\u001b[0mstring\u001b[0m\u001b[1;33m)\u001b[0m\u001b[1;33m\u001b[0m\u001b[1;33m\u001b[0m\u001b[0m\n\u001b[0m",
      "\u001b[1;31mNameError\u001b[0m: name 'unicode' is not defined"
     ]
    }
   ],
   "source": [
    "string=input()\n",
    "unistring=unicode(string)"
   ]
  },
  {
   "cell_type": "code",
   "execution_count": 17,
   "metadata": {},
   "outputs": [
    {
     "data": {
      "text/plain": [
       "62"
      ]
     },
     "execution_count": 17,
     "metadata": {},
     "output_type": "execute_result"
    }
   ],
   "source": [
    "62"
   ]
  },
  {
   "cell_type": "code",
   "execution_count": null,
   "metadata": {},
   "outputs": [],
   "source": [
    "num = int(input(\"Enter a number: \"))\n",
    "newnum = 0\n",
    "\n",
    "for each in range(1,num+1):\n",
    "    newnum = newnum+(each/(each+1))\n",
    "\n",
    "print(\"computed value : \",format(round(newnum,2)))"
   ]
  },
  {
   "cell_type": "code",
   "execution_count": 18,
   "metadata": {},
   "outputs": [
    {
     "name": "stdout",
     "output_type": "stream",
     "text": [
      "501\n"
     ]
    }
   ],
   "source": [
    "def f(n):\n",
    "    if n==0:\n",
    "        return 1\n",
    "    else:\n",
    "        return f(n-1)+100\n",
    "print(f(5))"
   ]
  },
  {
   "cell_type": "code",
   "execution_count": 19,
   "metadata": {},
   "outputs": [
    {
     "name": "stdout",
     "output_type": "stream",
     "text": [
      "13\n"
     ]
    }
   ],
   "source": [
    "def f(n):\n",
    "    if n==0:\n",
    "        return 0\n",
    "    elif n==1:\n",
    "        return 1\n",
    "    else:\n",
    "        return f(n-1)+f(n-2)\n",
    "print(f(7))"
   ]
  },
  {
   "cell_type": "code",
   "execution_count": 21,
   "metadata": {},
   "outputs": [
    {
     "name": "stdout",
     "output_type": "stream",
     "text": [
      "[1, 1, 2, 3, 5, 8, 13]\n"
     ]
    }
   ],
   "source": [
    "series=[]\n",
    "series.append(1)\n",
    "series.append(1)\n",
    "[series.append(series[k-1]+series[k-2]) for k in range(2,7)]\n",
    "print(series)"
   ]
  },
  {
   "cell_type": "code",
   "execution_count": 27,
   "metadata": {},
   "outputs": [
    {
     "name": "stdout",
     "output_type": "stream",
     "text": [
      "0\n",
      "2\n",
      "4\n",
      "6\n",
      "8\n",
      "10\n"
     ]
    }
   ],
   "source": [
    "def evenFunc(n):\n",
    "    for i in range(n+1):\n",
    "        if i%2==0:\n",
    "            yield i\n",
    "            \n",
    "for j in evenFunc(10):\n",
    "    print(j, sep=\", \")"
   ]
  },
  {
   "cell_type": "code",
   "execution_count": 30,
   "metadata": {},
   "outputs": [
    {
     "name": "stdout",
     "output_type": "stream",
     "text": [
      "0\n",
      "35\n",
      "70\n"
     ]
    }
   ],
   "source": [
    "def gen_func(n):\n",
    "    for i in range(n+1):\n",
    "        if i%5==0 and i%7==0:\n",
    "            yield i\n",
    "for j in gen_func(100):\n",
    "    print(j,sep=\",\")"
   ]
  },
  {
   "cell_type": "code",
   "execution_count": 31,
   "metadata": {},
   "outputs": [],
   "source": [
    "l=[2,4,6,8]\n",
    "for i in l:\n",
    "    assert i%2==0"
   ]
  },
  {
   "cell_type": "code",
   "execution_count": 32,
   "metadata": {},
   "outputs": [
    {
     "name": "stdout",
     "output_type": "stream",
     "text": [
      "35+3\n",
      "38\n"
     ]
    }
   ],
   "source": [
    "exp=input()\n",
    "result=eval(exp)\n",
    "print(result)"
   ]
  },
  {
   "cell_type": "code",
   "execution_count": null,
   "metadata": {},
   "outputs": [],
   "source": [
    "\n",
    "def binary_search(arr, low, high, x):\n",
    "\n",
    "\t# Check base case\n",
    "\tif high >= low:\n",
    "\n",
    "\t\tmid = (high + low) // 2\n",
    "\n",
    "\t\t# If element is present at the middle itself\n",
    "\t\tif arr[mid] == x:\n",
    "\t\t\treturn mid\n",
    "\n",
    "\t\t# If element is smaller than mid, then it can only\n",
    "\t\t# be present in left subarray\n",
    "\t\telif arr[mid] > x:\n",
    "\t\t\treturn binary_search(arr, low, mid - 1, x)\n",
    "\n",
    "\t\t# Else the element can only be present in right subarray\n",
    "\t\telse:\n",
    "\t\t\treturn binary_search(arr, mid + 1, high, x)\n",
    "\n",
    "\telse:\n",
    "\t\t# Element is not present in the array\n",
    "\t\treturn -1\n",
    "\n",
    "# Test array\n",
    "arr = [ 2, 3, 4, 10, 40 ]\n",
    "x = 10\n",
    "\n",
    "# Function call\n",
    "result = binary_search(arr, 0, len(arr)-1, x)\n",
    "\n",
    "if result != -1:\n",
    "\tprint(\"Element is present at index\", str(result))\n",
    "else:\n",
    "\tprint(\"Element is not present in array\")\n"
   ]
  },
  {
   "cell_type": "code",
   "execution_count": 33,
   "metadata": {},
   "outputs": [
    {
     "name": "stdout",
     "output_type": "stream",
     "text": [
      "92.69434375333232\n"
     ]
    }
   ],
   "source": [
    "import random\n",
    "r=random.uniform(10,100)\n",
    "print(r)"
   ]
  },
  {
   "cell_type": "code",
   "execution_count": 34,
   "metadata": {},
   "outputs": [
    {
     "name": "stdout",
     "output_type": "stream",
     "text": [
      "57.03072710361024\n"
     ]
    }
   ],
   "source": [
    "import random\n",
    "r=random.uniform(5,95)\n",
    "print(r)"
   ]
  },
  {
   "cell_type": "code",
   "execution_count": 35,
   "metadata": {},
   "outputs": [
    {
     "name": "stdout",
     "output_type": "stream",
     "text": [
      "8\n"
     ]
    }
   ],
   "source": [
    "import random\n",
    "l=[]\n",
    "for i in range(0,11):\n",
    "    if i%2==0:\n",
    "        l.append(i)\n",
    "r=random.choice(l)\n",
    "print(r)"
   ]
  },
  {
   "cell_type": "code",
   "execution_count": 36,
   "metadata": {},
   "outputs": [
    {
     "name": "stdout",
     "output_type": "stream",
     "text": [
      "0\n"
     ]
    }
   ],
   "source": [
    "import random\n",
    "l=[]\n",
    "for i in range(0,11):\n",
    "    if i%5==0 and i%7==0:\n",
    "        l.append(i)\n",
    "r=random.choice(l)\n",
    "print(r)"
   ]
  },
  {
   "cell_type": "code",
   "execution_count": 37,
   "metadata": {},
   "outputs": [
    {
     "name": "stdout",
     "output_type": "stream",
     "text": [
      "[122, 116, 124, 108, 142]\n"
     ]
    }
   ],
   "source": [
    "import random\n",
    "l=[item for item in range(100, 201)]\n",
    "randomList=random.sample(l,5)\n",
    "print(randomList)"
   ]
  },
  {
   "cell_type": "code",
   "execution_count": 39,
   "metadata": {},
   "outputs": [
    {
     "name": "stdout",
     "output_type": "stream",
     "text": [
      "[162, 106, 174, 166, 192]\n"
     ]
    }
   ],
   "source": [
    "import random\n",
    "l=[item for item in range(100, 201,2)]\n",
    "randomList=random.sample(l,5)\n",
    "print(randomList)"
   ]
  },
  {
   "cell_type": "code",
   "execution_count": 40,
   "metadata": {},
   "outputs": [
    {
     "name": "stdout",
     "output_type": "stream",
     "text": [
      "[280, 525, 735, 210, 700]\n"
     ]
    }
   ],
   "source": [
    "import random\n",
    "l=[]\n",
    "for i in range(1,1001):\n",
    "    if i%5==0 and i%7==0:\n",
    "        l.append(i)\n",
    "randomList=random.sample(l,5)\n",
    "print(randomList)"
   ]
  },
  {
   "cell_type": "code",
   "execution_count": 41,
   "metadata": {},
   "outputs": [
    {
     "name": "stdout",
     "output_type": "stream",
     "text": [
      "9\n"
     ]
    }
   ],
   "source": [
    "import random\n",
    "print(random.randrange(7,15))"
   ]
  },
  {
   "cell_type": "code",
   "execution_count": 42,
   "metadata": {},
   "outputs": [
    {
     "name": "stdout",
     "output_type": "stream",
     "text": [
      "ris etov ot esir\n"
     ]
    }
   ],
   "source": [
    "s = \"rise to vote sir\"\n",
    "print(s[::-1])"
   ]
  },
  {
   "cell_type": "code",
   "execution_count": 43,
   "metadata": {},
   "outputs": [
    {
     "name": "stdout",
     "output_type": "stream",
     "text": [
      "Helloworld\n"
     ]
    }
   ],
   "source": [
    "s = \"H1e2l3l4o5w6o7r8l9d\"\n",
    "print(s[::2])"
   ]
  },
  {
   "cell_type": "code",
   "execution_count": 44,
   "metadata": {},
   "outputs": [
    {
     "name": "stdout",
     "output_type": "stream",
     "text": [
      "[(1, 2, 3), (1, 3, 2), (2, 1, 3), (2, 3, 1), (3, 1, 2), (3, 2, 1)]\n"
     ]
    }
   ],
   "source": [
    "l = [1,2,3]\n",
    "from itertools import permutations\n",
    "l1 = list(permutations(l))\n",
    "print(l1)"
   ]
  },
  {
   "cell_type": "code",
   "execution_count": null,
   "metadata": {},
   "outputs": [],
   "source": []
  }
 ],
 "metadata": {
  "kernelspec": {
   "display_name": "Python 3",
   "language": "python",
   "name": "python3"
  },
  "language_info": {
   "codemirror_mode": {
    "name": "ipython",
    "version": 3
   },
   "file_extension": ".py",
   "mimetype": "text/x-python",
   "name": "python",
   "nbconvert_exporter": "python",
   "pygments_lexer": "ipython3",
   "version": "3.8.3"
  }
 },
 "nbformat": 4,
 "nbformat_minor": 4
}
